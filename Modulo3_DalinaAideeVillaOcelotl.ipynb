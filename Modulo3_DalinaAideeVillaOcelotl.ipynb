{
  "nbformat": 4,
  "nbformat_minor": 0,
  "metadata": {
    "colab": {
      "provenance": []
    },
    "kernelspec": {
      "name": "python3",
      "display_name": "Python 3"
    },
    "language_info": {
      "name": "python"
    }
  },
  "cells": [
    {
      "cell_type": "code",
      "execution_count": 1,
      "metadata": {
        "colab": {
          "base_uri": "https://localhost:8080/"
        },
        "id": "QesaRQcH7glo",
        "outputId": "6419437d-f6eb-4e87-f23f-38981b681c13"
      },
      "outputs": [
        {
          "output_type": "execute_result",
          "data": {
            "text/plain": [
              "True"
            ]
          },
          "metadata": {},
          "execution_count": 1
        }
      ],
      "source": [
        "#####Conditions\n",
        "######Comparison Operators\n",
        "# Equal Condition\n",
        "a = 10\n",
        "a == 20\n",
        "\n",
        "# Greater than\n",
        "i = 30\n",
        "i > a\n",
        "\n",
        "# Inequality sign\n",
        "i = 0\n",
        "i != 1\n",
        "\n",
        "# Comparing Strings\n",
        "\"Pinguino Morado\" == \"Minguino Porado\"\n",
        "\n",
        "# Inequalityu for string comparison\n",
        "\"Pinguino Morado\" != \"Minguino Porado\"\n",
        "\n",
        "# Characters comparison\n",
        "'Z' > 'G'\n",
        "\n"
      ]
    },
    {
      "cell_type": "code",
      "source": [
        "######Branching\n",
        "# If statement\n",
        "\n",
        "your_age = 27\n",
        "\n",
        "if your_age > 18:\n",
        "    print(\"ir a fiesta\")\n",
        "\n",
        "print(\"please move on\")\n",
        "\n",
        "\n"
      ],
      "metadata": {
        "colab": {
          "base_uri": "https://localhost:8080/"
        },
        "id": "EWLbBOZM7zkk",
        "outputId": "65d6064b-7897-4338-d605-4b28d6bfaad1"
      },
      "execution_count": 2,
      "outputs": [
        {
          "output_type": "stream",
          "name": "stdout",
          "text": [
            "ir a fiesta\n",
            "please move on\n",
            "Go to see \n",
            "please move on\n",
            "mmm... ir a fiesta\n",
            "please move on\n"
          ]
        }
      ]
    },
    {
      "cell_type": "code",
      "source": [
        "# Else statement\n",
        "\n",
        "your_age = 15\n",
        "\n",
        "if your_age > 18:\n",
        "    print(\"ir a fiesta\")\n",
        "else:\n",
        "    print(\"Go to see \")\n",
        "\n",
        "print(\"please move on\")\n",
        "\n",
        "\n"
      ],
      "metadata": {
        "colab": {
          "base_uri": "https://localhost:8080/"
        },
        "id": "2SJblq3J8c-_",
        "outputId": "490a9eb0-94f9-4f8f-bdaa-ca72e99aab36"
      },
      "execution_count": 3,
      "outputs": [
        {
          "output_type": "stream",
          "name": "stdout",
          "text": [
            "Go to see \n",
            "please move on\n"
          ]
        }
      ]
    },
    {
      "cell_type": "code",
      "source": [
        "# Elif statement\n",
        "\n",
        "your_age = 18\n",
        "\n",
        "if your_age > 18:\n",
        "    print(\"ir a fiesta\")\n",
        "elif your_age == 18:\n",
        "    print(\"mmm... ir a fiesta\")\n",
        "else:\n",
        "    print(\"Go to see \")\n",
        "\n",
        "print(\"please move on\")"
      ],
      "metadata": {
        "colab": {
          "base_uri": "https://localhost:8080/"
        },
        "id": "x_HMogJI8eqc",
        "outputId": "2b7f9e27-254c-4ce2-8db6-a23254aba6cb"
      },
      "execution_count": 4,
      "outputs": [
        {
          "output_type": "stream",
          "name": "stdout",
          "text": [
            "mmm... ir a fiesta\n",
            "please move on\n"
          ]
        }
      ]
    },
    {
      "cell_type": "code",
      "source": [
        "# Condition statement example\n",
        "\n",
        "year_of_birth = 1957\n",
        "\n",
        "if (year_of_birth > 1945) and (year_of_birth < 1965):\n",
        "    print(\"You are a baby boomer\")\n",
        "\n",
        "# Condition statement example\n",
        "\n",
        "naciemiento = 1995\n",
        "\n",
        "if(naciemiento < 1970) or (naciemiento > 1979):\n",
        "    print (\"nacio en otra epoca\")\n",
        "else:\n",
        "    print(\"es actual \")\n",
        "\n",
        "he_loves_you = True\n",
        "\n",
        "if not (he_loves_you == False):\n",
        "    print(\"oki\")\n"
      ],
      "metadata": {
        "colab": {
          "base_uri": "https://localhost:8080/"
        },
        "id": "gicrJNod8Y5t",
        "outputId": "5697396d-a695-4964-edcb-2c6cd8b1cd25"
      },
      "execution_count": 8,
      "outputs": [
        {
          "output_type": "stream",
          "name": "stdout",
          "text": [
            "You are a baby boomer\n",
            "nacio en otra epoca\n",
            "oki\n"
          ]
        }
      ]
    }
  ]
}