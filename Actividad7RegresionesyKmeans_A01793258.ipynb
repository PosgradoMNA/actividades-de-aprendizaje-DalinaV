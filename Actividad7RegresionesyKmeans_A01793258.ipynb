{
  "nbformat": 4,
  "nbformat_minor": 0,
  "metadata": {
    "kernelspec": {
      "display_name": "Python 3",
      "language": "python",
      "name": "python3"
    },
    "language_info": {
      "codemirror_mode": {
        "name": "ipython",
        "version": 3
      },
      "file_extension": ".py",
      "mimetype": "text/x-python",
      "name": "python",
      "nbconvert_exporter": "python",
      "pygments_lexer": "ipython3",
      "version": "3.7.7"
    },
    "colab": {
      "provenance": [],
      "collapsed_sections": [
        "WUO-kdryVQwK",
        "_Rv-RJSnVQwR"
      ],
      "include_colab_link": true
    },
    "accelerator": "GPU"
  },
  "cells": [
    {
      "cell_type": "markdown",
      "metadata": {
        "id": "view-in-github",
        "colab_type": "text"
      },
      "source": [
        "<a href=\"https://colab.research.google.com/github/PosgradoMNA/actividades-de-aprendizaje-DalinaV/blob/main/Actividad7RegresionesyKmeans_A01793258.ipynb\" target=\"_parent\"><img src=\"https://colab.research.google.com/assets/colab-badge.svg\" alt=\"Open In Colab\"/></a>"
      ]
    },
    {
      "cell_type": "markdown",
      "source": [
        "#**Maestría en Inteligencia Artificial Aplicada**\n",
        "## *Ciencia y Analítica de Datos*\n",
        "\n",
        "\n",
        "####**Curso: Ciencia y analítica de datos (Gpo 10)**\n",
        "\n",
        "\n",
        "\n",
        "#**Actividad Semanal -- 7 Regresiones y K means**\n",
        "\n",
        "\n",
        "####**Prof.Maria de la Paz Rico**\n",
        "\n",
        "\n",
        "####**09 de noviembre de 2022**\n",
        "\n",
        "\n",
        "###**Nombre del estudiante: Dalina Aidee Villa Ocelotl**\n",
        "\n",
        "###**Matrícula: A01793258**\n",
        "\n"
      ],
      "metadata": {
        "id": "IZCj3BWB10vT"
      }
    },
    {
      "cell_type": "markdown",
      "metadata": {
        "id": "WUO-kdryVQwK"
      },
      "source": [
        "# Linear Models\n"
      ]
    },
    {
      "cell_type": "markdown",
      "metadata": {
        "id": "u3ytB4LpVQwM"
      },
      "source": [
        "- In supervised learning, the training data fed to the algorithm includes the desired solutions, called labels. \n",
        "- In **regression**, the labels are continuous quantities.\n",
        "- Linear models predict by computing a weighted sum of input features plus a bias term.\n",
        "\n",
        "\n",
        "\n",
        "- En el aprendizaje supervisado, los datos de entrenamiento introducidos en el algoritmo incluyen las soluciones deseadas, llamadas etiquetas. \n",
        "- En la **regresión**, las etiquetas son cantidades continuas.\n",
        "- Los modelos lineales predicen calculando una suma ponderada de las características de entrada más un término de sesgo."
      ]
    },
    {
      "cell_type": "code",
      "source": [
        "## importamos algunos paquetes que utilizaremos \n",
        "\n",
        "import numpy as np\n",
        "import pandas as pd\n",
        "import matplotlib.pyplot as plt \n",
        "import seaborn as sns  \n",
        "import os\n",
        "\n",
        "from sklearn.pipeline import Pipeline\n",
        "from sklearn.model_selection import KFold\n",
        "from sklearn.compose import ColumnTransformer\n",
        "from sklearn.preprocessing import power_transform\n",
        "from sklearn.preprocessing import FunctionTransformer\n",
        "\n",
        "from sklearn.impute import SimpleImputer\n",
        "from sklearn.preprocessing import MinMaxScaler  \n",
        "from sklearn.linear_model import LinearRegression"
      ],
      "metadata": {
        "id": "Lsu04gV44qwm"
      },
      "execution_count": 1,
      "outputs": []
    },
    {
      "cell_type": "code",
      "metadata": {
        "id": "HMp_I4Y6VQwN"
      },
      "source": [
        "import numpy as np\n",
        "%matplotlib inline\n",
        "import matplotlib\n",
        "import matplotlib.pyplot as plt\n",
        "import pandas as pd\n",
        "import seaborn as sns\n",
        "# to make this notebook's output stable across runs\n",
        "np.random.seed(42)"
      ],
      "execution_count": 2,
      "outputs": []
    },
    {
      "cell_type": "code",
      "source": [
        "5-2"
      ],
      "metadata": {
        "colab": {
          "base_uri": "https://localhost:8080/"
        },
        "id": "exg6xSYf3F5D",
        "outputId": "472ce471-afc8-4fc1-feb9-7fc91a098ac4"
      },
      "execution_count": 3,
      "outputs": [
        {
          "output_type": "execute_result",
          "data": {
            "text/plain": [
              "3"
            ]
          },
          "metadata": {},
          "execution_count": 3
        }
      ]
    },
    {
      "cell_type": "markdown",
      "metadata": {
        "id": "szpzFXgiVQwN"
      },
      "source": [
        "## Simple Linear Regression\n",
        "\n",
        "Simple linear regression equation:\n",
        "\n",
        "$y = ax + b$\n",
        "<br>\n",
        "$a$: slope\n",
        "<br>\n",
        "$b$: intercept\n",
        "\n",
        "Generate linear-looking data with the equation:\n",
        "\n",
        "$y = 3X + 4 + noise$"
      ]
    },
    {
      "cell_type": "code",
      "metadata": {
        "colab": {
          "base_uri": "https://localhost:8080/"
        },
        "id": "mitJFYeiMQqD",
        "outputId": "013249a3-8345-456d-b817-85cd22259366"
      },
      "source": [
        "np.random.rand(100, 1)"
      ],
      "execution_count": 4,
      "outputs": [
        {
          "output_type": "execute_result",
          "data": {
            "text/plain": [
              "array([[0.37454012],\n",
              "       [0.95071431],\n",
              "       [0.73199394],\n",
              "       [0.59865848],\n",
              "       [0.15601864],\n",
              "       [0.15599452],\n",
              "       [0.05808361],\n",
              "       [0.86617615],\n",
              "       [0.60111501],\n",
              "       [0.70807258],\n",
              "       [0.02058449],\n",
              "       [0.96990985],\n",
              "       [0.83244264],\n",
              "       [0.21233911],\n",
              "       [0.18182497],\n",
              "       [0.18340451],\n",
              "       [0.30424224],\n",
              "       [0.52475643],\n",
              "       [0.43194502],\n",
              "       [0.29122914],\n",
              "       [0.61185289],\n",
              "       [0.13949386],\n",
              "       [0.29214465],\n",
              "       [0.36636184],\n",
              "       [0.45606998],\n",
              "       [0.78517596],\n",
              "       [0.19967378],\n",
              "       [0.51423444],\n",
              "       [0.59241457],\n",
              "       [0.04645041],\n",
              "       [0.60754485],\n",
              "       [0.17052412],\n",
              "       [0.06505159],\n",
              "       [0.94888554],\n",
              "       [0.96563203],\n",
              "       [0.80839735],\n",
              "       [0.30461377],\n",
              "       [0.09767211],\n",
              "       [0.68423303],\n",
              "       [0.44015249],\n",
              "       [0.12203823],\n",
              "       [0.49517691],\n",
              "       [0.03438852],\n",
              "       [0.9093204 ],\n",
              "       [0.25877998],\n",
              "       [0.66252228],\n",
              "       [0.31171108],\n",
              "       [0.52006802],\n",
              "       [0.54671028],\n",
              "       [0.18485446],\n",
              "       [0.96958463],\n",
              "       [0.77513282],\n",
              "       [0.93949894],\n",
              "       [0.89482735],\n",
              "       [0.59789998],\n",
              "       [0.92187424],\n",
              "       [0.0884925 ],\n",
              "       [0.19598286],\n",
              "       [0.04522729],\n",
              "       [0.32533033],\n",
              "       [0.38867729],\n",
              "       [0.27134903],\n",
              "       [0.82873751],\n",
              "       [0.35675333],\n",
              "       [0.28093451],\n",
              "       [0.54269608],\n",
              "       [0.14092422],\n",
              "       [0.80219698],\n",
              "       [0.07455064],\n",
              "       [0.98688694],\n",
              "       [0.77224477],\n",
              "       [0.19871568],\n",
              "       [0.00552212],\n",
              "       [0.81546143],\n",
              "       [0.70685734],\n",
              "       [0.72900717],\n",
              "       [0.77127035],\n",
              "       [0.07404465],\n",
              "       [0.35846573],\n",
              "       [0.11586906],\n",
              "       [0.86310343],\n",
              "       [0.62329813],\n",
              "       [0.33089802],\n",
              "       [0.06355835],\n",
              "       [0.31098232],\n",
              "       [0.32518332],\n",
              "       [0.72960618],\n",
              "       [0.63755747],\n",
              "       [0.88721274],\n",
              "       [0.47221493],\n",
              "       [0.11959425],\n",
              "       [0.71324479],\n",
              "       [0.76078505],\n",
              "       [0.5612772 ],\n",
              "       [0.77096718],\n",
              "       [0.4937956 ],\n",
              "       [0.52273283],\n",
              "       [0.42754102],\n",
              "       [0.02541913],\n",
              "       [0.10789143]])"
            ]
          },
          "metadata": {},
          "execution_count": 4
        }
      ]
    },
    {
      "cell_type": "code",
      "metadata": {
        "colab": {
          "base_uri": "https://localhost:8080/",
          "height": 0
        },
        "id": "QyubE1VEVQwN",
        "outputId": "a6aba4e7-baaf-46a0-9f7b-bf2be808bbe0"
      },
      "source": [
        "X = 2*np.random.rand(100, 1)\n",
        "y = 4 + 3 * X + np.random.randn(100, 1)\n",
        "plt.scatter(X, y);"
      ],
      "execution_count": 5,
      "outputs": [
        {
          "output_type": "display_data",
          "data": {
            "text/plain": [
              "<Figure size 432x288 with 1 Axes>"
            ],
            "image/png": "[encoded data removed]"
          },
          "metadata": {
            "needs_background": "light"
          }
        }
      ]
    },
    {
      "cell_type": "code",
      "source": [
        "import pandas as pd\n",
        "pd.DataFrame(y)"
      ],
      "metadata": {
        "colab": {
          "base_uri": "https://localhost:8080/",
          "height": 0
        },
        "id": "M5kaENJ4bZY5",
        "outputId": "962db2b1-e2df-4710-df31-4543737dbd95"
      },
      "execution_count": 6,
      "outputs": [
        {
          "output_type": "execute_result",
          "data": {
            "text/plain": [
              "            0\n",
              "0    3.508550\n",
              "1    8.050716\n",
              "2    6.179208\n",
              "3    6.337073\n",
              "4   11.311173\n",
              "..        ...\n",
              "95   5.441928\n",
              "96  10.121188\n",
              "97   9.787643\n",
              "98   8.061635\n",
              "99   9.597115\n",
              "\n",
              "[100 rows x 1 columns]"
            ],
            "text/html": [
              "\n",
              "  <div id=\"df-b1eef395-7851-4014-b584-0e367645f191\">\n",
              "    <div class=\"colab-df-container\">\n",
              "      <div>\n",
              "<style scoped>\n",
              "    .dataframe tbody tr th:only-of-type {\n",
              "        vertical-align: middle;\n",
              "    }\n",
              "\n",
              "    .dataframe tbody tr th {\n",
              "        vertical-align: top;\n",
              "    }\n",
              "\n",
              "    .dataframe thead th {\n",
              "        text-align: right;\n",
              "    }\n",
              "</style>\n",
              "<table border=\"1\" class=\"dataframe\">\n",
              "  <thead>\n",
              "    <tr style=\"text-align: right;\">\n",
              "      <th></th>\n",
              "      <th>0</th>\n",
              "    </tr>\n",
              "  </thead>\n",
              "  <tbody>\n",
              "    <tr>\n",
              "      <th>0</th>\n",
              "      <td>3.508550</td>\n",
              "    </tr>\n",
              "    <tr>\n",
              "      <th>1</th>\n",
              "      <td>8.050716</td>\n",
              "    </tr>\n",
              "    <tr>\n",
              "      <th>2</th>\n",
              "      <td>6.179208</td>\n",
              "    </tr>\n",
              "    <tr>\n",
              "      <th>3</th>\n",
              "      <td>6.337073</td>\n",
              "    </tr>\n",
              "    <tr>\n",
              "      <th>4</th>\n",
              "      <td>11.311173</td>\n",
              "    </tr>\n",
              "    <tr>\n",
              "      <th>...</th>\n",
              "      <td>...</td>\n",
              "    </tr>\n",
              "    <tr>\n",
              "      <th>95</th>\n",
              "      <td>5.441928</td>\n",
              "    </tr>\n",
              "    <tr>\n",
              "      <th>96</th>\n",
              "      <td>10.121188</td>\n",
              "    </tr>\n",
              "    <tr>\n",
              "      <th>97</th>\n",
              "      <td>9.787643</td>\n",
              "    </tr>\n",
              "    <tr>\n",
              "      <th>98</th>\n",
              "      <td>8.061635</td>\n",
              "    </tr>\n",
              "    <tr>\n",
              "      <th>99</th>\n",
              "      <td>9.597115</td>\n",
              "    </tr>\n",
              "  </tbody>\n",
              "</table>\n",
              "<p>100 rows × 1 columns</p>\n",
              "</div>\n",
              "      <button class=\"colab-df-convert\" onclick=\"convertToInteractive('df-b1eef395-7851-4014-b584-0e367645f191')\"\n",
              "              title=\"Convert this dataframe to an interactive table.\"\n",
              "              style=\"display:none;\">\n",
              "        \n",
              "  <svg xmlns=\"http://www.w3.org/2000/svg\" height=\"24px\"viewBox=\"0 0 24 24\"\n",
              "       width=\"24px\">\n",
              "    <path d=\"M0 0h24v24H0V0z\" fill=\"none\"/>\n",
              "    <path d=\"M18.56 5.44l.94 2.06.94-2.06 2.06-.94-2.06-.94-.94-2.06-.94 2.06-2.06.94zm-11 1L8.5 8.5l.94-2.06 2.06-.94-2.06-.94L8.5 2.5l-.94 2.06-2.06.94zm10 10l.94 2.06.94-2.06 2.06-.94-2.06-.94-.94-2.06-.94 2.06-2.06.94z\"/><path d=\"M17.41 7.96l-1.37-1.37c-.4-.4-.92-.59-1.43-.59-.52 0-1.04.2-1.43.59L10.3 9.45l-7.72 7.72c-.78.78-.78 2.05 0 2.83L4 21.41c.39.39.9.59 1.41.59.51 0 1.02-.2 1.41-.59l7.78-7.78 2.81-2.81c.8-.78.8-2.07 0-2.86zM5.41 20L4 18.59l7.72-7.72 1.47 1.35L5.41 20z\"/>\n",
              "  </svg>\n",
              "      </button>\n",
              "      \n",
              "  <style>\n",
              "    .colab-df-container {\n",
              "      display:flex;\n",
              "      flex-wrap:wrap;\n",
              "      gap: 12px;\n",
              "    }\n",
              "\n",
              "    .colab-df-convert {\n",
              "      background-color: #E8F0FE;\n",
              "      border: none;\n",
              "      border-radius: 50%;\n",
              "      cursor: pointer;\n",
              "      display: none;\n",
              "      fill: #1967D2;\n",
              "      height: 32px;\n",
              "      padding: 0 0 0 0;\n",
              "      width: 32px;\n",
              "    }\n",
              "\n",
              "    .colab-df-convert:hover {\n",
              "      background-color: #E2EBFA;\n",
              "      box-shadow: 0px 1px 2px rgba(60, 64, 67, 0.3), 0px 1px 3px 1px rgba(60, 64, 67, 0.15);\n",
              "      fill: #174EA6;\n",
              "    }\n",
              "\n",
              "    [theme=dark] .colab-df-convert {\n",
              "      background-color: #3B4455;\n",
              "      fill: #D2E3FC;\n",
              "    }\n",
              "\n",
              "    [theme=dark] .colab-df-convert:hover {\n",
              "      background-color: #434B5C;\n",
              "      box-shadow: 0px 1px 3px 1px rgba(0, 0, 0, 0.15);\n",
              "      filter: drop-shadow(0px 1px 2px rgba(0, 0, 0, 0.3));\n",
              "      fill: #FFFFFF;\n",
              "    }\n",
              "  </style>\n",
              "\n",
              "      <script>\n",
              "        const buttonEl =\n",
              "          document.querySelector('#df-b1eef395-7851-4014-b584-0e367645f191 button.colab-df-convert');\n",
              "        buttonEl.style.display =\n",
              "          google.colab.kernel.accessAllowed ? 'block' : 'none';\n",
              "\n",
              "        async function convertToInteractive(key) {\n",
              "          const element = document.querySelector('#df-b1eef395-7851-4014-b584-0e367645f191');\n",
              "          const dataTable =\n",
              "            await google.colab.kernel.invokeFunction('convertToInteractive',\n",
              "                                                     [key], {});\n",
              "          if (!dataTable) return;\n",
              "\n",
              "          const docLinkHtml = 'Like what you see? Visit the ' +\n",
              "            '<a target=\"_blank\" href=https://colab.research.google.com/notebooks/data_table.ipynb>data table notebook</a>'\n",
              "            + ' to learn more about interactive tables.';\n",
              "          element.innerHTML = '';\n",
              "          dataTable['output_type'] = 'display_data';\n",
              "          await google.colab.output.renderOutput(dataTable, element);\n",
              "          const docLink = document.createElement('div');\n",
              "          docLink.innerHTML = docLinkHtml;\n",
              "          element.appendChild(docLink);\n",
              "        }\n",
              "      </script>\n",
              "    </div>\n",
              "  </div>\n",
              "  "
            ]
          },
          "metadata": {},
          "execution_count": 6
        }
      ]
    },
    {
      "cell_type": "code",
      "metadata": {
        "colab": {
          "base_uri": "https://localhost:8080/"
        },
        "id": "x6XGt_iAVQwO",
        "outputId": "9338dac2-e10a-4b85-fb69-6b476e7a66db"
      },
      "source": [
        "from sklearn.linear_model import LinearRegression\n",
        "\n",
        "linear_reg = LinearRegression(fit_intercept=True)\n",
        "linear_reg.fit(X, y)"
      ],
      "execution_count": 7,
      "outputs": [
        {
          "output_type": "execute_result",
          "data": {
            "text/plain": [
              "LinearRegression()"
            ]
          },
          "metadata": {},
          "execution_count": 7
        }
      ]
    },
    {
      "cell_type": "markdown",
      "metadata": {
        "id": "Hnm9YgjbVQwO"
      },
      "source": [
        "Plot the model's predictions:"
      ]
    },
    {
      "cell_type": "code",
      "metadata": {
        "id": "9NtrLfGGVQwP"
      },
      "source": [
        "#X_fit[]"
      ],
      "execution_count": 8,
      "outputs": []
    },
    {
      "cell_type": "code",
      "metadata": {
        "colab": {
          "base_uri": "https://localhost:8080/",
          "height": 0
        },
        "id": "1ZTT31igVQwP",
        "outputId": "e961eeb6-4025-468e-d711-b93a5c3a8387"
      },
      "source": [
        "# construct best fit line\n",
        "X_fit = np.linspace(0, 2, 100)\n",
        "y_fit = linear_reg.predict(X_fit[:, np.newaxis])\n",
        "\n",
        "plt.scatter(X, y)\n",
        "plt.plot(X_fit, y_fit, \"r-\", linewidth=2, label=\"Predictions\")\n",
        "plt.xlabel(\"$X$\", fontsize=18)\n",
        "plt.ylabel(\"$y$\", rotation=0, fontsize=18)\n",
        "plt.legend(loc=\"upper left\", fontsize=14);"
      ],
      "execution_count": 9,
      "outputs": [
        {
          "output_type": "display_data",
          "data": {
            "text/plain": [
              "<Figure size 432x288 with 1 Axes>"
            ],
            "image/png": "[encoded data removed]"
          },
          "metadata": {
            "needs_background": "light"
          }
        }
      ]
    },
    {
      "cell_type": "markdown",
      "metadata": {
        "id": "kIfOsEcWVQwP"
      },
      "source": [
        "Predictions are a good fit."
      ]
    },
    {
      "cell_type": "markdown",
      "metadata": {
        "id": "z2VYUeGrVQwQ"
      },
      "source": [
        "Generate new data to make predictions with the model:"
      ]
    },
    {
      "cell_type": "code",
      "metadata": {
        "colab": {
          "base_uri": "https://localhost:8080/"
        },
        "id": "FuEd0Wp0VQwQ",
        "outputId": "0cb12066-b1ff-4514-e96b-b6e595dfb22e"
      },
      "source": [
        "X_new = np.array([[0], [2]])\n",
        "X_new"
      ],
      "execution_count": 10,
      "outputs": [
        {
          "output_type": "execute_result",
          "data": {
            "text/plain": [
              "array([[0],\n",
              "       [2]])"
            ]
          },
          "metadata": {},
          "execution_count": 10
        }
      ]
    },
    {
      "cell_type": "code",
      "metadata": {
        "colab": {
          "base_uri": "https://localhost:8080/"
        },
        "id": "lLCnLm7_VQwQ",
        "outputId": "fbd9d57a-ff35-43d1-a3b2-8dc303552043"
      },
      "source": [
        "X_new.shape"
      ],
      "execution_count": 11,
      "outputs": [
        {
          "output_type": "execute_result",
          "data": {
            "text/plain": [
              "(2, 1)"
            ]
          },
          "metadata": {},
          "execution_count": 11
        }
      ]
    },
    {
      "cell_type": "code",
      "metadata": {
        "colab": {
          "base_uri": "https://localhost:8080/"
        },
        "id": "zJIzUfZsVQwQ",
        "outputId": "61ec7db8-4764-4b93-8421-5992487d4110"
      },
      "source": [
        "y_new = linear_reg.predict(X_new)\n",
        "y_new"
      ],
      "execution_count": 12,
      "outputs": [
        {
          "output_type": "execute_result",
          "data": {
            "text/plain": [
              "array([[ 3.74406122],\n",
              "       [10.47517611]])"
            ]
          },
          "metadata": {},
          "execution_count": 12
        }
      ]
    },
    {
      "cell_type": "code",
      "metadata": {
        "colab": {
          "base_uri": "https://localhost:8080/"
        },
        "id": "ICiEnkbdVQwQ",
        "outputId": "1f7041d6-124a-4b8f-e619-090a16ad2364"
      },
      "source": [
        " linear_reg.coef_, linear_reg.intercept_"
      ],
      "execution_count": 13,
      "outputs": [
        {
          "output_type": "execute_result",
          "data": {
            "text/plain": [
              "(array([[3.36555744]]), array([3.74406122]))"
            ]
          },
          "metadata": {},
          "execution_count": 13
        }
      ]
    },
    {
      "cell_type": "markdown",
      "metadata": {
        "id": "iBXzOecgVQwR"
      },
      "source": [
        "The model estimates:\n",
        "\n",
        "$\\hat{y} = 3.36X + 3.74$"
      ]
    },
    {
      "cell_type": "code",
      "metadata": {
        "id": "ZNvipq0wQYfj"
      },
      "source": [
        "#|VENTAS|GANANCIAS|\n",
        "#COEF*VENTAS+B\n",
        "#|VENTAS|COMPRAS|GANANCIAS|\n",
        "#COEF1*X1+COEF2*X2+B=Y"
      ],
      "execution_count": 14,
      "outputs": []
    },
    {
      "cell_type": "markdown",
      "metadata": {
        "id": "_Rv-RJSnVQwR"
      },
      "source": [
        "## Polynomial Regression\n",
        "\n",
        "If data is more complex than a straight line, you can use a linear model ti fit non-linear data adding powers of each feature as new features and then train a linear model on the extended set of features. "
      ]
    },
    {
      "cell_type": "markdown",
      "metadata": {
        "id": "dPrpAVsZVQwR"
      },
      "source": [
        "$$y = a_0 + a_1x_1 + a_2x_2 + a_3x_3 + ...$$ to $$y = a_0 + a_1x + a_2x^2 + a_3x^3+ ...$$ "
      ]
    },
    {
      "cell_type": "markdown",
      "metadata": {
        "id": "9kjMWzEfVQwR"
      },
      "source": [
        "This is still a linear model, the linearity refers to the fact that the coefficients never multiply or divide each other."
      ]
    },
    {
      "cell_type": "markdown",
      "metadata": {
        "id": "2M3fp_CSVQwR"
      },
      "source": [
        "To generate polynomial data we use the function:\n",
        "\n",
        "$y = 0.50X^2 + X + 2 + noise$"
      ]
    },
    {
      "cell_type": "code",
      "metadata": {
        "id": "sSrueMnPVQwR"
      },
      "source": [
        "# generate non-linear data e.g. quadratic equation\n",
        "m = 100\n",
        "X = 6 * np.random.rand(m, 1) - 3\n",
        "y = 0.5 * X**2 + X + 2 + np.random.randn(m, 1)"
      ],
      "execution_count": 15,
      "outputs": []
    },
    {
      "cell_type": "code",
      "metadata": {
        "colab": {
          "base_uri": "https://localhost:8080/",
          "height": 0
        },
        "id": "GNQQoXkMVQwS",
        "outputId": "69743eb3-21b0-4031-8596-4acad68aef4f"
      },
      "source": [
        "plt.plot(X, y, \"b.\")\n",
        "plt.xlabel(\"$x_1$\", fontsize=18)\n",
        "plt.ylabel(\"$y$\", rotation=0, fontsize=18)\n",
        "plt.axis([-3, 3, 0, 10]);"
      ],
      "execution_count": 16,
      "outputs": [
        {
          "output_type": "display_data",
          "data": {
            "text/plain": [
              "<Figure size 432x288 with 1 Axes>"
            ],
            "image/png": "[encoded data removed]"
          },
          "metadata": {
            "needs_background": "light"
          }
        }
      ]
    },
    {
      "cell_type": "code",
      "source": [
        "import pandas as pd\n",
        "pd.DataFrame(y)"
      ],
      "metadata": {
        "id": "YtaK_dsidNcP",
        "outputId": "d0daef18-0a1f-412f-8d2e-284eac77ccd4",
        "colab": {
          "base_uri": "https://localhost:8080/",
          "height": 0
        }
      },
      "execution_count": 17,
      "outputs": [
        {
          "output_type": "execute_result",
          "data": {
            "text/plain": [
              "           0\n",
              "0   8.529240\n",
              "1   3.768929\n",
              "2   3.354423\n",
              "3   2.747935\n",
              "4   0.808458\n",
              "..       ...\n",
              "95  5.346771\n",
              "96  6.338229\n",
              "97  3.488785\n",
              "98  1.372002\n",
              "99 -0.072150\n",
              "\n",
              "[100 rows x 1 columns]"
            ],
            "text/html": [
              "\n",
              "  <div id=\"df-ef1061c2-3dea-439d-a872-2adfc98a54e1\">\n",
              "    <div class=\"colab-df-container\">\n",
              "      <div>\n",
              "<style scoped>\n",
              "    .dataframe tbody tr th:only-of-type {\n",
              "        vertical-align: middle;\n",
              "    }\n",
              "\n",
              "    .dataframe tbody tr th {\n",
              "        vertical-align: top;\n",
              "    }\n",
              "\n",
              "    .dataframe thead th {\n",
              "        text-align: right;\n",
              "    }\n",
              "</style>\n",
              "<table border=\"1\" class=\"dataframe\">\n",
              "  <thead>\n",
              "    <tr style=\"text-align: right;\">\n",
              "      <th></th>\n",
              "      <th>0</th>\n",
              "    </tr>\n",
              "  </thead>\n",
              "  <tbody>\n",
              "    <tr>\n",
              "      <th>0</th>\n",
              "      <td>8.529240</td>\n",
              "    </tr>\n",
              "    <tr>\n",
              "      <th>1</th>\n",
              "      <td>3.768929</td>\n",
              "    </tr>\n",
              "    <tr>\n",
              "      <th>2</th>\n",
              "      <td>3.354423</td>\n",
              "    </tr>\n",
              "    <tr>\n",
              "      <th>3</th>\n",
              "      <td>2.747935</td>\n",
              "    </tr>\n",
              "    <tr>\n",
              "      <th>4</th>\n",
              "      <td>0.808458</td>\n",
              "    </tr>\n",
              "    <tr>\n",
              "      <th>...</th>\n",
              "      <td>...</td>\n",
              "    </tr>\n",
              "    <tr>\n",
              "      <th>95</th>\n",
              "      <td>5.346771</td>\n",
              "    </tr>\n",
              "    <tr>\n",
              "      <th>96</th>\n",
              "      <td>6.338229</td>\n",
              "    </tr>\n",
              "    <tr>\n",
              "      <th>97</th>\n",
              "      <td>3.488785</td>\n",
              "    </tr>\n",
              "    <tr>\n",
              "      <th>98</th>\n",
              "      <td>1.372002</td>\n",
              "    </tr>\n",
              "    <tr>\n",
              "      <th>99</th>\n",
              "      <td>-0.072150</td>\n",
              "    </tr>\n",
              "  </tbody>\n",
              "</table>\n",
              "<p>100 rows × 1 columns</p>\n",
              "</div>\n",
              "      <button class=\"colab-df-convert\" onclick=\"convertToInteractive('df-ef1061c2-3dea-439d-a872-2adfc98a54e1')\"\n",
              "              title=\"Convert this dataframe to an interactive table.\"\n",
              "              style=\"display:none;\">\n",
              "        \n",
              "  <svg xmlns=\"http://www.w3.org/2000/svg\" height=\"24px\"viewBox=\"0 0 24 24\"\n",
              "       width=\"24px\">\n",
              "    <path d=\"M0 0h24v24H0V0z\" fill=\"none\"/>\n",
              "    <path d=\"M18.56 5.44l.94 2.06.94-2.06 2.06-.94-2.06-.94-.94-2.06-.94 2.06-2.06.94zm-11 1L8.5 8.5l.94-2.06 2.06-.94-2.06-.94L8.5 2.5l-.94 2.06-2.06.94zm10 10l.94 2.06.94-2.06 2.06-.94-2.06-.94-.94-2.06-.94 2.06-2.06.94z\"/><path d=\"M17.41 7.96l-1.37-1.37c-.4-.4-.92-.59-1.43-.59-.52 0-1.04.2-1.43.59L10.3 9.45l-7.72 7.72c-.78.78-.78 2.05 0 2.83L4 21.41c.39.39.9.59 1.41.59.51 0 1.02-.2 1.41-.59l7.78-7.78 2.81-2.81c.8-.78.8-2.07 0-2.86zM5.41 20L4 18.59l7.72-7.72 1.47 1.35L5.41 20z\"/>\n",
              "  </svg>\n",
              "      </button>\n",
              "      \n",
              "  <style>\n",
              "    .colab-df-container {\n",
              "      display:flex;\n",
              "      flex-wrap:wrap;\n",
              "      gap: 12px;\n",
              "    }\n",
              "\n",
              "    .colab-df-convert {\n",
              "      background-color: #E8F0FE;\n",
              "      border: none;\n",
              "      border-radius: 50%;\n",
              "      cursor: pointer;\n",
              "      display: none;\n",
              "      fill: #1967D2;\n",
              "      height: 32px;\n",
              "      padding: 0 0 0 0;\n",
              "      width: 32px;\n",
              "    }\n",
              "\n",
              "    .colab-df-convert:hover {\n",
              "      background-color: #E2EBFA;\n",
              "      box-shadow: 0px 1px 2px rgba(60, 64, 67, 0.3), 0px 1px 3px 1px rgba(60, 64, 67, 0.15);\n",
              "      fill: #174EA6;\n",
              "    }\n",
              "\n",
              "    [theme=dark] .colab-df-convert {\n",
              "      background-color: #3B4455;\n",
              "      fill: #D2E3FC;\n",
              "    }\n",
              "\n",
              "    [theme=dark] .colab-df-convert:hover {\n",
              "      background-color: #434B5C;\n",
              "      box-shadow: 0px 1px 3px 1px rgba(0, 0, 0, 0.15);\n",
              "      filter: drop-shadow(0px 1px 2px rgba(0, 0, 0, 0.3));\n",
              "      fill: #FFFFFF;\n",
              "    }\n",
              "  </style>\n",
              "\n",
              "      <script>\n",
              "        const buttonEl =\n",
              "          document.querySelector('#df-ef1061c2-3dea-439d-a872-2adfc98a54e1 button.colab-df-convert');\n",
              "        buttonEl.style.display =\n",
              "          google.colab.kernel.accessAllowed ? 'block' : 'none';\n",
              "\n",
              "        async function convertToInteractive(key) {\n",
              "          const element = document.querySelector('#df-ef1061c2-3dea-439d-a872-2adfc98a54e1');\n",
              "          const dataTable =\n",
              "            await google.colab.kernel.invokeFunction('convertToInteractive',\n",
              "                                                     [key], {});\n",
              "          if (!dataTable) return;\n",
              "\n",
              "          const docLinkHtml = 'Like what you see? Visit the ' +\n",
              "            '<a target=\"_blank\" href=https://colab.research.google.com/notebooks/data_table.ipynb>data table notebook</a>'\n",
              "            + ' to learn more about interactive tables.';\n",
              "          element.innerHTML = '';\n",
              "          dataTable['output_type'] = 'display_data';\n",
              "          await google.colab.output.renderOutput(dataTable, element);\n",
              "          const docLink = document.createElement('div');\n",
              "          docLink.innerHTML = docLinkHtml;\n",
              "          element.appendChild(docLink);\n",
              "        }\n",
              "      </script>\n",
              "    </div>\n",
              "  </div>\n",
              "  "
            ]
          },
          "metadata": {},
          "execution_count": 17
        }
      ]
    },
    {
      "cell_type": "markdown",
      "metadata": {
        "id": "vrZTRaLNVQwS"
      },
      "source": [
        "Now we can use `PolynomialFeatues` to transform training data adding the square of each feature as new features."
      ]
    },
    {
      "cell_type": "code",
      "metadata": {
        "id": "BXo0Hm56VQwS"
      },
      "source": [
        "from sklearn.preprocessing import PolynomialFeatures\n",
        "\n",
        "poly_features = PolynomialFeatures(degree=2, include_bias=False)\n",
        "X_poly = poly_features.fit_transform(X)"
      ],
      "execution_count": 18,
      "outputs": []
    },
    {
      "cell_type": "code",
      "metadata": {
        "colab": {
          "base_uri": "https://localhost:8080/"
        },
        "id": "1FqY9-I4VQwS",
        "outputId": "abf1aa79-7f3e-4ed6-fe36-8b8150c29d34"
      },
      "source": [
        "X_poly"
      ],
      "execution_count": 19,
      "outputs": [
        {
          "output_type": "execute_result",
          "data": {
            "text/plain": [
              "array([[ 2.72919168e+00,  7.44848725e+00],\n",
              "       [ 1.42738150e+00,  2.03741795e+00],\n",
              "       [ 3.26124315e-01,  1.06357069e-01],\n",
              "       [ 6.70324477e-01,  4.49334905e-01],\n",
              "       [-4.82399625e-01,  2.32709399e-01],\n",
              "       [-1.51361406e+00,  2.29102753e+00],\n",
              "       [-8.64163928e-01,  7.46779295e-01],\n",
              "       [ 1.54707666e+00,  2.39344620e+00],\n",
              "       [-2.91363907e+00,  8.48929262e+00],\n",
              "       [-2.30356416e+00,  5.30640783e+00],\n",
              "       [-2.72398415e+00,  7.42008964e+00],\n",
              "       [-2.75562719e+00,  7.59348119e+00],\n",
              "       [ 2.13276350e+00,  4.54868016e+00],\n",
              "       [ 1.22194716e+00,  1.49315485e+00],\n",
              "       [-1.54957025e-01,  2.40116797e-02],\n",
              "       [-2.41299504e+00,  5.82254504e+00],\n",
              "       [-5.03047493e-02,  2.53056780e-03],\n",
              "       [-1.59169375e-01,  2.53348900e-02],\n",
              "       [-1.96078878e+00,  3.84469264e+00],\n",
              "       [-3.96890105e-01,  1.57521755e-01],\n",
              "       [-6.08971594e-01,  3.70846402e-01],\n",
              "       [ 6.95100588e-01,  4.83164828e-01],\n",
              "       [ 8.10561905e-01,  6.57010602e-01],\n",
              "       [-2.72817594e+00,  7.44294397e+00],\n",
              "       [-7.52324312e-01,  5.65991871e-01],\n",
              "       [ 7.55159494e-01,  5.70265862e-01],\n",
              "       [ 1.88175515e-02,  3.54100244e-04],\n",
              "       [ 2.13893905e+00,  4.57506025e+00],\n",
              "       [ 9.52161790e-01,  9.06612074e-01],\n",
              "       [-2.02239344e+00,  4.09007522e+00],\n",
              "       [-2.57658752e+00,  6.63880323e+00],\n",
              "       [ 8.54515669e-01,  7.30197029e-01],\n",
              "       [-2.84093214e+00,  8.07089541e+00],\n",
              "       [ 5.14653488e-01,  2.64868212e-01],\n",
              "       [ 2.64138145e+00,  6.97689596e+00],\n",
              "       [ 4.52845067e-01,  2.05068655e-01],\n",
              "       [-6.70980443e-01,  4.50214755e-01],\n",
              "       [ 8.59729311e-01,  7.39134488e-01],\n",
              "       [-2.50482657e-01,  6.27415615e-02],\n",
              "       [ 2.73700736e-01,  7.49120928e-02],\n",
              "       [ 2.64878885e+00,  7.01608239e+00],\n",
              "       [-6.83384173e-01,  4.67013928e-01],\n",
              "       [ 2.76714338e+00,  7.65708250e+00],\n",
              "       [ 2.43210385e+00,  5.91512915e+00],\n",
              "       [-1.82525319e+00,  3.33154921e+00],\n",
              "       [-2.58383219e+00,  6.67618881e+00],\n",
              "       [-2.39533199e+00,  5.73761535e+00],\n",
              "       [-2.89066905e+00,  8.35596753e+00],\n",
              "       [-2.43334224e+00,  5.92115443e+00],\n",
              "       [ 1.09804064e+00,  1.20569325e+00],\n",
              "       [-2.57286811e+00,  6.61965031e+00],\n",
              "       [-1.08614622e+00,  1.17971361e+00],\n",
              "       [ 2.06925187e+00,  4.28180328e+00],\n",
              "       [-2.86036839e+00,  8.18170730e+00],\n",
              "       [ 1.88681090e+00,  3.56005536e+00],\n",
              "       [-1.30887135e+00,  1.71314421e+00],\n",
              "       [-2.29101103e+00,  5.24873156e+00],\n",
              "       [ 1.18042299e+00,  1.39339844e+00],\n",
              "       [ 7.73657081e-01,  5.98545278e-01],\n",
              "       [ 2.26483208e+00,  5.12946436e+00],\n",
              "       [ 1.41042626e+00,  1.98930224e+00],\n",
              "       [ 1.82088558e+00,  3.31562430e+00],\n",
              "       [-1.30779256e+00,  1.71032139e+00],\n",
              "       [-1.93536274e+00,  3.74562893e+00],\n",
              "       [ 1.50368851e+00,  2.26107913e+00],\n",
              "       [ 1.84100844e+00,  3.38931206e+00],\n",
              "       [ 2.94303085e+00,  8.66143060e+00],\n",
              "       [-5.24293939e-01,  2.74884134e-01],\n",
              "       [-7.67891485e-01,  5.89657333e-01],\n",
              "       [ 1.65847776e+00,  2.75054850e+00],\n",
              "       [-9.55178758e-01,  9.12366461e-01],\n",
              "       [ 2.58454395e+00,  6.67986745e+00],\n",
              "       [ 2.15047651e+00,  4.62454922e+00],\n",
              "       [-4.26035836e-01,  1.81506533e-01],\n",
              "       [ 1.50522641e+00,  2.26570654e+00],\n",
              "       [ 1.52725724e+00,  2.33251469e+00],\n",
              "       [-2.38125679e+00,  5.67038389e+00],\n",
              "       [ 2.41531744e+00,  5.83375834e+00],\n",
              "       [ 3.15142347e-02,  9.93146988e-04],\n",
              "       [ 1.95874480e+00,  3.83668118e+00],\n",
              "       [-1.07970239e+00,  1.16575726e+00],\n",
              "       [ 2.37313937e+00,  5.63179047e+00],\n",
              "       [-6.64789928e-01,  4.41945648e-01],\n",
              "       [-2.93497409e+00,  8.61407292e+00],\n",
              "       [ 2.43229186e+00,  5.91604369e+00],\n",
              "       [-2.45227994e+00,  6.01367690e+00],\n",
              "       [-1.08411817e+00,  1.17531222e+00],\n",
              "       [ 2.70037180e+00,  7.29200787e+00],\n",
              "       [ 2.70364288e+00,  7.30968483e+00],\n",
              "       [ 4.40627329e-01,  1.94152443e-01],\n",
              "       [ 7.91023273e-01,  6.25717818e-01],\n",
              "       [-3.09326868e-01,  9.56831113e-02],\n",
              "       [-1.24073537e+00,  1.53942426e+00],\n",
              "       [-1.02801273e+00,  1.05681017e+00],\n",
              "       [ 1.03511074e+00,  1.07145424e+00],\n",
              "       [ 1.51424718e+00,  2.29294451e+00],\n",
              "       [ 1.74947426e+00,  3.06066019e+00],\n",
              "       [ 1.73770886e+00,  3.01963207e+00],\n",
              "       [-2.45276338e+00,  6.01604821e+00],\n",
              "       [-3.34781718e-02,  1.12078799e-03]])"
            ]
          },
          "metadata": {},
          "execution_count": 19
        }
      ]
    },
    {
      "cell_type": "markdown",
      "metadata": {
        "id": "GrFMRU_eVQwS"
      },
      "source": [
        "`X_poly` now contains the original feature of X plus the square of the feature:"
      ]
    },
    {
      "cell_type": "code",
      "metadata": {
        "colab": {
          "base_uri": "https://localhost:8080/"
        },
        "id": "M8FH1dY2UwgN",
        "outputId": "a5c055d0-ba86-40a4-a97a-e605ebc0e69d"
      },
      "source": [
        "print(X[0])\n",
        "print(X[0]*X[0])\n"
      ],
      "execution_count": 20,
      "outputs": [
        {
          "output_type": "stream",
          "name": "stdout",
          "text": [
            "[2.72919168]\n",
            "[7.44848725]\n"
          ]
        }
      ]
    },
    {
      "cell_type": "code",
      "metadata": {
        "colab": {
          "base_uri": "https://localhost:8080/"
        },
        "id": "PSflPniWVQwT",
        "outputId": "46f625f4-2cda-4c44-cb15-f67d50d974da"
      },
      "source": [
        "X_poly[0]"
      ],
      "execution_count": 21,
      "outputs": [
        {
          "output_type": "execute_result",
          "data": {
            "text/plain": [
              "array([2.72919168, 7.44848725])"
            ]
          },
          "metadata": {},
          "execution_count": 21
        }
      ]
    },
    {
      "cell_type": "markdown",
      "metadata": {
        "id": "HaXjXg7FVQwT"
      },
      "source": [
        "Fit the model to this extended training data:"
      ]
    },
    {
      "cell_type": "code",
      "metadata": {
        "colab": {
          "base_uri": "https://localhost:8080/"
        },
        "id": "c0Qu93dgVQwT",
        "outputId": "7d37f6b7-232a-40bb-d897-72d5e3f5377c"
      },
      "source": [
        "lin_reg = LinearRegression(fit_intercept=True)\n",
        "lin_reg.fit(X_poly, y)\n",
        "lin_reg.coef_, lin_reg.intercept_"
      ],
      "execution_count": 22,
      "outputs": [
        {
          "output_type": "execute_result",
          "data": {
            "text/plain": [
              "(array([[1.04271531, 0.50866711]]), array([2.01873554]))"
            ]
          },
          "metadata": {},
          "execution_count": 22
        }
      ]
    },
    {
      "cell_type": "markdown",
      "metadata": {
        "id": "rKOSwvnmVQwT"
      },
      "source": [
        "The model estimates:\n",
        "\n",
        "$\\hat{y} =  0.89X +0.48X^2 + 2.09$"
      ]
    },
    {
      "cell_type": "markdown",
      "metadata": {
        "id": "_EtZEKz5VQwT"
      },
      "source": [
        "Plot the data and the predictions:"
      ]
    },
    {
      "cell_type": "code",
      "metadata": {
        "colab": {
          "base_uri": "https://localhost:8080/",
          "height": 0
        },
        "id": "6Q8dHRgdVQwT",
        "outputId": "2a978f32-12e5-4184-e971-f7e14cc52260"
      },
      "source": [
        "X_new=np.linspace(-3, 3, 100).reshape(100, 1)\n",
        "X_new_poly = poly_features.transform(X_new)\n",
        "y_new = lin_reg.predict(X_new_poly)\n",
        "plt.plot(X, y, \"b.\")\n",
        "plt.plot(X_new, y_new, \"r-\", linewidth=2, label=\"Predictions\")\n",
        "plt.xlabel(\"$x_1$\", fontsize=18)\n",
        "plt.ylabel(\"$y$\", rotation=0, fontsize=18)\n",
        "plt.legend(loc=\"upper left\", fontsize=14)\n",
        "plt.axis([-3, 3, 0, 10]);"
      ],
      "execution_count": 23,
      "outputs": [
        {
          "output_type": "display_data",
          "data": {
            "text/plain": [
              "<Figure size 432x288 with 1 Axes>"
            ],
            "image/png": "[encoded data removed]"
          },
          "metadata": {
            "needs_background": "light"
          }
        }
      ]
    },
    {
      "cell_type": "code",
      "source": [],
      "metadata": {
        "id": "vyq0o8f2pcqa"
      },
      "execution_count": 23,
      "outputs": []
    },
    {
      "cell_type": "markdown",
      "source": [
        "## R square\n",
        "\n",
        "R² es una medida estadística de qué tan cerca están los datos de la línea de regresión ajustada. También se conoce como el coeficiente de determinación o el coeficiente de determinación múltiple para la regresión múltiple. Para decirlo en un lenguaje más simple, R² es una medida de ajuste para los modelos de regresión lineal.\n",
        "\n",
        "\n",
        "\n",
        "R² no indica si un modelo de regresión se ajusta adecuadamente a sus datos. Un buen modelo puede tener un valor R² bajo. Por otro lado, un modelo sesgado puede tener un valor alto de R².\n",
        "\n",
        " SSres + SSreg = SStot, R² = Explained variation / Total Variation\n",
        " \n",
        " ![image.png](https://i.stack.imgur.com/xb1VY.png)\n",
        " \n",
        "![image.png](https://3.bp.blogspot.com/-MFqQLwbGwd4/WMO7tz39beI/AAAAAAAAF9I/Bjpfohgv_5E4lu7HzHJBQtXsBM--byqPwCLcB/s1600/rsquared.png)\n"
      ],
      "metadata": {
        "id": "TIFwAtW1pc6h"
      }
    },
    {
      "cell_type": "markdown",
      "metadata": {
        "id": "nTKFj4x9LMXm"
      },
      "source": [
        "# **Ejercicio 1**\n",
        "\n",
        "Utiliza la base de datos de \n",
        "https://www.kaggle.com/vinicius150987/manufacturing-cost\n",
        "\n",
        "***Objetivo:*** Suponga que trabaja como consultor de una empresa de nueva creación que busca desarrollar un modelo para estimar el costo de los bienes vendidos a medida que varían el volumen de producción (número de unidades producidas). La startup recopiló datos y le pidió que desarrollara un modelo para predecir su costo frente a la cantidad de unidades vendidas.\n",
        "\n",
        "\n",
        "\n",
        "\n",
        "> **1.1** Divide los datos del costo de manufactura. Utiliza la función train_test_split (viene el ejemplo al final del notebook).\n",
        "\n",
        "\n",
        "> **1.2** Regresión Lineal. \n",
        "Realiza la regresión lineal: modelo generado (ecuación), su visualización, sus errores y r cuadrada.\n",
        "\n",
        "\n",
        "> **1.3** Regresión Polinomial.\n",
        "Realiza la  regresión polinomial completa, tu modelo generado (ecuación), su visualización, sus errores y r cuadrada.\n",
        "\n",
        "\n",
        "> **1.4** Realiza la regresión con Ridge y Lasso. Incluye la ecuación de tu modelo, visualización , errores y r cuadrada.\n",
        "\n",
        "> **1.5** Finalmente grafica :\n",
        "MAE (de los cuatro métodos)\n",
        "R2 (de los cuatro métodos)\n",
        "\n",
        "> **1.6** Explica tus resultados, que método conviene más a la empresa, ¿por que?, ¿que porcentajes de entrenamiento y evaluación usaste?, ¿que error tienes?, ¿es bueno?, ¿cómo lo sabes?\n",
        " "
      ]
    },
    {
      "cell_type": "code",
      "metadata": {
        "colab": {
          "base_uri": "https://localhost:8080/",
          "height": 363
        },
        "id": "oTnErQOkL3oa",
        "outputId": "ca190700-5bb0-4aee-9e23-ee54d760b4d9"
      },
      "source": [
        "import pandas as pd\n",
        "df = pd.read_csv('https://raw.githubusercontent.com/marypazrf/bdd/main/EconomiesOfScale.csv')\n",
        "df.sample(10)"
      ],
      "execution_count": 24,
      "outputs": [
        {
          "output_type": "execute_result",
          "data": {
            "text/plain": [
              "     Number of Units  Manufacturing Cost\n",
              "968         7.065653           27.804027\n",
              "212         3.372115           41.127212\n",
              "416         4.194513           43.832711\n",
              "677         5.068888           41.225741\n",
              "550         4.604122           37.569764\n",
              "764         5.389522           31.191501\n",
              "386         4.104190           42.988730\n",
              "339         3.942214           46.291435\n",
              "82          2.665856           48.578425\n",
              "487         4.399514           37.567914"
            ],
            "text/html": [
              "\n",
              "  <div id=\"df-fa71ccdd-e424-4dfb-a6a7-8a616eabca89\">\n",
              "    <div class=\"colab-df-container\">\n",
              "      <div>\n",
              "<style scoped>\n",
              "    .dataframe tbody tr th:only-of-type {\n",
              "        vertical-align: middle;\n",
              "    }\n",
              "\n",
              "    .dataframe tbody tr th {\n",
              "        vertical-align: top;\n",
              "    }\n",
              "\n",
              "    .dataframe thead th {\n",
              "        text-align: right;\n",
              "    }\n",
              "</style>\n",
              "<table border=\"1\" class=\"dataframe\">\n",
              "  <thead>\n",
              "    <tr style=\"text-align: right;\">\n",
              "      <th></th>\n",
              "      <th>Number of Units</th>\n",
              "      <th>Manufacturing Cost</th>\n",
              "    </tr>\n",
              "  </thead>\n",
              "  <tbody>\n",
              "    <tr>\n",
              "      <th>968</th>\n",
              "      <td>7.065653</td>\n",
              "      <td>27.804027</td>\n",
              "    </tr>\n",
              "    <tr>\n",
              "      <th>212</th>\n",
              "      <td>3.372115</td>\n",
              "      <td>41.127212</td>\n",
              "    </tr>\n",
              "    <tr>\n",
              "      <th>416</th>\n",
              "      <td>4.194513</td>\n",
              "      <td>43.832711</td>\n",
              "    </tr>\n",
              "    <tr>\n",
              "      <th>677</th>\n",
              "      <td>5.068888</td>\n",
              "      <td>41.225741</td>\n",
              "    </tr>\n",
              "    <tr>\n",
              "      <th>550</th>\n",
              "      <td>4.604122</td>\n",
              "      <td>37.569764</td>\n",
              "    </tr>\n",
              "    <tr>\n",
              "      <th>764</th>\n",
              "      <td>5.389522</td>\n",
              "      <td>31.191501</td>\n",
              "    </tr>\n",
              "    <tr>\n",
              "      <th>386</th>\n",
              "      <td>4.104190</td>\n",
              "      <td>42.988730</td>\n",
              "    </tr>\n",
              "    <tr>\n",
              "      <th>339</th>\n",
              "      <td>3.942214</td>\n",
              "      <td>46.291435</td>\n",
              "    </tr>\n",
              "    <tr>\n",
              "      <th>82</th>\n",
              "      <td>2.665856</td>\n",
              "      <td>48.578425</td>\n",
              "    </tr>\n",
              "    <tr>\n",
              "      <th>487</th>\n",
              "      <td>4.399514</td>\n",
              "      <td>37.567914</td>\n",
              "    </tr>\n",
              "  </tbody>\n",
              "</table>\n",
              "</div>\n",
              "      <button class=\"colab-df-convert\" onclick=\"convertToInteractive('df-fa71ccdd-e424-4dfb-a6a7-8a616eabca89')\"\n",
              "              title=\"Convert this dataframe to an interactive table.\"\n",
              "              style=\"display:none;\">\n",
              "        \n",
              "  <svg xmlns=\"http://www.w3.org/2000/svg\" height=\"24px\"viewBox=\"0 0 24 24\"\n",
              "       width=\"24px\">\n",
              "    <path d=\"M0 0h24v24H0V0z\" fill=\"none\"/>\n",
              "    <path d=\"M18.56 5.44l.94 2.06.94-2.06 2.06-.94-2.06-.94-.94-2.06-.94 2.06-2.06.94zm-11 1L8.5 8.5l.94-2.06 2.06-.94-2.06-.94L8.5 2.5l-.94 2.06-2.06.94zm10 10l.94 2.06.94-2.06 2.06-.94-2.06-.94-.94-2.06-.94 2.06-2.06.94z\"/><path d=\"M17.41 7.96l-1.37-1.37c-.4-.4-.92-.59-1.43-.59-.52 0-1.04.2-1.43.59L10.3 9.45l-7.72 7.72c-.78.78-.78 2.05 0 2.83L4 21.41c.39.39.9.59 1.41.59.51 0 1.02-.2 1.41-.59l7.78-7.78 2.81-2.81c.8-.78.8-2.07 0-2.86zM5.41 20L4 18.59l7.72-7.72 1.47 1.35L5.41 20z\"/>\n",
              "  </svg>\n",
              "      </button>\n",
              "      \n",
              "  <style>\n",
              "    .colab-df-container {\n",
              "      display:flex;\n",
              "      flex-wrap:wrap;\n",
              "      gap: 12px;\n",
              "    }\n",
              "\n",
              "    .colab-df-convert {\n",
              "      background-color: #E8F0FE;\n",
              "      border: none;\n",
              "      border-radius: 50%;\n",
              "      cursor: pointer;\n",
              "      display: none;\n",
              "      fill: #1967D2;\n",
              "      height: 32px;\n",
              "      padding: 0 0 0 0;\n",
              "      width: 32px;\n",
              "    }\n",
              "\n",
              "    .colab-df-convert:hover {\n",
              "      background-color: #E2EBFA;\n",
              "      box-shadow: 0px 1px 2px rgba(60, 64, 67, 0.3), 0px 1px 3px 1px rgba(60, 64, 67, 0.15);\n",
              "      fill: #174EA6;\n",
              "    }\n",
              "\n",
              "    [theme=dark] .colab-df-convert {\n",
              "      background-color: #3B4455;\n",
              "      fill: #D2E3FC;\n",
              "    }\n",
              "\n",
              "    [theme=dark] .colab-df-convert:hover {\n",
              "      background-color: #434B5C;\n",
              "      box-shadow: 0px 1px 3px 1px rgba(0, 0, 0, 0.15);\n",
              "      filter: drop-shadow(0px 1px 2px rgba(0, 0, 0, 0.3));\n",
              "      fill: #FFFFFF;\n",
              "    }\n",
              "  </style>\n",
              "\n",
              "      <script>\n",
              "        const buttonEl =\n",
              "          document.querySelector('#df-fa71ccdd-e424-4dfb-a6a7-8a616eabca89 button.colab-df-convert');\n",
              "        buttonEl.style.display =\n",
              "          google.colab.kernel.accessAllowed ? 'block' : 'none';\n",
              "\n",
              "        async function convertToInteractive(key) {\n",
              "          const element = document.querySelector('#df-fa71ccdd-e424-4dfb-a6a7-8a616eabca89');\n",
              "          const dataTable =\n",
              "            await google.colab.kernel.invokeFunction('convertToInteractive',\n",
              "                                                     [key], {});\n",
              "          if (!dataTable) return;\n",
              "\n",
              "          const docLinkHtml = 'Like what you see? Visit the ' +\n",
              "            '<a target=\"_blank\" href=https://colab.research.google.com/notebooks/data_table.ipynb>data table notebook</a>'\n",
              "            + ' to learn more about interactive tables.';\n",
              "          element.innerHTML = '';\n",
              "          dataTable['output_type'] = 'display_data';\n",
              "          await google.colab.output.renderOutput(dataTable, element);\n",
              "          const docLink = document.createElement('div');\n",
              "          docLink.innerHTML = docLinkHtml;\n",
              "          element.appendChild(docLink);\n",
              "        }\n",
              "      </script>\n",
              "    </div>\n",
              "  </div>\n",
              "  "
            ]
          },
          "metadata": {},
          "execution_count": 24
        }
      ]
    },
    {
      "cell_type": "markdown",
      "source": [
        "## **1.1** Divide los datos del costo de manufactura. Utiliza la función train_test_split (viene el ejemplo al final del notebook)."
      ],
      "metadata": {
        "id": "IgRTdpAn5hV8"
      }
    },
    {
      "cell_type": "code",
      "metadata": {
        "id": "14kGO5nkMGlV"
      },
      "source": [
        "X = df[['Number of Units']]\n",
        "y = df['Manufacturing Cost']"
      ],
      "execution_count": 25,
      "outputs": []
    },
    {
      "cell_type": "code",
      "source": [
        "from sklearn.model_selection import train_test_split\n",
        "X_train, X_test, y_train, y_test = train_test_split(X, y, test_size = 0.1, random_state = 101)\n",
        "\n",
        "print(f'Numero total de registros en la bdd: {len(X)}')\n",
        "print(\"*****\"*10)\n",
        "print(f'Numero total de registros en el training set: {len(X_train)}')\n",
        "print(f'Tamaño de X_train: {X_train.shape}')\n",
        "print(\"*****\"*10)\n",
        "print(f'Mumero total de registros en el test dataset: {len(X_test)}')\n",
        "print(f'Tamaño del X_test: {X_test.shape}')"
      ],
      "metadata": {
        "colab": {
          "base_uri": "https://localhost:8080/"
        },
        "id": "SOsUJI3b523K",
        "outputId": "ca05ed0c-4156-4374-ef8e-f152b3ea244d"
      },
      "execution_count": 26,
      "outputs": [
        {
          "output_type": "stream",
          "name": "stdout",
          "text": [
            "Numero total de registros en la bdd: 1000\n",
            "**************************************************\n",
            "Numero total de registros en el training set: 900\n",
            "Tamaño de X_train: (900, 1)\n",
            "**************************************************\n",
            "Mumero total de registros en el test dataset: 100\n",
            "Tamaño del X_test: (100, 1)\n"
          ]
        }
      ]
    },
    {
      "cell_type": "code",
      "source": [
        "len(X)"
      ],
      "metadata": {
        "id": "ksh_OrkjY3GW",
        "outputId": "d246cbfb-a190-4b8b-f0ae-dabea7bbd1da",
        "colab": {
          "base_uri": "https://localhost:8080/"
        }
      },
      "execution_count": 27,
      "outputs": [
        {
          "output_type": "execute_result",
          "data": {
            "text/plain": [
              "1000"
            ]
          },
          "metadata": {},
          "execution_count": 27
        }
      ]
    },
    {
      "cell_type": "code",
      "source": [
        "y.describe"
      ],
      "metadata": {
        "colab": {
          "base_uri": "https://localhost:8080/"
        },
        "id": "bwR6SSqQDfC2",
        "outputId": "3b3c232f-6734-454f-f9b3-0c8068921ae9"
      },
      "execution_count": 28,
      "outputs": [
        {
          "output_type": "execute_result",
          "data": {
            "text/plain": [
              "<bound method NDFrame.describe of 0      95.066056\n",
              "1      96.531750\n",
              "2      73.661311\n",
              "3      95.566843\n",
              "4      98.777013\n",
              "         ...    \n",
              "995    23.855067\n",
              "996    27.536542\n",
              "997    25.973787\n",
              "998    25.138311\n",
              "999    21.547777\n",
              "Name: Manufacturing Cost, Length: 1000, dtype: float64>"
            ]
          },
          "metadata": {},
          "execution_count": 28
        }
      ]
    },
    {
      "cell_type": "code",
      "metadata": {
        "colab": {
          "base_uri": "https://localhost:8080/",
          "height": 282
        },
        "id": "idoEjfEhMoxk",
        "outputId": "45f52efa-926b-4642-97e3-398269ff535f"
      },
      "source": [
        "plt.plot(X,y,'b.')"
      ],
      "execution_count": 29,
      "outputs": [
        {
          "output_type": "execute_result",
          "data": {
            "text/plain": [
              "[<matplotlib.lines.Line2D at 0x7fcbc8023bd0>]"
            ]
          },
          "metadata": {},
          "execution_count": 29
        },
        {
          "output_type": "display_data",
          "data": {
            "text/plain": [
              "<Figure size 432x288 with 1 Axes>"
            ],
            "image/png": "[encoded data removed]"
          },
          "metadata": {
            "needs_background": "light"
          }
        }
      ]
    },
    {
      "cell_type": "markdown",
      "source": [
        "\n",
        "## **1.2 Regresion lineal**\n",
        " Realiza la regresión lineal: modelo generado (ecuación), su visualización, sus errores y r cuadrada."
      ],
      "metadata": {
        "id": "Eo64pbfP65an"
      }
    },
    {
      "cell_type": "code",
      "source": [
        "#Regresion lineal\n",
        "\n",
        "from sklearn.linear_model import LinearRegression\n",
        "\n",
        "linear_reg = LinearRegression(fit_intercept=True)\n",
        "linear_reg.fit(X_train, y_train)"
      ],
      "metadata": {
        "id": "kMmOy97puOLE",
        "colab": {
          "base_uri": "https://localhost:8080/"
        },
        "outputId": "f115096e-9cf6-4b98-b1e7-5bddd8ec30bd"
      },
      "execution_count": 30,
      "outputs": [
        {
          "output_type": "execute_result",
          "data": {
            "text/plain": [
              "LinearRegression()"
            ]
          },
          "metadata": {},
          "execution_count": 30
        }
      ]
    },
    {
      "cell_type": "code",
      "source": [
        "# construct best fit line\n",
        "X_fit = np.linspace(0, 9, 100)\n",
        "y_fit = linear_reg.predict(X_fit[:, np.newaxis])\n",
        "\n",
        "plt.scatter(X, y)\n",
        "plt.plot(X_fit, y_fit, \"r-\", linewidth=2, label=\"Predictions\")\n",
        "plt.xlabel(\"$X$\", fontsize=18)\n",
        "plt.ylabel(\"$y$\", rotation=0, fontsize=18)\n",
        "plt.legend(loc=\"upper left\", fontsize=14);"
      ],
      "metadata": {
        "colab": {
          "base_uri": "https://localhost:8080/",
          "height": 322
        },
        "id": "Rvc0VncLkBJF",
        "outputId": "356eb681-b2c9-4fd8-b3e7-63a296e47cac"
      },
      "execution_count": 31,
      "outputs": [
        {
          "output_type": "stream",
          "name": "stderr",
          "text": [
            "/usr/local/lib/python3.7/dist-packages/sklearn/base.py:451: UserWarning: X does not have valid feature names, but LinearRegression was fitted with feature names\n",
            "  \"X does not have valid feature names, but\"\n"
          ]
        },
        {
          "output_type": "display_data",
          "data": {
            "text/plain": [
              "<Figure size 432x288 with 1 Axes>"
            ],
            "image/png": "[encoded data removed]"
          },
          "metadata": {
            "needs_background": "light"
          }
        }
      ]
    },
    {
      "cell_type": "code",
      "source": [
        "from sklearn.linear_model import LinearRegression\n",
        "\n",
        "lin_reg = LinearRegression()\n",
        "lin_reg.fit(X_train, y_train)\n",
        "lin_reg.intercept_, lin_reg.coef_"
      ],
      "metadata": {
        "colab": {
          "base_uri": "https://localhost:8080/"
        },
        "id": "P3wdnab5qIjD",
        "outputId": "4aa8a7d6-744c-4875-c47d-79fa9fe3eb23"
      },
      "execution_count": 32,
      "outputs": [
        {
          "output_type": "execute_result",
          "data": {
            "text/plain": [
              "(66.83650741226988, array([-5.98882699]))"
            ]
          },
          "metadata": {},
          "execution_count": 32
        }
      ]
    },
    {
      "cell_type": "markdown",
      "source": [
        "Podemos hacer predicciones usando el método predict de la clase LinearRegression"
      ],
      "metadata": {
        "id": "y6qt4OLy8az4"
      }
    },
    {
      "cell_type": "code",
      "source": [
        "# obtenemos las predicciones con lso datos del test\n",
        "lin_reg.predict(X_test)"
      ],
      "metadata": {
        "colab": {
          "base_uri": "https://localhost:8080/"
        },
        "id": "32dF0tRLqOP9",
        "outputId": "89009465-c23c-494c-ba0b-d9665c861344"
      },
      "execution_count": 33,
      "outputs": [
        {
          "output_type": "execute_result",
          "data": {
            "text/plain": [
              "array([39.33781957, 44.26058238, 49.66953663, 32.79171748, 47.10537261,\n",
              "       37.98201755, 45.42071108, 36.22515778, 33.5758441 , 41.87191428,\n",
              "       33.12946768, 23.05091467, 35.07429172, 43.20061834, 38.10564826,\n",
              "       43.63593586, 49.2554343 , 44.21893763, 55.20004529, 44.83870093,\n",
              "       30.76611387, 36.61690197, 33.17657165, 34.87833619, 35.29349453,\n",
              "       46.36166153, 38.96677761, 52.82210512, 41.85260809, 35.26339328,\n",
              "       54.54553752, 41.78713832, 48.57173789, 38.02261075, 42.41802969,\n",
              "       28.59633034, 39.01614668, 48.54266737, 30.99728625, 48.69255853,\n",
              "       41.67367994, 46.85384244, 24.04090657, 44.3749518 , 40.3026443 ,\n",
              "       48.53462277, 14.24928761, 28.44909769, 37.36510679, 29.93817969,\n",
              "       30.64777855, 27.71163587, 49.58572564, 41.81131528, 58.57765387,\n",
              "       52.82625176, 41.24011095, 30.80081126, 48.25938282, 30.13464752,\n",
              "       42.33522443, 51.3655144 , 33.060437  , 42.85495078, 35.37572884,\n",
              "       47.40402361, 48.05704533, 30.41861982, 39.89906313, 33.51504716,\n",
              "       37.25375918, 26.59291364, 33.06306992, 31.77134322, 36.93538405,\n",
              "       50.2517063 , 32.95955895, 42.89620441, 60.84768042, 26.6060046 ,\n",
              "       47.74909446, 26.30917163, 33.38110714, 42.28870297, 37.68157609,\n",
              "       37.62537705, 32.98936943, 46.43773469, 46.19009311, 44.58099016,\n",
              "       42.22445403, 47.78880478, 41.1741166 , 46.78506109, 40.77790533,\n",
              "       45.78732149, 41.5332551 , 33.99303206, 42.12093138, 56.63026297])"
            ]
          },
          "metadata": {},
          "execution_count": 33
        }
      ]
    },
    {
      "cell_type": "code",
      "source": [
        "from sklearn.preprocessing import add_dummy_feature\n",
        "\n",
        "X_b = add_dummy_feature(X_train)  # add x0 = 1 to each instance\n",
        "theta_best = np.linalg.inv(X_b.T @ X_b) @ X_b.T @ y_train"
      ],
      "metadata": {
        "id": "EN6b_pwFvklE"
      },
      "execution_count": 34,
      "outputs": []
    },
    {
      "cell_type": "code",
      "source": [
        "theta_best_svd, residuals, rank, s = np.linalg.lstsq(X_b, y_train, rcond=1e-6)\n",
        "theta_best_svd\n"
      ],
      "metadata": {
        "colab": {
          "base_uri": "https://localhost:8080/"
        },
        "id": "K8Ub15rHqUm9",
        "outputId": "8437ef36-89ce-46d3-fde1-bc56bed81312"
      },
      "execution_count": 35,
      "outputs": [
        {
          "output_type": "execute_result",
          "data": {
            "text/plain": [
              "array([66.83650741, -5.98882699])"
            ]
          },
          "metadata": {},
          "execution_count": 35
        }
      ]
    },
    {
      "cell_type": "code",
      "source": [
        "np.linalg.pinv(X_b) @ y_train"
      ],
      "metadata": {
        "colab": {
          "base_uri": "https://localhost:8080/"
        },
        "id": "Yov7TxwzQwBc",
        "outputId": "8e84afda-b572-4be3-dc04-36ada666c087"
      },
      "execution_count": 36,
      "outputs": [
        {
          "output_type": "execute_result",
          "data": {
            "text/plain": [
              "array([66.83650741, -5.98882699])"
            ]
          },
          "metadata": {},
          "execution_count": 36
        }
      ]
    },
    {
      "cell_type": "code",
      "source": [
        "X_test\n",
        "X_test.shape\n",
        "y_test = linear_reg.predict(X_test)\n",
        "y_test\n",
        "\n",
        "linear_reg.intercept_, linear_reg.coef_"
      ],
      "metadata": {
        "colab": {
          "base_uri": "https://localhost:8080/"
        },
        "id": "NBCoBzcw2uNh",
        "outputId": "41cef0b8-a751-434e-db28-bfd7f17a30d8"
      },
      "execution_count": 37,
      "outputs": [
        {
          "output_type": "execute_result",
          "data": {
            "text/plain": [
              "(66.83650741226988, array([-5.98882699]))"
            ]
          },
          "metadata": {},
          "execution_count": 37
        }
      ]
    },
    {
      "cell_type": "markdown",
      "source": [
        "The model estimates:\n",
        "\n",
        "$\\hat{y} = -5.9X + 66.83$"
      ],
      "metadata": {
        "id": "znriJ-aH3M-1"
      }
    },
    {
      "cell_type": "code",
      "source": [
        "\n",
        "from sklearn.metrics import mean_squared_error\n",
        "# Predecimos los valores y para los datos usados en el entrenamiento\n",
        "y_pred = linear_reg.predict(X_test)\n",
        "y_pred_1 =y_pred\n"
      ],
      "metadata": {
        "id": "LitmguWz_u42"
      },
      "execution_count": 38,
      "outputs": []
    },
    {
      "cell_type": "code",
      "source": [
        "from sklearn import metrics\n",
        "from sklearn.metrics import r2_score\n",
        "\n",
        "print('Error medio Absoluto (MAE):', metrics.mean_absolute_error(y_test, y_pred))\n",
        "print('Root Mean Squared Error:', np.sqrt(metrics.mean_squared_error(y_test, y_pred)))\n",
        "print('r2_score',r2_score(y_test, y_pred))"
      ],
      "metadata": {
        "colab": {
          "base_uri": "https://localhost:8080/"
        },
        "id": "tg5X_owXomuO",
        "outputId": "a1daac68-0fdc-41f2-fc06-087f61d12ffb"
      },
      "execution_count": 39,
      "outputs": [
        {
          "output_type": "stream",
          "name": "stdout",
          "text": [
            "Error medio Absoluto (MAE): 0.0\n",
            "Root Mean Squared Error: 0.0\n",
            "r2_score 1.0\n"
          ]
        }
      ]
    },
    {
      "cell_type": "code",
      "source": [],
      "metadata": {
        "id": "hKZ4qqEzBg66"
      },
      "execution_count": 39,
      "outputs": []
    },
    {
      "cell_type": "markdown",
      "source": [
        "**Comentarios:** Observamos que el modelo no ajusta bien a los datos porque principalmente debe ser un modelo polinomial, ya que en la grafica ajusta mejor una curva que una linea"
      ],
      "metadata": {
        "id": "-vYIJGs1-TxC"
      }
    },
    {
      "cell_type": "markdown",
      "source": [
        "## **1.3 Regresión Polinomial.**\n",
        "Realiza la  regresión polinomial completa, tu modelo generado (ecuación), su visualización, sus errores y r cuadrada."
      ],
      "metadata": {
        "id": "nWB0j6JYCdaS"
      }
    },
    {
      "cell_type": "code",
      "source": [
        "#polinomial\n",
        "\n",
        "from sklearn.preprocessing import PolynomialFeatures\n",
        "\n",
        "poly_features = PolynomialFeatures(degree=2, include_bias=False)\n",
        "X_poly = poly_features.fit_transform(X_train)\n",
        "X_poly_1 = poly_features.fit_transform(X_test)"
      ],
      "metadata": {
        "id": "LWvfEDGKuoLJ"
      },
      "execution_count": 40,
      "outputs": []
    },
    {
      "cell_type": "code",
      "source": [
        "X_poly[0]"
      ],
      "metadata": {
        "colab": {
          "base_uri": "https://localhost:8080/"
        },
        "id": "khW0JTg8DYrf",
        "outputId": "751a52d2-ff7a-4e85-de3f-ef7123268c0b"
      },
      "execution_count": 41,
      "outputs": [
        {
          "output_type": "execute_result",
          "data": {
            "text/plain": [
              "array([ 7.97424764, 63.58862541])"
            ]
          },
          "metadata": {},
          "execution_count": 41
        }
      ]
    },
    {
      "cell_type": "code",
      "source": [
        "lin_reg = LinearRegression()\n",
        "lin_reg.fit(X_poly, y_train)\n",
        "lin_reg.coef_, lin_reg.intercept_"
      ],
      "metadata": {
        "colab": {
          "base_uri": "https://localhost:8080/"
        },
        "id": "GmW98vHkDd4p",
        "outputId": "75d6dcf7-a8d3-4cb0-b67c-eb27fdd6059d"
      },
      "execution_count": 42,
      "outputs": [
        {
          "output_type": "execute_result",
          "data": {
            "text/plain": [
              "(array([-16.40638102,   1.13136095]), 88.80179909112496)"
            ]
          },
          "metadata": {},
          "execution_count": 42
        }
      ]
    },
    {
      "cell_type": "markdown",
      "source": [
        "The model estimates:\n",
        "\n",
        "$\\hat{y} = 1.13X^2 - 16.4X + 88.80$"
      ],
      "metadata": {
        "id": "PawCa1QFDkgK"
      }
    },
    {
      "cell_type": "code",
      "source": [
        "X_new=np.linspace(0, 100, 100).reshape(100, 1)\n",
        "X_new_poly = poly_features.transform(X_new)\n",
        "y_new = lin_reg.predict(X_new_poly)\n",
        "plt.plot(X, y, \"b.\")\n",
        "plt.plot(X_new, y_new, \"r-\", linewidth=2, label=\"Predictions\")\n",
        "plt.xlabel(\"$x_1$\", fontsize=18)\n",
        "plt.ylabel(\"$y$\", rotation=0, fontsize=18)\n",
        "plt.legend(loc=\"upper left\", fontsize=14)\n",
        "plt.axis([0, 10, 0, 100]);"
      ],
      "metadata": {
        "colab": {
          "base_uri": "https://localhost:8080/",
          "height": 326
        },
        "id": "n686uxPFDzGU",
        "outputId": "73954df0-1cac-4866-e937-26049f4af272"
      },
      "execution_count": 43,
      "outputs": [
        {
          "output_type": "stream",
          "name": "stderr",
          "text": [
            "/usr/local/lib/python3.7/dist-packages/sklearn/base.py:451: UserWarning: X does not have valid feature names, but PolynomialFeatures was fitted with feature names\n",
            "  \"X does not have valid feature names, but\"\n"
          ]
        },
        {
          "output_type": "display_data",
          "data": {
            "text/plain": [
              "<Figure size 432x288 with 1 Axes>"
            ],
            "image/png": "[encoded data removed]"
          },
          "metadata": {
            "needs_background": "light"
          }
        }
      ]
    },
    {
      "cell_type": "markdown",
      "source": [
        "**Comentarios:** El modelo parece ajustarse mejor a los puntos lo que nos muestra buenas estimaciones"
      ],
      "metadata": {
        "id": "8XNxldWsPklR"
      }
    },
    {
      "cell_type": "code",
      "source": [
        "# Predecimos los valores y para los datos usados en el entrenamiento\n",
        "y_pred = lin_reg.predict(X_poly_1)\n",
        "y_pred_2 = y_pred"
      ],
      "metadata": {
        "id": "1ZhRreezQNZM"
      },
      "execution_count": 44,
      "outputs": []
    },
    {
      "cell_type": "code",
      "metadata": {
        "id": "-VDz4zLK9Q0K",
        "outputId": "18f8464d-922e-450c-8938-da98a8876e32",
        "colab": {
          "base_uri": "https://localhost:8080/"
        }
      },
      "source": [
        "from sklearn import metrics\n",
        "from sklearn.metrics import r2_score\n",
        "\n",
        "print('Error medio Absoluto (MAE):', metrics.mean_absolute_error(y_test, y_pred))\n",
        "print('Root Mean Squared Error:', np.sqrt(metrics.mean_squared_error(y_test, y_pred)))\n",
        "print('r2_score',r2_score(y_test, y_pred))"
      ],
      "execution_count": 45,
      "outputs": [
        {
          "output_type": "stream",
          "name": "stdout",
          "text": [
            "Error medio Absoluto (MAE): 1.9522094521364572\n",
            "Root Mean Squared Error: 3.138026878215887\n",
            "r2_score 0.8594780150351065\n"
          ]
        }
      ]
    },
    {
      "cell_type": "markdown",
      "source": [
        "## **1.4** Realiza la **regresión con Ridge y Lasso.** \n",
        "Incluye la ecuación de tu modelo, visualización , errores y r cuadrada."
      ],
      "metadata": {
        "id": "I8Y-chZyCxQy"
      }
    },
    {
      "cell_type": "markdown",
      "source": [
        "**Regularización**\n",
        "\n",
        "- Una forma de reducir el sobreajuste es regularizar el modelo (por ejemplo, restringirlo), teniendo menos grados de libertad.\n",
        "\n",
        "- Por ejemplo en un modelo polinomial: reducir el número de grados del polinomio.\n",
        "\n",
        "- La regularización de un modelo lineal generalmente se logra restringiendo los pesos del modelo."
      ],
      "metadata": {
        "id": "On0eihdhRdjb"
      }
    },
    {
      "cell_type": "markdown",
      "source": [
        "Es importante **escalar** los datos antes de realizar **Ridge Regression**:\n",
        "\n",
        "Los métodos de regularización actúan sobre la magnitud de los coeficientes del modelo, todos deben de estár en la misma escala, por esta razón es necesario estandarizar o normalizar los predictores antes de entrenar el modelo."
      ],
      "metadata": {
        "id": "W6iujT3mU_zq"
      }
    },
    {
      "cell_type": "code",
      "source": [
        "from sklearn.preprocessing import StandardScaler\n",
        "\n",
        "poly_features = PolynomialFeatures(degree=15, include_bias=False)\n",
        "X_poly = poly_features.fit_transform(X_train)\n",
        "scaler = StandardScaler() \n",
        "X_poly_scaled = scaler.fit(X_poly) "
      ],
      "metadata": {
        "id": "EjsEbCa3RP26"
      },
      "execution_count": 46,
      "outputs": []
    },
    {
      "cell_type": "code",
      "source": [
        "# better \n",
        "from sklearn.pipeline import Pipeline\n",
        "\n",
        "model = Pipeline([(\"poly_features\", PolynomialFeatures(degree=15, include_bias=False)),\n",
        "                  (\"scaler\", StandardScaler()),\n",
        "                  (\"linear_reg\", LinearRegression())])\n",
        "model.fit(X_train, y_train)"
      ],
      "metadata": {
        "colab": {
          "base_uri": "https://localhost:8080/"
        },
        "id": "lRG81ceWVMgv",
        "outputId": "eedd6a2a-89c5-4741-cf71-311dd9bb73f0"
      },
      "execution_count": 47,
      "outputs": [
        {
          "output_type": "execute_result",
          "data": {
            "text/plain": [
              "Pipeline(steps=[('poly_features',\n",
              "                 PolynomialFeatures(degree=15, include_bias=False)),\n",
              "                ('scaler', StandardScaler()),\n",
              "                ('linear_reg', LinearRegression())])"
            ]
          },
          "metadata": {},
          "execution_count": 47
        }
      ]
    },
    {
      "cell_type": "code",
      "source": [
        "y_pred = model.predict(X_test)"
      ],
      "metadata": {
        "id": "PnR_QbkYVV22"
      },
      "execution_count": 48,
      "outputs": []
    },
    {
      "cell_type": "code",
      "source": [
        "plt.plot(X_train, y_train, \"b.\")\n",
        "plt.plot(X_test, y_pred, \"r-\", linewidth=2, label=\"Predictions w/o Regularization\")\n",
        "plt.xlabel(\"$X$\", fontsize=18)\n",
        "plt.ylabel(\"$y$\", rotation=0, fontsize=18)\n",
        "plt.legend(loc=\"upper right\", fontsize=10);"
      ],
      "metadata": {
        "colab": {
          "base_uri": "https://localhost:8080/",
          "height": 287
        },
        "id": "iWoluH1NVazH",
        "outputId": "849fb7ec-3cd7-4b4e-f8db-03b5a12fbba5"
      },
      "execution_count": 49,
      "outputs": [
        {
          "output_type": "display_data",
          "data": {
            "text/plain": [
              "<Figure size 432x288 with 1 Axes>"
            ],
            "image/png": "[encoded data removed]"
          },
          "metadata": {
            "needs_background": "light"
          }
        }
      ]
    },
    {
      "cell_type": "code",
      "source": [
        "from sklearn.linear_model import Ridge\n",
        "\n",
        "model_ridge = Pipeline([(\"poly_features\", PolynomialFeatures(degree=15, include_bias=False)),\n",
        "                  (\"scaler\", StandardScaler()),\n",
        "                  (\"ridge\", Ridge(alpha = 5, solver = 'cholesky', random_state = 42))])\n",
        "model_ridge.fit(X_train, y_train)"
      ],
      "metadata": {
        "colab": {
          "base_uri": "https://localhost:8080/"
        },
        "id": "fdoaHoSdWNog",
        "outputId": "9ba6fd03-ec28-4668-8596-b0fe346fe452"
      },
      "execution_count": 50,
      "outputs": [
        {
          "output_type": "execute_result",
          "data": {
            "text/plain": [
              "Pipeline(steps=[('poly_features',\n",
              "                 PolynomialFeatures(degree=15, include_bias=False)),\n",
              "                ('scaler', StandardScaler()),\n",
              "                ('ridge', Ridge(alpha=5, random_state=42, solver='cholesky'))])"
            ]
          },
          "metadata": {},
          "execution_count": 50
        }
      ]
    },
    {
      "cell_type": "code",
      "source": [
        "y_pred = model_ridge.predict(X_test)\n",
        "y_pred_3 = y_pred"
      ],
      "metadata": {
        "id": "hlrtc_z3WYFy"
      },
      "execution_count": 51,
      "outputs": []
    },
    {
      "cell_type": "code",
      "source": [
        "plt.plot(X_train, y_train, \"b.\")\n",
        "plt.plot(X_test, y_pred, \"g-\",label=\"Predictions Ridge Regularization\")\n",
        "plt.xlabel(\"$X$\", fontsize=18)\n",
        "plt.ylabel(\"$y$\", rotation=0, fontsize=18)\n",
        "plt.legend(loc=\"upper right\", fontsize=10);"
      ],
      "metadata": {
        "colab": {
          "base_uri": "https://localhost:8080/",
          "height": 287
        },
        "id": "vfViS2MNWbjY",
        "outputId": "57ad9aa3-f871-4a20-bec9-4a9c21280678"
      },
      "execution_count": 52,
      "outputs": [
        {
          "output_type": "display_data",
          "data": {
            "text/plain": [
              "<Figure size 432x288 with 1 Axes>"
            ],
            "image/png": "[encoded data removed]"
          },
          "metadata": {
            "needs_background": "light"
          }
        }
      ]
    },
    {
      "cell_type": "code",
      "source": [
        "from sklearn import metrics\n",
        "from sklearn.metrics import r2_score\n",
        "\n",
        "print('Error medio Absoluto (MAE):', metrics.mean_absolute_error(y_test, y_pred))\n",
        "print('Root Mean Squared Error:', np.sqrt(metrics.mean_squared_error(y_test, y_pred)))\n",
        "print('r2_score',r2_score(y_test, y_pred))"
      ],
      "metadata": {
        "colab": {
          "base_uri": "https://localhost:8080/"
        },
        "id": "NS2Cg2ZCe1Oy",
        "outputId": "6e9a909d-5574-448b-b64b-62bf7026a4f6"
      },
      "execution_count": 53,
      "outputs": [
        {
          "output_type": "stream",
          "name": "stdout",
          "text": [
            "Error medio Absoluto (MAE): 1.8748470913837028\n",
            "Root Mean Squared Error: 2.633252536081873\n",
            "r2_score 0.9010499586955597\n"
          ]
        }
      ]
    },
    {
      "cell_type": "markdown",
      "source": [
        "Es importante escalar los datos antes de realizar la **Regresión Lasso**:"
      ],
      "metadata": {
        "id": "k4t1Ps673BSv"
      }
    },
    {
      "cell_type": "code",
      "source": [
        "from sklearn.linear_model import Lasso\n",
        "\n",
        "model_lasso = Pipeline([(\"poly_features\", PolynomialFeatures(degree=15, include_bias=False)),\n",
        "                        (\"scaler\", StandardScaler()),\n",
        "                        (\"lasso\", Lasso(alpha = 5, random_state = 42))])\n",
        "model_lasso.fit(X_train, y_train)"
      ],
      "metadata": {
        "colab": {
          "base_uri": "https://localhost:8080/"
        },
        "id": "RO2wvyhn3P-A",
        "outputId": "b64aa81d-f11e-47ba-831d-c8c01df9044a"
      },
      "execution_count": 54,
      "outputs": [
        {
          "output_type": "execute_result",
          "data": {
            "text/plain": [
              "Pipeline(steps=[('poly_features',\n",
              "                 PolynomialFeatures(degree=15, include_bias=False)),\n",
              "                ('scaler', StandardScaler()),\n",
              "                ('lasso', Lasso(alpha=5, random_state=42))])"
            ]
          },
          "metadata": {},
          "execution_count": 54
        }
      ]
    },
    {
      "cell_type": "code",
      "source": [
        "y_pred = model_lasso.predict(X_test)\n",
        "y_pred_4=y_pred"
      ],
      "metadata": {
        "id": "avtNp16l3dpB"
      },
      "execution_count": 55,
      "outputs": []
    },
    {
      "cell_type": "code",
      "source": [
        "plt.plot(X_train, y_train, \"b.\")\n",
        "plt.plot(X_test, y_pred, \"g-\",label=\"Predictions Lasso Regularization\")\n",
        "plt.xlabel(\"$X$\", fontsize=18)\n",
        "plt.ylabel(\"$y$\", rotation=0, fontsize=18)\n",
        "plt.legend(loc=\"upper right\", fontsize=10);"
      ],
      "metadata": {
        "colab": {
          "base_uri": "https://localhost:8080/",
          "height": 287
        },
        "id": "h1RKhS7t3gfl",
        "outputId": "246b4c20-cf75-462c-aceb-6eaaeed8fc89"
      },
      "execution_count": 56,
      "outputs": [
        {
          "output_type": "display_data",
          "data": {
            "text/plain": [
              "<Figure size 432x288 with 1 Axes>"
            ],
            "image/png": "[encoded data removed]"
          },
          "metadata": {
            "needs_background": "light"
          }
        }
      ]
    },
    {
      "cell_type": "code",
      "source": [
        "from sklearn import metrics\n",
        "from sklearn.metrics import r2_score\n",
        "\n",
        "print('Error medio Absoluto (MAE):', metrics.mean_absolute_error(y_test, y_pred))\n",
        "print('Root Mean Squared Error:', np.sqrt(metrics.mean_squared_error(y_test, y_pred)))\n",
        "print('r2_score',r2_score(y_test, y_pred))"
      ],
      "metadata": {
        "colab": {
          "base_uri": "https://localhost:8080/"
        },
        "id": "Y1yVJAG2e-od",
        "outputId": "5b952d43-ceb1-4372-c692-2f020bd09b61"
      },
      "execution_count": 57,
      "outputs": [
        {
          "output_type": "stream",
          "name": "stdout",
          "text": [
            "Error medio Absoluto (MAE): 4.289168421954118\n",
            "Root Mean Squared Error: 5.261004628718388\n",
            "r2_score 0.605026166288049\n"
          ]
        }
      ]
    },
    {
      "cell_type": "markdown",
      "source": [
        "**Comentarios:** Observamos que no es necesario aplicar la regularizacion, pues basta con la estimacion de la regresion polinomica de grado 2"
      ],
      "metadata": {
        "id": "v_a59bkT3xBh"
      }
    },
    {
      "cell_type": "markdown",
      "source": [
        "## **1.5** Finalmente gráfica :\n",
        "MAE (de los cuatro métodos)\n",
        "R2 (de los cuatro métodos)\n",
        "\n"
      ],
      "metadata": {
        "id": "tsr08aUjUM6S"
      }
    },
    {
      "cell_type": "code",
      "source": [
        "# Definamos 4 modelos: el de regresión lineal(RLM); de RLM con \n",
        "# regularización L1 (lasso); de RLM con regularización L2 (ridge) y\n",
        "# regresion polinomica:  \n",
        "\n",
        "modelos = []\n",
        "modelos.append(('LR', LinearRegression()))\n",
        "modelos.append(('LASSO', Lasso(alpha=30)))  \n",
        "modelos.append(('RIDGE', Ridge(alpha=30)))  \n",
        "modelos.append(('PR', LinearRegression() ))\n",
        "\n",
        "\n",
        "yhat0 = []   # predicciones del modelo RLM\n",
        "yhat1 = []   # predicciones del RL con regularización L1\n",
        "yhat2 = []   # predicciones del RL con regularización L2\n",
        "yhat12 = []  # predicciones del RL polinomica\n",
        "\n",
        "\n",
        "for name, model in modelos:\n",
        "  # entrenamos el modelo seleccionado y obtenemos sus predicciones:\n",
        "  print(\"%s:\" % name)\n",
        "  mm = model.fit(X, np.ravel(y))\n",
        "  yhat = mm.predict(X)\n",
        "  \n",
        "  print(mm.intercept_)   \n",
        "  print(mm.coef_)      \n",
        "\n",
        "  if name=='LR':\n",
        "    yhat0.append(yhat)\n",
        "    print('\\n')\n",
        "  elif name=='LASSO':\n",
        "    yhat1.append(yhat)\n",
        "    print('\\n')\n",
        "  elif name=='RIDGE':\n",
        "    yhat2.append(yhat)\n",
        "    print('\\n')\n",
        "  else:\n",
        "    yhat12.append(yhat)"
      ],
      "metadata": {
        "colab": {
          "base_uri": "https://localhost:8080/"
        },
        "id": "lJwnIOiu5Io3",
        "outputId": "37727292-2b88-427f-bfa1-57d8232c7281"
      },
      "execution_count": 58,
      "outputs": [
        {
          "output_type": "stream",
          "name": "stdout",
          "text": [
            "LR:\n",
            "67.03904193389238\n",
            "[-6.0333683]\n",
            "\n",
            "\n",
            "LASSO:\n",
            "40.05299943155\n",
            "[-0.]\n",
            "\n",
            "\n",
            "RIDGE:\n",
            "66.5926854931002\n",
            "[-5.93357476]\n",
            "\n",
            "\n",
            "PR:\n",
            "67.03904193389238\n",
            "[-6.0333683]\n"
          ]
        }
      ]
    },
    {
      "cell_type": "code",
      "source": [
        "from sklearn import metrics\n",
        "from sklearn.metrics import r2_score\n",
        "\n",
        "print('RL Error medio Absoluto (MAE) RL:', metrics.mean_absolute_error(y_test, y_pred_1))\n",
        "print('RL Root Mean Squared Error:', np.sqrt(metrics.mean_squared_error(y_test, y_pred_1)))\n",
        "print('RL r2_score',r2_score(y_test, y_pred_1))\n",
        "\n",
        "print('\\n')\n",
        "print('RL Polinomial Error medio Absoluto (MAE):', metrics.mean_absolute_error(y_test, y_pred_2))\n",
        "print('RL Polinomial Root Mean Squared Error:', np.sqrt(metrics.mean_squared_error(y_test, y_pred_2)))\n",
        "print('RL Polinomial r2_score',r2_score(y_test, y_pred_2))\n",
        "\n",
        "print('\\n')\n",
        "print('RL L1 RIDGE Error medio Absoluto (MAE):', metrics.mean_absolute_error(y_test, y_pred_3))\n",
        "print('RL L1 RIDGE Root Mean Squared Error:', np.sqrt(metrics.mean_squared_error(y_test, y_pred_3)))\n",
        "print('RL L1 RIDGE r2_score',r2_score(y_test, y_pred_3))\n",
        "\n",
        "print('\\n')\n",
        "print('RL L2 LASSO Error medio Absoluto (MAE):', metrics.mean_absolute_error(y_test, y_pred_4))\n",
        "print('RL L2 LASSO Root Mean Squared Error:', np.sqrt(metrics.mean_squared_error(y_test, y_pred_4)))\n",
        "print('RL L2 LASSO r2_score',r2_score(y_test, y_pred_4))"
      ],
      "metadata": {
        "colab": {
          "base_uri": "https://localhost:8080/"
        },
        "id": "0gbzb-a1imjg",
        "outputId": "d72e30b5-0b8c-4011-f7eb-2943b2197656"
      },
      "execution_count": 59,
      "outputs": [
        {
          "output_type": "stream",
          "name": "stdout",
          "text": [
            "RL Error medio Absoluto (MAE) RL: 0.0\n",
            "RL Root Mean Squared Error: 0.0\n",
            "RL r2_score 1.0\n",
            "\n",
            "\n",
            "RL Polinomial Error medio Absoluto (MAE): 1.9522094521364572\n",
            "RL Polinomial Root Mean Squared Error: 3.138026878215887\n",
            "RL Polinomial r2_score 0.8594780150351065\n",
            "\n",
            "\n",
            "RL L1 RIDGE Error medio Absoluto (MAE): 1.8748470913837028\n",
            "RL L1 RIDGE Root Mean Squared Error: 2.633252536081873\n",
            "RL L1 RIDGE r2_score 0.9010499586955597\n",
            "\n",
            "\n",
            "RL L2 LASSO Error medio Absoluto (MAE): 4.289168421954118\n",
            "RL L2 LASSO Root Mean Squared Error: 5.261004628718388\n",
            "RL L2 LASSO r2_score 0.605026166288049\n"
          ]
        }
      ]
    },
    {
      "cell_type": "markdown",
      "source": [
        "**Comentarios:** Se observa que e mejor comportamiento de la prediccion es para la regresion polinomial"
      ],
      "metadata": {
        "id": "Tvk9LLO7kF6-"
      }
    },
    {
      "cell_type": "markdown",
      "source": [
        "## **1.6** Explica tus resultados, que método conviene más a la empresa, ¿por que?, ¿que porcentajes de entrenamiento y evaluación usaste?, ¿que error tienes?, ¿es bueno?, ¿cómo lo sabes?"
      ],
      "metadata": {
        "id": "SYvWaH0BUPIR"
      }
    },
    {
      "cell_type": "markdown",
      "source": [
        "El mejorresultado obtenido y que conviene mas a la empresa es la que genere mayor rentabilidad, sin embargo de acuerdo al modelo de datos se observa que el mejor es la regresion polinomica ya que es de acuerdo al ajuste de los datos.\n",
        "\n",
        "The model estimates:\n",
        "\n",
        "$\\hat{y} = 1.13X^2 - 16.4X + 88.80$\n",
        "\n",
        "Como es una funcion de costo se observa que su naturaleza es una funcion cuadratica, donde a mayor costo de produccion se asocia un menor numero de ventas. Por lo que la recoemndacion es que entre as produccion genere el costo de esa misma produccion disminuye aunuqe el costo base es decir el intercepto es de 88.80 como base,  indicando que el costo fijo por unidad se va reduciendo a medida que aumentamos el número de unidades del producto.\n",
        "\n",
        "De acuerdo a los resultados del modelo con 65% como resultado del R-cuadrada observamos que puede predecir bien y puede ser confiable aunque puede recalibrarse y mejorarse. Por lo que se concluye que es buena la prediccion. Ahora dada la naturaleza de la variable que teniamos que explicar basto con enfocar mas a datos de train. \n"
      ],
      "metadata": {
        "id": "lHoT0GnBHpdE"
      }
    },
    {
      "cell_type": "markdown",
      "source": [
        "## **Referencias Bibliograficas Ejercicio 1**\n",
        "\n",
        "> Regularización Ridge, Lasso y Elastic Net con Python. (s/f). Cienciadedatos.\n",
        "net. Recuperado el 9 de noviembre de 2022, de https://www.cienciadedatos.net/documentos/py14-ridge-lasso-elastic-net-python.html\n",
        "\n",
        "> COSTO DE PRODUCCION. (s/f). Angelfire.com. Recuperado el 10 de noviembre de 2022, de https://www.angelfire.com/bc3/valle/capitulo6.htm"
      ],
      "metadata": {
        "id": "IMlTU9vjz-YA"
      }
    },
    {
      "cell_type": "markdown",
      "metadata": {
        "id": "CfqcmLmxLoe9"
      },
      "source": [
        "#Ejercicio 2\n",
        "\n",
        "Encuentra el mejor regresor para los datos de las casas:\n",
        "\n",
        "> **2.1** Divide los datos. Utiliza la función train_test_split (ya esta en el notebook).\n",
        "\n",
        "> **2.2** Regresión Múltiple Lineal.\n",
        "Realiza la regresión lineal: modelo generado (ecuación), sus errores y r cuadrada.\n",
        "\n",
        "> **2.3** Regresión Múltiple Polinomial.\n",
        "Realiza la regresión polinomial completa, tu modelo generado (ecuación), sus errores y r cuadrada.\n",
        "\n",
        "> **2.4** Realiza la regresión con Ridge y Lasso. Incluye la ecuación de tu modelo, errores y r cuadrada.\n",
        "\n",
        "> **2.5** Finalmente gráfica :\n",
        "MAE (de los cuatro métodos)\n",
        "R2 (de los cuatro métodos)\n",
        "> ** 2.6** Explica tus resultados, que método se aproxima mejor, ¿por qué?, ¿qué porcentajes de entrenamiento y evaluación usaste? ¿Que error tienes?, ¿es bueno?, ¿Cómo lo sabes?\n",
        "Agrega las conclusiones\n",
        "\n",
        "\n",
        "Realiza la regresión polinomial de los siguientes datos:"
      ]
    },
    {
      "cell_type": "code",
      "source": [
        "df = pd.read_csv('https://raw.githubusercontent.com/marypazrf/bdd/main/kc_house_data.csv')\n",
        "df.sample(10)"
      ],
      "metadata": {
        "id": "57bn0j38qGrg",
        "colab": {
          "base_uri": "https://localhost:8080/",
          "height": 392
        },
        "outputId": "c02f87fb-a7bb-4b69-c4a1-cc3bbd0eb2e3"
      },
      "execution_count": 60,
      "outputs": [
        {
          "output_type": "execute_result",
          "data": {
            "text/plain": [
              "               id             date      price  bedrooms  bathrooms  \\\n",
              "5954   7852020250  20140602T000000   725995.0         4       2.50   \n",
              "8610   6392002020  20150324T000000   559000.0         3       1.75   \n",
              "7650    626049058  20150504T000000   275000.0         5       2.50   \n",
              "5683   2202500255  20150305T000000   335000.0         3       2.00   \n",
              "20773  7304301231  20140617T000000   345000.0         3       2.50   \n",
              "6959    723000114  20140505T000000  1395000.0         5       3.50   \n",
              "10784  4104900340  20150204T000000   710000.0         4       2.50   \n",
              "21529  2487200490  20140623T000000   670000.0         3       2.50   \n",
              "12319  2386000070  20141029T000000   795127.0         4       3.25   \n",
              "19948   293070090  20140711T000000   859990.0         4       2.75   \n",
              "\n",
              "       sqft_living  sqft_lot  floors  waterfront  view  ...  grade  \\\n",
              "5954          3190      7869     2.0           0     2  ...      9   \n",
              "8610          1700      6500     1.0           0     0  ...      8   \n",
              "7650          2570     17234     1.0           0     0  ...      7   \n",
              "5683          1210      9926     1.0           0     0  ...      7   \n",
              "20773         1680      2229     2.0           0     0  ...      7   \n",
              "6959          4010      8510     2.0           0     1  ...      9   \n",
              "10784         3220     18618     2.0           0     1  ...     10   \n",
              "21529         3310      5300     2.0           0     2  ...      8   \n",
              "12319         4360     91158     1.0           0     0  ...     10   \n",
              "19948         3520      5500     2.0           0     0  ...      9   \n",
              "\n",
              "       sqft_above  sqft_basement  yr_built  yr_renovated  zipcode      lat  \\\n",
              "5954         3190              0      2001             0    98065  47.5317   \n",
              "8610         1700              0      1967             0    98115  47.6837   \n",
              "7650         1300           1270      1959             0    98133  47.7753   \n",
              "5683         1210              0      1954          2015    98006  47.5731   \n",
              "20773        1680              0      2007             0    98155  47.7484   \n",
              "6959         2850           1160      1971             0    98105  47.6578   \n",
              "10784        3220              0      1991             0    98056  47.5326   \n",
              "21529        2440            870      2008             0    98136  47.5178   \n",
              "12319        3360           1000      1993             0    98053  47.6398   \n",
              "19948        3520              0      2014             0    98074  47.6181   \n",
              "\n",
              "          long  sqft_living15  sqft_lot15  \n",
              "5954  -121.866           2630        6739  \n",
              "8610  -122.284           1880        6000  \n",
              "7650  -122.355           1760        7969  \n",
              "5683  -122.135           1690        9737  \n",
              "20773 -122.322           1230        9300  \n",
              "6959  -122.286           2610        6128  \n",
              "10784 -122.181           2650       11896  \n",
              "21529 -122.389           2140        7500  \n",
              "12319 -121.985           3540       90940  \n",
              "19948 -122.056           3340        5500  \n",
              "\n",
              "[10 rows x 21 columns]"
            ],
            "text/html": [
              "\n",
              "  <div id=\"df-b837b3f7-768b-4567-97af-3363ab8f01c8\">\n",
              "    <div class=\"colab-df-container\">\n",
              "      <div>\n",
              "<style scoped>\n",
              "    .dataframe tbody tr th:only-of-type {\n",
              "        vertical-align: middle;\n",
              "    }\n",
              "\n",
              "    .dataframe tbody tr th {\n",
              "        vertical-align: top;\n",
              "    }\n",
              "\n",
              "    .dataframe thead th {\n",
              "        text-align: right;\n",
              "    }\n",
              "</style>\n",
              "<table border=\"1\" class=\"dataframe\">\n",
              "  <thead>\n",
              "    <tr style=\"text-align: right;\">\n",
              "      <th></th>\n",
              "      <th>id</th>\n",
              "      <th>date</th>\n",
              "      <th>price</th>\n",
              "      <th>bedrooms</th>\n",
              "      <th>bathrooms</th>\n",
              "      <th>sqft_living</th>\n",
              "      <th>sqft_lot</th>\n",
              "      <th>floors</th>\n",
              "      <th>waterfront</th>\n",
              "      <th>view</th>\n",
              "      <th>...</th>\n",
              "      <th>grade</th>\n",
              "      <th>sqft_above</th>\n",
              "      <th>sqft_basement</th>\n",
              "      <th>yr_built</th>\n",
              "      <th>yr_renovated</th>\n",
              "      <th>zipcode</th>\n",
              "      <th>lat</th>\n",
              "      <th>long</th>\n",
              "      <th>sqft_living15</th>\n",
              "      <th>sqft_lot15</th>\n",
              "    </tr>\n",
              "  </thead>\n",
              "  <tbody>\n",
              "    <tr>\n",
              "      <th>5954</th>\n",
              "      <td>7852020250</td>\n",
              "      <td>20140602T000000</td>\n",
              "      <td>725995.0</td>\n",
              "      <td>4</td>\n",
              "      <td>2.50</td>\n",
              "      <td>3190</td>\n",
              "      <td>7869</td>\n",
              "      <td>2.0</td>\n",
              "      <td>0</td>\n",
              "      <td>2</td>\n",
              "      <td>...</td>\n",
              "      <td>9</td>\n",
              "      <td>3190</td>\n",
              "      <td>0</td>\n",
              "      <td>2001</td>\n",
              "      <td>0</td>\n",
              "      <td>98065</td>\n",
              "      <td>47.5317</td>\n",
              "      <td>-121.866</td>\n",
              "      <td>2630</td>\n",
              "      <td>6739</td>\n",
              "    </tr>\n",
              "    <tr>\n",
              "      <th>8610</th>\n",
              "      <td>6392002020</td>\n",
              "      <td>20150324T000000</td>\n",
              "      <td>559000.0</td>\n",
              "      <td>3</td>\n",
              "      <td>1.75</td>\n",
              "      <td>1700</td>\n",
              "      <td>6500</td>\n",
              "      <td>1.0</td>\n",
              "      <td>0</td>\n",
              "      <td>0</td>\n",
              "      <td>...</td>\n",
              "      <td>8</td>\n",
              "      <td>1700</td>\n",
              "      <td>0</td>\n",
              "      <td>1967</td>\n",
              "      <td>0</td>\n",
              "      <td>98115</td>\n",
              "      <td>47.6837</td>\n",
              "      <td>-122.284</td>\n",
              "      <td>1880</td>\n",
              "      <td>6000</td>\n",
              "    </tr>\n",
              "    <tr>\n",
              "      <th>7650</th>\n",
              "      <td>626049058</td>\n",
              "      <td>20150504T000000</td>\n",
              "      <td>275000.0</td>\n",
              "      <td>5</td>\n",
              "      <td>2.50</td>\n",
              "      <td>2570</td>\n",
              "      <td>17234</td>\n",
              "      <td>1.0</td>\n",
              "      <td>0</td>\n",
              "      <td>0</td>\n",
              "      <td>...</td>\n",
              "      <td>7</td>\n",
              "      <td>1300</td>\n",
              "      <td>1270</td>\n",
              "      <td>1959</td>\n",
              "      <td>0</td>\n",
              "      <td>98133</td>\n",
              "      <td>47.7753</td>\n",
              "      <td>-122.355</td>\n",
              "      <td>1760</td>\n",
              "      <td>7969</td>\n",
              "    </tr>\n",
              "    <tr>\n",
              "      <th>5683</th>\n",
              "      <td>2202500255</td>\n",
              "      <td>20150305T000000</td>\n",
              "      <td>335000.0</td>\n",
              "      <td>3</td>\n",
              "      <td>2.00</td>\n",
              "      <td>1210</td>\n",
              "      <td>9926</td>\n",
              "      <td>1.0</td>\n",
              "      <td>0</td>\n",
              "      <td>0</td>\n",
              "      <td>...</td>\n",
              "      <td>7</td>\n",
              "      <td>1210</td>\n",
              "      <td>0</td>\n",
              "      <td>1954</td>\n",
              "      <td>2015</td>\n",
              "      <td>98006</td>\n",
              "      <td>47.5731</td>\n",
              "      <td>-122.135</td>\n",
              "      <td>1690</td>\n",
              "      <td>9737</td>\n",
              "    </tr>\n",
              "    <tr>\n",
              "      <th>20773</th>\n",
              "      <td>7304301231</td>\n",
              "      <td>20140617T000000</td>\n",
              "      <td>345000.0</td>\n",
              "      <td>3</td>\n",
              "      <td>2.50</td>\n",
              "      <td>1680</td>\n",
              "      <td>2229</td>\n",
              "      <td>2.0</td>\n",
              "      <td>0</td>\n",
              "      <td>0</td>\n",
              "      <td>...</td>\n",
              "      <td>7</td>\n",
              "      <td>1680</td>\n",
              "      <td>0</td>\n",
              "      <td>2007</td>\n",
              "      <td>0</td>\n",
              "      <td>98155</td>\n",
              "      <td>47.7484</td>\n",
              "      <td>-122.322</td>\n",
              "      <td>1230</td>\n",
              "      <td>9300</td>\n",
              "    </tr>\n",
              "    <tr>\n",
              "      <th>6959</th>\n",
              "      <td>723000114</td>\n",
              "      <td>20140505T000000</td>\n",
              "      <td>1395000.0</td>\n",
              "      <td>5</td>\n",
              "      <td>3.50</td>\n",
              "      <td>4010</td>\n",
              "      <td>8510</td>\n",
              "      <td>2.0</td>\n",
              "      <td>0</td>\n",
              "      <td>1</td>\n",
              "      <td>...</td>\n",
              "      <td>9</td>\n",
              "      <td>2850</td>\n",
              "      <td>1160</td>\n",
              "      <td>1971</td>\n",
              "      <td>0</td>\n",
              "      <td>98105</td>\n",
              "      <td>47.6578</td>\n",
              "      <td>-122.286</td>\n",
              "      <td>2610</td>\n",
              "      <td>6128</td>\n",
              "    </tr>\n",
              "    <tr>\n",
              "      <th>10784</th>\n",
              "      <td>4104900340</td>\n",
              "      <td>20150204T000000</td>\n",
              "      <td>710000.0</td>\n",
              "      <td>4</td>\n",
              "      <td>2.50</td>\n",
              "      <td>3220</td>\n",
              "      <td>18618</td>\n",
              "      <td>2.0</td>\n",
              "      <td>0</td>\n",
              "      <td>1</td>\n",
              "      <td>...</td>\n",
              "      <td>10</td>\n",
              "      <td>3220</td>\n",
              "      <td>0</td>\n",
              "      <td>1991</td>\n",
              "      <td>0</td>\n",
              "      <td>98056</td>\n",
              "      <td>47.5326</td>\n",
              "      <td>-122.181</td>\n",
              "      <td>2650</td>\n",
              "      <td>11896</td>\n",
              "    </tr>\n",
              "    <tr>\n",
              "      <th>21529</th>\n",
              "      <td>2487200490</td>\n",
              "      <td>20140623T000000</td>\n",
              "      <td>670000.0</td>\n",
              "      <td>3</td>\n",
              "      <td>2.50</td>\n",
              "      <td>3310</td>\n",
              "      <td>5300</td>\n",
              "      <td>2.0</td>\n",
              "      <td>0</td>\n",
              "      <td>2</td>\n",
              "      <td>...</td>\n",
              "      <td>8</td>\n",
              "      <td>2440</td>\n",
              "      <td>870</td>\n",
              "      <td>2008</td>\n",
              "      <td>0</td>\n",
              "      <td>98136</td>\n",
              "      <td>47.5178</td>\n",
              "      <td>-122.389</td>\n",
              "      <td>2140</td>\n",
              "      <td>7500</td>\n",
              "    </tr>\n",
              "    <tr>\n",
              "      <th>12319</th>\n",
              "      <td>2386000070</td>\n",
              "      <td>20141029T000000</td>\n",
              "      <td>795127.0</td>\n",
              "      <td>4</td>\n",
              "      <td>3.25</td>\n",
              "      <td>4360</td>\n",
              "      <td>91158</td>\n",
              "      <td>1.0</td>\n",
              "      <td>0</td>\n",
              "      <td>0</td>\n",
              "      <td>...</td>\n",
              "      <td>10</td>\n",
              "      <td>3360</td>\n",
              "      <td>1000</td>\n",
              "      <td>1993</td>\n",
              "      <td>0</td>\n",
              "      <td>98053</td>\n",
              "      <td>47.6398</td>\n",
              "      <td>-121.985</td>\n",
              "      <td>3540</td>\n",
              "      <td>90940</td>\n",
              "    </tr>\n",
              "    <tr>\n",
              "      <th>19948</th>\n",
              "      <td>293070090</td>\n",
              "      <td>20140711T000000</td>\n",
              "      <td>859990.0</td>\n",
              "      <td>4</td>\n",
              "      <td>2.75</td>\n",
              "      <td>3520</td>\n",
              "      <td>5500</td>\n",
              "      <td>2.0</td>\n",
              "      <td>0</td>\n",
              "      <td>0</td>\n",
              "      <td>...</td>\n",
              "      <td>9</td>\n",
              "      <td>3520</td>\n",
              "      <td>0</td>\n",
              "      <td>2014</td>\n",
              "      <td>0</td>\n",
              "      <td>98074</td>\n",
              "      <td>47.6181</td>\n",
              "      <td>-122.056</td>\n",
              "      <td>3340</td>\n",
              "      <td>5500</td>\n",
              "    </tr>\n",
              "  </tbody>\n",
              "</table>\n",
              "<p>10 rows × 21 columns</p>\n",
              "</div>\n",
              "      <button class=\"colab-df-convert\" onclick=\"convertToInteractive('df-b837b3f7-768b-4567-97af-3363ab8f01c8')\"\n",
              "              title=\"Convert this dataframe to an interactive table.\"\n",
              "              style=\"display:none;\">\n",
              "        \n",
              "  <svg xmlns=\"http://www.w3.org/2000/svg\" height=\"24px\"viewBox=\"0 0 24 24\"\n",
              "       width=\"24px\">\n",
              "    <path d=\"M0 0h24v24H0V0z\" fill=\"none\"/>\n",
              "    <path d=\"M18.56 5.44l.94 2.06.94-2.06 2.06-.94-2.06-.94-.94-2.06-.94 2.06-2.06.94zm-11 1L8.5 8.5l.94-2.06 2.06-.94-2.06-.94L8.5 2.5l-.94 2.06-2.06.94zm10 10l.94 2.06.94-2.06 2.06-.94-2.06-.94-.94-2.06-.94 2.06-2.06.94z\"/><path d=\"M17.41 7.96l-1.37-1.37c-.4-.4-.92-.59-1.43-.59-.52 0-1.04.2-1.43.59L10.3 9.45l-7.72 7.72c-.78.78-.78 2.05 0 2.83L4 21.41c.39.39.9.59 1.41.59.51 0 1.02-.2 1.41-.59l7.78-7.78 2.81-2.81c.8-.78.8-2.07 0-2.86zM5.41 20L4 18.59l7.72-7.72 1.47 1.35L5.41 20z\"/>\n",
              "  </svg>\n",
              "      </button>\n",
              "      \n",
              "  <style>\n",
              "    .colab-df-container {\n",
              "      display:flex;\n",
              "      flex-wrap:wrap;\n",
              "      gap: 12px;\n",
              "    }\n",
              "\n",
              "    .colab-df-convert {\n",
              "      background-color: #E8F0FE;\n",
              "      border: none;\n",
              "      border-radius: 50%;\n",
              "      cursor: pointer;\n",
              "      display: none;\n",
              "      fill: #1967D2;\n",
              "      height: 32px;\n",
              "      padding: 0 0 0 0;\n",
              "      width: 32px;\n",
              "    }\n",
              "\n",
              "    .colab-df-convert:hover {\n",
              "      background-color: #E2EBFA;\n",
              "      box-shadow: 0px 1px 2px rgba(60, 64, 67, 0.3), 0px 1px 3px 1px rgba(60, 64, 67, 0.15);\n",
              "      fill: #174EA6;\n",
              "    }\n",
              "\n",
              "    [theme=dark] .colab-df-convert {\n",
              "      background-color: #3B4455;\n",
              "      fill: #D2E3FC;\n",
              "    }\n",
              "\n",
              "    [theme=dark] .colab-df-convert:hover {\n",
              "      background-color: #434B5C;\n",
              "      box-shadow: 0px 1px 3px 1px rgba(0, 0, 0, 0.15);\n",
              "      filter: drop-shadow(0px 1px 2px rgba(0, 0, 0, 0.3));\n",
              "      fill: #FFFFFF;\n",
              "    }\n",
              "  </style>\n",
              "\n",
              "      <script>\n",
              "        const buttonEl =\n",
              "          document.querySelector('#df-b837b3f7-768b-4567-97af-3363ab8f01c8 button.colab-df-convert');\n",
              "        buttonEl.style.display =\n",
              "          google.colab.kernel.accessAllowed ? 'block' : 'none';\n",
              "\n",
              "        async function convertToInteractive(key) {\n",
              "          const element = document.querySelector('#df-b837b3f7-768b-4567-97af-3363ab8f01c8');\n",
              "          const dataTable =\n",
              "            await google.colab.kernel.invokeFunction('convertToInteractive',\n",
              "                                                     [key], {});\n",
              "          if (!dataTable) return;\n",
              "\n",
              "          const docLinkHtml = 'Like what you see? Visit the ' +\n",
              "            '<a target=\"_blank\" href=https://colab.research.google.com/notebooks/data_table.ipynb>data table notebook</a>'\n",
              "            + ' to learn more about interactive tables.';\n",
              "          element.innerHTML = '';\n",
              "          dataTable['output_type'] = 'display_data';\n",
              "          await google.colab.output.renderOutput(dataTable, element);\n",
              "          const docLink = document.createElement('div');\n",
              "          docLink.innerHTML = docLinkHtml;\n",
              "          element.appendChild(docLink);\n",
              "        }\n",
              "      </script>\n",
              "    </div>\n",
              "  </div>\n",
              "  "
            ]
          },
          "metadata": {},
          "execution_count": 60
        }
      ]
    },
    {
      "cell_type": "code",
      "source": [
        "df.info()"
      ],
      "metadata": {
        "id": "n0fs14KoqI3M",
        "colab": {
          "base_uri": "https://localhost:8080/"
        },
        "outputId": "33f178ad-f550-41c9-85e2-2d34b54c73e4"
      },
      "execution_count": 61,
      "outputs": [
        {
          "output_type": "stream",
          "name": "stdout",
          "text": [
            "<class 'pandas.core.frame.DataFrame'>\n",
            "RangeIndex: 21613 entries, 0 to 21612\n",
            "Data columns (total 21 columns):\n",
            " #   Column         Non-Null Count  Dtype  \n",
            "---  ------         --------------  -----  \n",
            " 0   id             21613 non-null  int64  \n",
            " 1   date           21613 non-null  object \n",
            " 2   price          21613 non-null  float64\n",
            " 3   bedrooms       21613 non-null  int64  \n",
            " 4   bathrooms      21613 non-null  float64\n",
            " 5   sqft_living    21613 non-null  int64  \n",
            " 6   sqft_lot       21613 non-null  int64  \n",
            " 7   floors         21613 non-null  float64\n",
            " 8   waterfront     21613 non-null  int64  \n",
            " 9   view           21613 non-null  int64  \n",
            " 10  condition      21613 non-null  int64  \n",
            " 11  grade          21613 non-null  int64  \n",
            " 12  sqft_above     21613 non-null  int64  \n",
            " 13  sqft_basement  21613 non-null  int64  \n",
            " 14  yr_built       21613 non-null  int64  \n",
            " 15  yr_renovated   21613 non-null  int64  \n",
            " 16  zipcode        21613 non-null  int64  \n",
            " 17  lat            21613 non-null  float64\n",
            " 18  long           21613 non-null  float64\n",
            " 19  sqft_living15  21613 non-null  int64  \n",
            " 20  sqft_lot15     21613 non-null  int64  \n",
            "dtypes: float64(5), int64(15), object(1)\n",
            "memory usage: 3.5+ MB\n"
          ]
        }
      ]
    },
    {
      "cell_type": "code",
      "source": [
        "df.describe()"
      ],
      "metadata": {
        "id": "1PNzDJZeqKhe",
        "colab": {
          "base_uri": "https://localhost:8080/",
          "height": 300
        },
        "outputId": "0eae0d8c-5d55-47db-e591-8dbbf985dc1d"
      },
      "execution_count": 62,
      "outputs": [
        {
          "output_type": "execute_result",
          "data": {
            "text/plain": [
              "                 id         price      bedrooms     bathrooms   sqft_living  \\\n",
              "count  2.161300e+04  2.161300e+04  21613.000000  21613.000000  21613.000000   \n",
              "mean   4.580302e+09  5.400881e+05      3.370842      2.114757   2079.899736   \n",
              "std    2.876566e+09  3.671272e+05      0.930062      0.770163    918.440897   \n",
              "min    1.000102e+06  7.500000e+04      0.000000      0.000000    290.000000   \n",
              "25%    2.123049e+09  3.219500e+05      3.000000      1.750000   1427.000000   \n",
              "50%    3.904930e+09  4.500000e+05      3.000000      2.250000   1910.000000   \n",
              "75%    7.308900e+09  6.450000e+05      4.000000      2.500000   2550.000000   \n",
              "max    9.900000e+09  7.700000e+06     33.000000      8.000000  13540.000000   \n",
              "\n",
              "           sqft_lot        floors    waterfront          view     condition  \\\n",
              "count  2.161300e+04  21613.000000  21613.000000  21613.000000  21613.000000   \n",
              "mean   1.510697e+04      1.494309      0.007542      0.234303      3.409430   \n",
              "std    4.142051e+04      0.539989      0.086517      0.766318      0.650743   \n",
              "min    5.200000e+02      1.000000      0.000000      0.000000      1.000000   \n",
              "25%    5.040000e+03      1.000000      0.000000      0.000000      3.000000   \n",
              "50%    7.618000e+03      1.500000      0.000000      0.000000      3.000000   \n",
              "75%    1.068800e+04      2.000000      0.000000      0.000000      4.000000   \n",
              "max    1.651359e+06      3.500000      1.000000      4.000000      5.000000   \n",
              "\n",
              "              grade    sqft_above  sqft_basement      yr_built  yr_renovated  \\\n",
              "count  21613.000000  21613.000000   21613.000000  21613.000000  21613.000000   \n",
              "mean       7.656873   1788.390691     291.509045   1971.005136     84.402258   \n",
              "std        1.175459    828.090978     442.575043     29.373411    401.679240   \n",
              "min        1.000000    290.000000       0.000000   1900.000000      0.000000   \n",
              "25%        7.000000   1190.000000       0.000000   1951.000000      0.000000   \n",
              "50%        7.000000   1560.000000       0.000000   1975.000000      0.000000   \n",
              "75%        8.000000   2210.000000     560.000000   1997.000000      0.000000   \n",
              "max       13.000000   9410.000000    4820.000000   2015.000000   2015.000000   \n",
              "\n",
              "            zipcode           lat          long  sqft_living15     sqft_lot15  \n",
              "count  21613.000000  21613.000000  21613.000000   21613.000000   21613.000000  \n",
              "mean   98077.939805     47.560053   -122.213896    1986.552492   12768.455652  \n",
              "std       53.505026      0.138564      0.140828     685.391304   27304.179631  \n",
              "min    98001.000000     47.155900   -122.519000     399.000000     651.000000  \n",
              "25%    98033.000000     47.471000   -122.328000    1490.000000    5100.000000  \n",
              "50%    98065.000000     47.571800   -122.230000    1840.000000    7620.000000  \n",
              "75%    98118.000000     47.678000   -122.125000    2360.000000   10083.000000  \n",
              "max    98199.000000     47.777600   -121.315000    6210.000000  871200.000000  "
            ],
            "text/html": [
              "\n",
              "  <div id=\"df-922de98a-57a3-429e-8691-f711b8840c07\">\n",
              "    <div class=\"colab-df-container\">\n",
              "      <div>\n",
              "<style scoped>\n",
              "    .dataframe tbody tr th:only-of-type {\n",
              "        vertical-align: middle;\n",
              "    }\n",
              "\n",
              "    .dataframe tbody tr th {\n",
              "        vertical-align: top;\n",
              "    }\n",
              "\n",
              "    .dataframe thead th {\n",
              "        text-align: right;\n",
              "    }\n",
              "</style>\n",
              "<table border=\"1\" class=\"dataframe\">\n",
              "  <thead>\n",
              "    <tr style=\"text-align: right;\">\n",
              "      <th></th>\n",
              "      <th>id</th>\n",
              "      <th>price</th>\n",
              "      <th>bedrooms</th>\n",
              "      <th>bathrooms</th>\n",
              "      <th>sqft_living</th>\n",
              "      <th>sqft_lot</th>\n",
              "      <th>floors</th>\n",
              "      <th>waterfront</th>\n",
              "      <th>view</th>\n",
              "      <th>condition</th>\n",
              "      <th>grade</th>\n",
              "      <th>sqft_above</th>\n",
              "      <th>sqft_basement</th>\n",
              "      <th>yr_built</th>\n",
              "      <th>yr_renovated</th>\n",
              "      <th>zipcode</th>\n",
              "      <th>lat</th>\n",
              "      <th>long</th>\n",
              "      <th>sqft_living15</th>\n",
              "      <th>sqft_lot15</th>\n",
              "    </tr>\n",
              "  </thead>\n",
              "  <tbody>\n",
              "    <tr>\n",
              "      <th>count</th>\n",
              "      <td>2.161300e+04</td>\n",
              "      <td>2.161300e+04</td>\n",
              "      <td>21613.000000</td>\n",
              "      <td>21613.000000</td>\n",
              "      <td>21613.000000</td>\n",
              "      <td>2.161300e+04</td>\n",
              "      <td>21613.000000</td>\n",
              "      <td>21613.000000</td>\n",
              "      <td>21613.000000</td>\n",
              "      <td>21613.000000</td>\n",
              "      <td>21613.000000</td>\n",
              "      <td>21613.000000</td>\n",
              "      <td>21613.000000</td>\n",
              "      <td>21613.000000</td>\n",
              "      <td>21613.000000</td>\n",
              "      <td>21613.000000</td>\n",
              "      <td>21613.000000</td>\n",
              "      <td>21613.000000</td>\n",
              "      <td>21613.000000</td>\n",
              "      <td>21613.000000</td>\n",
              "    </tr>\n",
              "    <tr>\n",
              "      <th>mean</th>\n",
              "      <td>4.580302e+09</td>\n",
              "      <td>5.400881e+05</td>\n",
              "      <td>3.370842</td>\n",
              "      <td>2.114757</td>\n",
              "      <td>2079.899736</td>\n",
              "      <td>1.510697e+04</td>\n",
              "      <td>1.494309</td>\n",
              "      <td>0.007542</td>\n",
              "      <td>0.234303</td>\n",
              "      <td>3.409430</td>\n",
              "      <td>7.656873</td>\n",
              "      <td>1788.390691</td>\n",
              "      <td>291.509045</td>\n",
              "      <td>1971.005136</td>\n",
              "      <td>84.402258</td>\n",
              "      <td>98077.939805</td>\n",
              "      <td>47.560053</td>\n",
              "      <td>-122.213896</td>\n",
              "      <td>1986.552492</td>\n",
              "      <td>12768.455652</td>\n",
              "    </tr>\n",
              "    <tr>\n",
              "      <th>std</th>\n",
              "      <td>2.876566e+09</td>\n",
              "      <td>3.671272e+05</td>\n",
              "      <td>0.930062</td>\n",
              "      <td>0.770163</td>\n",
              "      <td>918.440897</td>\n",
              "      <td>4.142051e+04</td>\n",
              "      <td>0.539989</td>\n",
              "      <td>0.086517</td>\n",
              "      <td>0.766318</td>\n",
              "      <td>0.650743</td>\n",
              "      <td>1.175459</td>\n",
              "      <td>828.090978</td>\n",
              "      <td>442.575043</td>\n",
              "      <td>29.373411</td>\n",
              "      <td>401.679240</td>\n",
              "      <td>53.505026</td>\n",
              "      <td>0.138564</td>\n",
              "      <td>0.140828</td>\n",
              "      <td>685.391304</td>\n",
              "      <td>27304.179631</td>\n",
              "    </tr>\n",
              "    <tr>\n",
              "      <th>min</th>\n",
              "      <td>1.000102e+06</td>\n",
              "      <td>7.500000e+04</td>\n",
              "      <td>0.000000</td>\n",
              "      <td>0.000000</td>\n",
              "      <td>290.000000</td>\n",
              "      <td>5.200000e+02</td>\n",
              "      <td>1.000000</td>\n",
              "      <td>0.000000</td>\n",
              "      <td>0.000000</td>\n",
              "      <td>1.000000</td>\n",
              "      <td>1.000000</td>\n",
              "      <td>290.000000</td>\n",
              "      <td>0.000000</td>\n",
              "      <td>1900.000000</td>\n",
              "      <td>0.000000</td>\n",
              "      <td>98001.000000</td>\n",
              "      <td>47.155900</td>\n",
              "      <td>-122.519000</td>\n",
              "      <td>399.000000</td>\n",
              "      <td>651.000000</td>\n",
              "    </tr>\n",
              "    <tr>\n",
              "      <th>25%</th>\n",
              "      <td>2.123049e+09</td>\n",
              "      <td>3.219500e+05</td>\n",
              "      <td>3.000000</td>\n",
              "      <td>1.750000</td>\n",
              "      <td>1427.000000</td>\n",
              "      <td>5.040000e+03</td>\n",
              "      <td>1.000000</td>\n",
              "      <td>0.000000</td>\n",
              "      <td>0.000000</td>\n",
              "      <td>3.000000</td>\n",
              "      <td>7.000000</td>\n",
              "      <td>1190.000000</td>\n",
              "      <td>0.000000</td>\n",
              "      <td>1951.000000</td>\n",
              "      <td>0.000000</td>\n",
              "      <td>98033.000000</td>\n",
              "      <td>47.471000</td>\n",
              "      <td>-122.328000</td>\n",
              "      <td>1490.000000</td>\n",
              "      <td>5100.000000</td>\n",
              "    </tr>\n",
              "    <tr>\n",
              "      <th>50%</th>\n",
              "      <td>3.904930e+09</td>\n",
              "      <td>4.500000e+05</td>\n",
              "      <td>3.000000</td>\n",
              "      <td>2.250000</td>\n",
              "      <td>1910.000000</td>\n",
              "      <td>7.618000e+03</td>\n",
              "      <td>1.500000</td>\n",
              "      <td>0.000000</td>\n",
              "      <td>0.000000</td>\n",
              "      <td>3.000000</td>\n",
              "      <td>7.000000</td>\n",
              "      <td>1560.000000</td>\n",
              "      <td>0.000000</td>\n",
              "      <td>1975.000000</td>\n",
              "      <td>0.000000</td>\n",
              "      <td>98065.000000</td>\n",
              "      <td>47.571800</td>\n",
              "      <td>-122.230000</td>\n",
              "      <td>1840.000000</td>\n",
              "      <td>7620.000000</td>\n",
              "    </tr>\n",
              "    <tr>\n",
              "      <th>75%</th>\n",
              "      <td>7.308900e+09</td>\n",
              "      <td>6.450000e+05</td>\n",
              "      <td>4.000000</td>\n",
              "      <td>2.500000</td>\n",
              "      <td>2550.000000</td>\n",
              "      <td>1.068800e+04</td>\n",
              "      <td>2.000000</td>\n",
              "      <td>0.000000</td>\n",
              "      <td>0.000000</td>\n",
              "      <td>4.000000</td>\n",
              "      <td>8.000000</td>\n",
              "      <td>2210.000000</td>\n",
              "      <td>560.000000</td>\n",
              "      <td>1997.000000</td>\n",
              "      <td>0.000000</td>\n",
              "      <td>98118.000000</td>\n",
              "      <td>47.678000</td>\n",
              "      <td>-122.125000</td>\n",
              "      <td>2360.000000</td>\n",
              "      <td>10083.000000</td>\n",
              "    </tr>\n",
              "    <tr>\n",
              "      <th>max</th>\n",
              "      <td>9.900000e+09</td>\n",
              "      <td>7.700000e+06</td>\n",
              "      <td>33.000000</td>\n",
              "      <td>8.000000</td>\n",
              "      <td>13540.000000</td>\n",
              "      <td>1.651359e+06</td>\n",
              "      <td>3.500000</td>\n",
              "      <td>1.000000</td>\n",
              "      <td>4.000000</td>\n",
              "      <td>5.000000</td>\n",
              "      <td>13.000000</td>\n",
              "      <td>9410.000000</td>\n",
              "      <td>4820.000000</td>\n",
              "      <td>2015.000000</td>\n",
              "      <td>2015.000000</td>\n",
              "      <td>98199.000000</td>\n",
              "      <td>47.777600</td>\n",
              "      <td>-121.315000</td>\n",
              "      <td>6210.000000</td>\n",
              "      <td>871200.000000</td>\n",
              "    </tr>\n",
              "  </tbody>\n",
              "</table>\n",
              "</div>\n",
              "      <button class=\"colab-df-convert\" onclick=\"convertToInteractive('df-922de98a-57a3-429e-8691-f711b8840c07')\"\n",
              "              title=\"Convert this dataframe to an interactive table.\"\n",
              "              style=\"display:none;\">\n",
              "        \n",
              "  <svg xmlns=\"http://www.w3.org/2000/svg\" height=\"24px\"viewBox=\"0 0 24 24\"\n",
              "       width=\"24px\">\n",
              "    <path d=\"M0 0h24v24H0V0z\" fill=\"none\"/>\n",
              "    <path d=\"M18.56 5.44l.94 2.06.94-2.06 2.06-.94-2.06-.94-.94-2.06-.94 2.06-2.06.94zm-11 1L8.5 8.5l.94-2.06 2.06-.94-2.06-.94L8.5 2.5l-.94 2.06-2.06.94zm10 10l.94 2.06.94-2.06 2.06-.94-2.06-.94-.94-2.06-.94 2.06-2.06.94z\"/><path d=\"M17.41 7.96l-1.37-1.37c-.4-.4-.92-.59-1.43-.59-.52 0-1.04.2-1.43.59L10.3 9.45l-7.72 7.72c-.78.78-.78 2.05 0 2.83L4 21.41c.39.39.9.59 1.41.59.51 0 1.02-.2 1.41-.59l7.78-7.78 2.81-2.81c.8-.78.8-2.07 0-2.86zM5.41 20L4 18.59l7.72-7.72 1.47 1.35L5.41 20z\"/>\n",
              "  </svg>\n",
              "      </button>\n",
              "      \n",
              "  <style>\n",
              "    .colab-df-container {\n",
              "      display:flex;\n",
              "      flex-wrap:wrap;\n",
              "      gap: 12px;\n",
              "    }\n",
              "\n",
              "    .colab-df-convert {\n",
              "      background-color: #E8F0FE;\n",
              "      border: none;\n",
              "      border-radius: 50%;\n",
              "      cursor: pointer;\n",
              "      display: none;\n",
              "      fill: #1967D2;\n",
              "      height: 32px;\n",
              "      padding: 0 0 0 0;\n",
              "      width: 32px;\n",
              "    }\n",
              "\n",
              "    .colab-df-convert:hover {\n",
              "      background-color: #E2EBFA;\n",
              "      box-shadow: 0px 1px 2px rgba(60, 64, 67, 0.3), 0px 1px 3px 1px rgba(60, 64, 67, 0.15);\n",
              "      fill: #174EA6;\n",
              "    }\n",
              "\n",
              "    [theme=dark] .colab-df-convert {\n",
              "      background-color: #3B4455;\n",
              "      fill: #D2E3FC;\n",
              "    }\n",
              "\n",
              "    [theme=dark] .colab-df-convert:hover {\n",
              "      background-color: #434B5C;\n",
              "      box-shadow: 0px 1px 3px 1px rgba(0, 0, 0, 0.15);\n",
              "      filter: drop-shadow(0px 1px 2px rgba(0, 0, 0, 0.3));\n",
              "      fill: #FFFFFF;\n",
              "    }\n",
              "  </style>\n",
              "\n",
              "      <script>\n",
              "        const buttonEl =\n",
              "          document.querySelector('#df-922de98a-57a3-429e-8691-f711b8840c07 button.colab-df-convert');\n",
              "        buttonEl.style.display =\n",
              "          google.colab.kernel.accessAllowed ? 'block' : 'none';\n",
              "\n",
              "        async function convertToInteractive(key) {\n",
              "          const element = document.querySelector('#df-922de98a-57a3-429e-8691-f711b8840c07');\n",
              "          const dataTable =\n",
              "            await google.colab.kernel.invokeFunction('convertToInteractive',\n",
              "                                                     [key], {});\n",
              "          if (!dataTable) return;\n",
              "\n",
              "          const docLinkHtml = 'Like what you see? Visit the ' +\n",
              "            '<a target=\"_blank\" href=https://colab.research.google.com/notebooks/data_table.ipynb>data table notebook</a>'\n",
              "            + ' to learn more about interactive tables.';\n",
              "          element.innerHTML = '';\n",
              "          dataTable['output_type'] = 'display_data';\n",
              "          await google.colab.output.renderOutput(dataTable, element);\n",
              "          const docLink = document.createElement('div');\n",
              "          docLink.innerHTML = docLinkHtml;\n",
              "          element.appendChild(docLink);\n",
              "        }\n",
              "      </script>\n",
              "    </div>\n",
              "  </div>\n",
              "  "
            ]
          },
          "metadata": {},
          "execution_count": 62
        }
      ]
    },
    {
      "cell_type": "code",
      "source": [
        "df.drop('id', axis = 1, inplace = True)\n",
        "df.drop('date', axis = 1, inplace = True)\n",
        "df.drop('zipcode', axis = 1, inplace = True)\n",
        "df.drop('lat', axis = 1, inplace = True)\n",
        "df.drop('long', axis = 1, inplace = True)\n"
      ],
      "metadata": {
        "id": "0KUD8T08qMmq"
      },
      "execution_count": 63,
      "outputs": []
    },
    {
      "cell_type": "code",
      "source": [
        "plt.figure(figsize=(12,8)) \n",
        "sns.heatmap(df.corr(), annot=True, cmap='Dark2_r', linewidths = 2)\n",
        "plt.show()"
      ],
      "metadata": {
        "id": "r-jk_nHmqKpp",
        "colab": {
          "base_uri": "https://localhost:8080/",
          "height": 551
        },
        "outputId": "f0cd8306-4200-4cd1-9831-6d67325d8f96"
      },
      "execution_count": 64,
      "outputs": [
        {
          "output_type": "display_data",
          "data": {
            "text/plain": [
              "<Figure size 864x576 with 2 Axes>"
            ],
            "image/png": "[encoded data removed]"
          },
          "metadata": {
            "needs_background": "light"
          }
        }
      ]
    },
    {
      "cell_type": "code",
      "source": [
        "columns = df.columns.drop('price')\n",
        "\n",
        "features = columns\n",
        "label = ['price']\n",
        "\n",
        "X = df[features]\n",
        "y = df[label]"
      ],
      "metadata": {
        "id": "p4zqCnFwq7Oc"
      },
      "execution_count": 65,
      "outputs": []
    },
    {
      "cell_type": "markdown",
      "source": [
        "## **2.1** Divide los datos del costo de manufactura. Utiliza la función train_test_split "
      ],
      "metadata": {
        "id": "ZBKaR7j3UOHq"
      }
    },
    {
      "cell_type": "code",
      "source": [
        "from sklearn.model_selection import train_test_split\n",
        "X_train, X_test, y_train, y_test = train_test_split(X, y, test_size = 0.2, random_state = 101)\n",
        "\n",
        "print(f'Numero total de registros en la bdd: {len(X)}')\n",
        "print(\"*****\"*10)\n",
        "print(f'Numero total de registros en el training set: {len(X_train)}')\n",
        "print(f'Tamaño de X_train: {X_train.shape}')\n",
        "print(\"*****\"*10)\n",
        "print(f'Mumero total de registros en el test dataset: {len(X_test)}')\n",
        "print(f'Tamaño del X_test: {X_test.shape}')"
      ],
      "metadata": {
        "id": "p91PEVPLq93-",
        "colab": {
          "base_uri": "https://localhost:8080/"
        },
        "outputId": "6d8bfe15-54c6-4ed0-9539-331e67fd5238"
      },
      "execution_count": 66,
      "outputs": [
        {
          "output_type": "stream",
          "name": "stdout",
          "text": [
            "Numero total de registros en la bdd: 21613\n",
            "**************************************************\n",
            "Numero total de registros en el training set: 17290\n",
            "Tamaño de X_train: (17290, 15)\n",
            "**************************************************\n",
            "Mumero total de registros en el test dataset: 4323\n",
            "Tamaño del X_test: (4323, 15)\n"
          ]
        }
      ]
    },
    {
      "cell_type": "code",
      "source": [
        "#tu codigo aquí"
      ],
      "metadata": {
        "id": "0faHrN8-rv9V"
      },
      "execution_count": 67,
      "outputs": []
    },
    {
      "cell_type": "markdown",
      "source": [
        "##  **2.2** Regresión Múltiple Lineal.\n",
        "Realiza la regresión lineal: modelo generado (ecuación), sus errores y r cuadrada.\n",
        "\n"
      ],
      "metadata": {
        "id": "4V2S8jdHUYJp"
      }
    },
    {
      "cell_type": "code",
      "source": [
        "from sklearn.preprocessing import PolynomialFeatures\n",
        "\n",
        "poly_features = PolynomialFeatures(degree=2, include_bias=False)\n",
        "X_poly = poly_features.fit_transform(X_train)"
      ],
      "metadata": {
        "id": "8N5Kykm5eySj"
      },
      "execution_count": 68,
      "outputs": []
    },
    {
      "cell_type": "code",
      "source": [
        "#Se escalan todos los datos\n",
        "from sklearn.preprocessing import StandardScaler\n",
        "escalar = StandardScaler()"
      ],
      "metadata": {
        "id": "HhSNta1WfZnA"
      },
      "execution_count": 69,
      "outputs": []
    },
    {
      "cell_type": "code",
      "source": [
        "X_train = escalar.fit_transform(X_train)\n",
        "X_test = escalar.transform(X_test)"
      ],
      "metadata": {
        "id": "0jorSNWlf7ew"
      },
      "execution_count": 70,
      "outputs": []
    },
    {
      "cell_type": "code",
      "source": [
        "\t#Definimos el algoritmo a utilizar\n",
        "from sklearn.linear_model import LogisticRegression\n",
        "algoritmo = LogisticRegression()\n"
      ],
      "metadata": {
        "id": "hs_xXpqUf82M"
      },
      "execution_count": 71,
      "outputs": []
    },
    {
      "cell_type": "code",
      "source": [
        "#Entrenamos el modelo\n",
        "algoritmo.fit(X_train, y_train)"
      ],
      "metadata": {
        "colab": {
          "base_uri": "https://localhost:8080/"
        },
        "id": "URyjc8f5gXnq",
        "outputId": "7c4912ca-79f3-42f4-e118-b1366337d97c"
      },
      "execution_count": 72,
      "outputs": [
        {
          "output_type": "stream",
          "name": "stderr",
          "text": [
            "/usr/local/lib/python3.7/dist-packages/sklearn/utils/validation.py:993: DataConversionWarning: A column-vector y was passed when a 1d array was expected. Please change the shape of y to (n_samples, ), for example using ravel().\n",
            "  y = column_or_1d(y, warn=True)\n",
            "/usr/local/lib/python3.7/dist-packages/sklearn/linear_model/_logistic.py:818: ConvergenceWarning: lbfgs failed to converge (status=1):\n",
            "STOP: TOTAL NO. of ITERATIONS REACHED LIMIT.\n",
            "\n",
            "Increase the number of iterations (max_iter) or scale the data as shown in:\n",
            "    https://scikit-learn.org/stable/modules/preprocessing.html\n",
            "Please also refer to the documentation for alternative solver options:\n",
            "    https://scikit-learn.org/stable/modules/linear_model.html#logistic-regression\n",
            "  extra_warning_msg=_LOGISTIC_SOLVER_CONVERGENCE_MSG,\n"
          ]
        },
        {
          "output_type": "execute_result",
          "data": {
            "text/plain": [
              "LogisticRegression()"
            ]
          },
          "metadata": {},
          "execution_count": 72
        }
      ]
    },
    {
      "cell_type": "code",
      "source": [
        "\t#Realizamos una predicción\n",
        "y_pred = algoritmo.predict(X_test)\n",
        "\t\t\t\t"
      ],
      "metadata": {
        "id": "HLyiqowEgajU"
      },
      "execution_count": 73,
      "outputs": []
    },
    {
      "cell_type": "code",
      "source": [
        "print('RL Error medio Absoluto (MAE) RL:', metrics.mean_absolute_error(y_test, y_pred))\n",
        "print('RL Root Mean Squared Error:', np.sqrt(metrics.mean_squared_error(y_test, y_pred)))\n",
        "print('RL r2_score',r2_score(y_test, y_pred))"
      ],
      "metadata": {
        "colab": {
          "base_uri": "https://localhost:8080/"
        },
        "id": "hKRmzmcQEdpI",
        "outputId": "e3e53e67-5c4b-49db-e0b1-b22cd7bf2406"
      },
      "execution_count": 175,
      "outputs": [
        {
          "output_type": "stream",
          "name": "stdout",
          "text": [
            "RL Error medio Absoluto (MAE) RL: 142954.04580152672\n",
            "RL Root Mean Squared Error: 221199.56654317866\n",
            "RL r2_score 0.6413639016351438\n"
          ]
        }
      ]
    },
    {
      "cell_type": "code",
      "source": [
        "from sklearn.linear_model import LogisticRegression\n",
        "\n",
        "#log_reg = LogisticRegression(C= 1.0, penalty='l2', random_state = 42)\n",
        "#log_reg.fit(X_train, y_train)"
      ],
      "metadata": {
        "id": "6EQaBuCRUv0R"
      },
      "execution_count": 74,
      "outputs": []
    },
    {
      "cell_type": "markdown",
      "source": [
        "## **2.3** Regresión Múltiple Polinomial.\n",
        "Realiza la regresión polinomial completa, tu modelo generado (ecuación), sus errores y r cuadrada.\n",
        "\n"
      ],
      "metadata": {
        "id": "GYF8eNbDUZ8_"
      }
    },
    {
      "cell_type": "markdown",
      "source": [
        "## **2.4** Realiza la regresión con Ridge y Lasso.\n",
        " Incluye la ecuación de tu modelo, errores y r cuadrada.\n",
        "\n"
      ],
      "metadata": {
        "id": "ZsXS81l1Ubk2"
      }
    },
    {
      "cell_type": "markdown",
      "source": [
        "## **2.5** Finalmente gráfica :\n",
        "MAE (de los cuatro métodos)\n",
        "R2 (de los cuatro métodos)\n"
      ],
      "metadata": {
        "id": "giEzXcRTUdBl"
      }
    },
    {
      "cell_type": "markdown",
      "source": [
        "## ** 2.6** Explica tus resultados, que método se aproxima mejor, ¿por qué?, ¿qué porcentajes de entrenamiento y evaluación usaste? ¿Que error tienes?, ¿es bueno?, ¿Cómo lo sabes?\n",
        "Agrega las conclusiones\n",
        "\n",
        "El mejor algoritmo que se observa es la regresion logistica ya que permite determinar de mejor manera la clasificacion"
      ],
      "metadata": {
        "id": "DpbqGt_4Ueo_"
      }
    },
    {
      "cell_type": "markdown",
      "source": [
        "# **Ejercicio 3**"
      ],
      "metadata": {
        "id": "jjEXl340i33R"
      }
    },
    {
      "cell_type": "markdown",
      "source": [
        "![imagen.png](https://www.america-retail.com/static//2020/12/target01.jpg)\n",
        "\n",
        "\n",
        "Ahora imagina que somos parte del equipo de data science de la empresa Target, una de las tiendas con mayor presencia en Estados Unidos. El departamento de logistica acude a nosotros para saber donde le conviene poner sus almacenes, para que se optimice el gasto de gasolina, los tiempos de entrega de los productos y se disminuyan costos. Para ello, nos pasan los datos de latitud y longitud de cada una de las tiendas.\n",
        "\n",
        "https://www.kaggle.com/datasets/saejinmahlauheinert/target-store-locations?select=target-locations.csv\n",
        "\n",
        "Si quieres saber un poco más de graficas geográficas consulta el siguiente notebook\n",
        "https://colab.research.google.com/github/QuantEcon/quantecon-notebooks-datascience/blob/master/applications/maps.ipynb#scrollTo=uo2oPtSCeAOz"
      ],
      "metadata": {
        "id": "G6i25rRNi93O"
      }
    },
    {
      "cell_type": "code",
      "source": [
        "! pip install qeds fiona geopandas xgboost gensim folium pyLDAvis descartes"
      ],
      "metadata": {
        "colab": {
          "base_uri": "https://localhost:8080/"
        },
        "id": "Ti2BnUYQjG5p",
        "outputId": "169f24f9-59da-423e-f264-0f9e08de3dc6"
      },
      "execution_count": 76,
      "outputs": [
        {
          "output_type": "stream",
          "name": "stdout",
          "text": [
            "Looking in indexes: https://pypi.org/simple, https://us-python.pkg.dev/colab-wheels/public/simple/\n",
            "Collecting qeds\n",
            "  Downloading qeds-0.7.0.tar.gz (24 kB)\n",
            "Collecting fiona\n",
            "  Downloading Fiona-1.8.22-cp37-cp37m-manylinux2014_x86_64.whl (16.7 MB)\n",
            "\u001b[K     |████████████████████████████████| 16.7 MB 48.3 MB/s \n",
            "\u001b[?25hCollecting geopandas\n",
            "  Downloading geopandas-0.10.2-py2.py3-none-any.whl (1.0 MB)\n",
            "\u001b[K     |████████████████████████████████| 1.0 MB 51.5 MB/s \n",
            "\u001b[?25hRequirement already satisfied: xgboost in /usr/local/lib/python3.7/dist-packages (0.90)\n",
            "Requirement already satisfied: gensim in /usr/local/lib/python3.7/dist-packages (3.6.0)\n",
            "Requirement already satisfied: folium in /usr/local/lib/python3.7/dist-packages (0.12.1.post1)\n",
            "Collecting pyLDAvis\n",
            "  Downloading pyLDAvis-3.3.1.tar.gz (1.7 MB)\n",
            "\u001b[K     |████████████████████████████████| 1.7 MB 58.3 MB/s \n",
            "\u001b[?25h  Installing build dependencies ... \u001b[?25l\u001b[?25hdone\n",
            "  Getting requirements to build wheel ... \u001b[?25l\u001b[?25hdone\n",
            "  Installing backend dependencies ... \u001b[?25l\u001b[?25hdone\n",
            "    Preparing wheel metadata ... \u001b[?25l\u001b[?25hdone\n",
            "Requirement already satisfied: descartes in /usr/local/lib/python3.7/dist-packages (1.1.0)\n",
            "Requirement already satisfied: pandas in /usr/local/lib/python3.7/dist-packages (from qeds) (1.3.5)\n",
            "Requirement already satisfied: requests in /usr/local/lib/python3.7/dist-packages (from qeds) (2.23.0)\n",
            "Collecting quandl\n",
            "  Downloading Quandl-3.7.0-py2.py3-none-any.whl (26 kB)\n",
            "Requirement already satisfied: scipy in /usr/local/lib/python3.7/dist-packages (from qeds) (1.7.3)\n",
            "Requirement already satisfied: numpy in /usr/local/lib/python3.7/dist-packages (from qeds) (1.21.6)\n",
            "Collecting quantecon\n",
            "  Downloading quantecon-0.5.3-py3-none-any.whl (179 kB)\n",
            "\u001b[K     |████████████████████████████████| 179 kB 66.1 MB/s \n",
            "\u001b[?25hRequirement already satisfied: matplotlib in /usr/local/lib/python3.7/dist-packages (from qeds) (3.2.2)\n",
            "Requirement already satisfied: pyarrow in /usr/local/lib/python3.7/dist-packages (from qeds) (6.0.1)\n",
            "Requirement already satisfied: openpyxl in /usr/local/lib/python3.7/dist-packages (from qeds) (3.0.10)\n",
            "Requirement already satisfied: plotly in /usr/local/lib/python3.7/dist-packages (from qeds) (5.5.0)\n",
            "Requirement already satisfied: pandas_datareader in /usr/local/lib/python3.7/dist-packages (from qeds) (0.9.0)\n",
            "Requirement already satisfied: scikit-learn in /usr/local/lib/python3.7/dist-packages (from qeds) (1.0.2)\n",
            "Requirement already satisfied: seaborn in /usr/local/lib/python3.7/dist-packages (from qeds) (0.11.2)\n",
            "Requirement already satisfied: statsmodels in /usr/local/lib/python3.7/dist-packages (from qeds) (0.12.2)\n",
            "Requirement already satisfied: certifi in /usr/local/lib/python3.7/dist-packages (from fiona) (2022.9.24)\n",
            "Requirement already satisfied: six>=1.7 in /usr/local/lib/python3.7/dist-packages (from fiona) (1.15.0)\n",
            "Collecting munch\n",
            "  Downloading munch-2.5.0-py2.py3-none-any.whl (10 kB)\n",
            "Requirement already satisfied: click>=4.0 in /usr/local/lib/python3.7/dist-packages (from fiona) (7.1.2)\n",
            "Collecting cligj>=0.5\n",
            "  Downloading cligj-0.7.2-py3-none-any.whl (7.1 kB)\n",
            "Requirement already satisfied: setuptools in /usr/local/lib/python3.7/dist-packages (from fiona) (57.4.0)\n",
            "Collecting click-plugins>=1.0\n",
            "  Downloading click_plugins-1.1.1-py2.py3-none-any.whl (7.5 kB)\n",
            "Requirement already satisfied: attrs>=17 in /usr/local/lib/python3.7/dist-packages (from fiona) (22.1.0)\n",
            "Requirement already satisfied: shapely>=1.6 in /usr/local/lib/python3.7/dist-packages (from geopandas) (1.8.5.post1)\n",
            "Collecting pyproj>=2.2.0\n",
            "  Downloading pyproj-3.2.1-cp37-cp37m-manylinux2010_x86_64.whl (6.3 MB)\n",
            "\u001b[K     |████████████████████████████████| 6.3 MB 47.2 MB/s \n",
            "\u001b[?25hRequirement already satisfied: pytz>=2017.3 in /usr/local/lib/python3.7/dist-packages (from pandas->qeds) (2022.6)\n",
            "Requirement already satisfied: python-dateutil>=2.7.3 in /usr/local/lib/python3.7/dist-packages (from pandas->qeds) (2.8.2)\n",
            "Requirement already satisfied: smart-open>=1.2.1 in /usr/local/lib/python3.7/dist-packages (from gensim) (5.2.1)\n",
            "Requirement already satisfied: branca>=0.3.0 in /usr/local/lib/python3.7/dist-packages (from folium) (0.5.0)\n",
            "Requirement already satisfied: jinja2>=2.9 in /usr/local/lib/python3.7/dist-packages (from folium) (2.11.3)\n",
            "Requirement already satisfied: MarkupSafe>=0.23 in /usr/local/lib/python3.7/dist-packages (from jinja2>=2.9->folium) (2.0.1)\n",
            "Collecting funcy\n",
            "  Downloading funcy-1.17-py2.py3-none-any.whl (33 kB)\n",
            "Requirement already satisfied: joblib in /usr/local/lib/python3.7/dist-packages (from pyLDAvis) (1.2.0)\n",
            "Collecting sklearn\n",
            "  Downloading sklearn-0.0.post1.tar.gz (3.6 kB)\n",
            "Requirement already satisfied: future in /usr/local/lib/python3.7/dist-packages (from pyLDAvis) (0.16.0)\n",
            "Requirement already satisfied: numexpr in /usr/local/lib/python3.7/dist-packages (from pyLDAvis) (2.8.4)\n",
            "Requirement already satisfied: pyparsing!=2.0.4,!=2.1.2,!=2.1.6,>=2.0.1 in /usr/local/lib/python3.7/dist-packages (from matplotlib->qeds) (3.0.9)\n",
            "Requirement already satisfied: kiwisolver>=1.0.1 in /usr/local/lib/python3.7/dist-packages (from matplotlib->qeds) (1.4.4)\n",
            "Requirement already satisfied: cycler>=0.10 in /usr/local/lib/python3.7/dist-packages (from matplotlib->qeds) (0.11.0)\n",
            "Requirement already satisfied: typing-extensions in /usr/local/lib/python3.7/dist-packages (from kiwisolver>=1.0.1->matplotlib->qeds) (4.1.1)\n",
            "Requirement already satisfied: et-xmlfile in /usr/local/lib/python3.7/dist-packages (from openpyxl->qeds) (1.1.0)\n",
            "Requirement already satisfied: lxml in /usr/local/lib/python3.7/dist-packages (from pandas_datareader->qeds) (4.9.1)\n",
            "Requirement already satisfied: urllib3!=1.25.0,!=1.25.1,<1.26,>=1.21.1 in /usr/local/lib/python3.7/dist-packages (from requests->qeds) (1.24.3)\n",
            "Requirement already satisfied: chardet<4,>=3.0.2 in /usr/local/lib/python3.7/dist-packages (from requests->qeds) (3.0.4)\n",
            "Requirement already satisfied: idna<3,>=2.5 in /usr/local/lib/python3.7/dist-packages (from requests->qeds) (2.10)\n",
            "Requirement already satisfied: tenacity>=6.2.0 in /usr/local/lib/python3.7/dist-packages (from plotly->qeds) (8.1.0)\n",
            "Collecting inflection>=0.3.1\n",
            "  Downloading inflection-0.5.1-py2.py3-none-any.whl (9.5 kB)\n",
            "Requirement already satisfied: more-itertools in /usr/local/lib/python3.7/dist-packages (from quandl->qeds) (9.0.0)\n",
            "Requirement already satisfied: sympy in /usr/local/lib/python3.7/dist-packages (from quantecon->qeds) (1.7.1)\n",
            "Requirement already satisfied: numba in /usr/local/lib/python3.7/dist-packages (from quantecon->qeds) (0.56.4)\n",
            "Requirement already satisfied: llvmlite<0.40,>=0.39.0dev0 in /usr/local/lib/python3.7/dist-packages (from numba->quantecon->qeds) (0.39.1)\n",
            "Requirement already satisfied: importlib-metadata in /usr/local/lib/python3.7/dist-packages (from numba->quantecon->qeds) (4.13.0)\n",
            "Requirement already satisfied: zipp>=0.5 in /usr/local/lib/python3.7/dist-packages (from importlib-metadata->numba->quantecon->qeds) (3.10.0)\n",
            "Requirement already satisfied: threadpoolctl>=2.0.0 in /usr/local/lib/python3.7/dist-packages (from scikit-learn->qeds) (3.1.0)\n",
            "Requirement already satisfied: patsy>=0.5 in /usr/local/lib/python3.7/dist-packages (from statsmodels->qeds) (0.5.3)\n",
            "Requirement already satisfied: mpmath>=0.19 in /usr/local/lib/python3.7/dist-packages (from sympy->quantecon->qeds) (1.2.1)\n",
            "Building wheels for collected packages: qeds, pyLDAvis, sklearn\n",
            "  Building wheel for qeds (setup.py) ... \u001b[?25l\u001b[?25hdone\n",
            "  Created wheel for qeds: filename=qeds-0.7.0-py3-none-any.whl size=27812 sha256=357c40cbd4ff5a31ae08f1ce6092bbfa9ed4f6ca1f1c0d54fb3da4d3cff74bb4\n",
            "  Stored in directory: /root/.cache/pip/wheels/fc/8c/52/0cc036b9730b75850b9845770780f8d05ed08ff38a67cbaa29\n",
            "  Building wheel for pyLDAvis (PEP 517) ... \u001b[?25l\u001b[?25hdone\n",
            "  Created wheel for pyLDAvis: filename=pyLDAvis-3.3.1-py2.py3-none-any.whl size=136897 sha256=7d1e773bc8477719ddada7642c9f0b0223c7cf3d07ca428cd6398ba8a1e011f7\n",
            "  Stored in directory: /root/.cache/pip/wheels/c9/21/f6/17bcf2667e8a68532ba2fbf6d5c72fdf4c7f7d9abfa4852d2f\n",
            "  Building wheel for sklearn (setup.py) ... \u001b[?25l\u001b[?25hdone\n",
            "  Created wheel for sklearn: filename=sklearn-0.0.post1-py3-none-any.whl size=2344 sha256=f16a9d7ef0296daf0c368ee5372a2ad553e0c5234541b9ba06a50663d252fb9e\n",
            "  Stored in directory: /root/.cache/pip/wheels/42/56/cc/4a8bf86613aafd5b7f1b310477667c1fca5c51c3ae4124a003\n",
            "Successfully built qeds pyLDAvis sklearn\n",
            "Installing collected packages: munch, inflection, cligj, click-plugins, sklearn, quantecon, quandl, pyproj, funcy, fiona, qeds, pyLDAvis, geopandas\n",
            "Successfully installed click-plugins-1.1.1 cligj-0.7.2 fiona-1.8.22 funcy-1.17 geopandas-0.10.2 inflection-0.5.1 munch-2.5.0 pyLDAvis-3.3.1 pyproj-3.2.1 qeds-0.7.0 quandl-3.7.0 quantecon-0.5.3 sklearn-0.0.post1\n"
          ]
        }
      ]
    },
    {
      "cell_type": "code",
      "source": [
        "import pandas as pd\n",
        "import numpy as np\n",
        "from tqdm import tqdm\n",
        "%matplotlib inline\n",
        "import numpy as np\n",
        "import matplotlib.pyplot as plt\n",
        "import geopandas"
      ],
      "metadata": {
        "id": "CpbdXEGzjKlQ"
      },
      "execution_count": 77,
      "outputs": []
    },
    {
      "cell_type": "code",
      "source": [
        "url=\"https://raw.githubusercontent.com/marypazrf/bdd/main/target-locations.csv\"\n",
        "df=pd.read_csv(url)"
      ],
      "metadata": {
        "id": "N02hEjiSjNv_"
      },
      "execution_count": 145,
      "outputs": []
    },
    {
      "cell_type": "code",
      "source": [
        "\n",
        "df.head()"
      ],
      "metadata": {
        "colab": {
          "base_uri": "https://localhost:8080/",
          "height": 206
        },
        "id": "Mi0g8DsojP8l",
        "outputId": "600b0f10-778d-468f-8e89-42b1022f32bd"
      },
      "execution_count": 159,
      "outputs": [
        {
          "output_type": "execute_result",
          "data": {
            "text/plain": [
              "        name   latitude  longitude  \\\n",
              "0  Alabaster  33.224225 -86.804174   \n",
              "1   Bessemer  33.334550 -86.989778   \n",
              "2     Daphne  30.602875 -87.895932   \n",
              "3    Decatur  34.560148 -86.971559   \n",
              "4     Dothan  31.266061 -85.446422   \n",
              "\n",
              "                                             address         phone  \\\n",
              "0        250 S Colonial Dr, Alabaster, AL 35007-4657  205-564-2608   \n",
              "1       4889 Promenade Pkwy, Bessemer, AL 35022-7305  205-565-3760   \n",
              "2          1698 US Highway 98, Daphne, AL 36526-4252  251-621-3540   \n",
              "3  1235 Point Mallard Pkwy SE, Decatur, AL 35601-...  256-898-3036   \n",
              "4         4601 Montgomery Hwy, Dothan, AL 36303-1522  334-340-1112   \n",
              "\n",
              "                                    website                 Coordinates  \n",
              "0  https://www.target.com/sl/alabaster/2276  POINT (-86.80417 33.22423)  \n",
              "1   https://www.target.com/sl/bessemer/2375  POINT (-86.98978 33.33455)  \n",
              "2     https://www.target.com/sl/daphne/1274  POINT (-87.89593 30.60287)  \n",
              "3    https://www.target.com/sl/decatur/2084  POINT (-86.97156 34.56015)  \n",
              "4     https://www.target.com/sl/dothan/1468  POINT (-85.44642 31.26606)  "
            ],
            "text/html": [
              "\n",
              "  <div id=\"df-f544a64c-8222-49f8-9659-81abff3db3e4\">\n",
              "    <div class=\"colab-df-container\">\n",
              "      <div>\n",
              "<style scoped>\n",
              "    .dataframe tbody tr th:only-of-type {\n",
              "        vertical-align: middle;\n",
              "    }\n",
              "\n",
              "    .dataframe tbody tr th {\n",
              "        vertical-align: top;\n",
              "    }\n",
              "\n",
              "    .dataframe thead th {\n",
              "        text-align: right;\n",
              "    }\n",
              "</style>\n",
              "<table border=\"1\" class=\"dataframe\">\n",
              "  <thead>\n",
              "    <tr style=\"text-align: right;\">\n",
              "      <th></th>\n",
              "      <th>name</th>\n",
              "      <th>latitude</th>\n",
              "      <th>longitude</th>\n",
              "      <th>address</th>\n",
              "      <th>phone</th>\n",
              "      <th>website</th>\n",
              "      <th>Coordinates</th>\n",
              "    </tr>\n",
              "  </thead>\n",
              "  <tbody>\n",
              "    <tr>\n",
              "      <th>0</th>\n",
              "      <td>Alabaster</td>\n",
              "      <td>33.224225</td>\n",
              "      <td>-86.804174</td>\n",
              "      <td>250 S Colonial Dr, Alabaster, AL 35007-4657</td>\n",
              "      <td>205-564-2608</td>\n",
              "      <td>https://www.target.com/sl/alabaster/2276</td>\n",
              "      <td>POINT (-86.80417 33.22423)</td>\n",
              "    </tr>\n",
              "    <tr>\n",
              "      <th>1</th>\n",
              "      <td>Bessemer</td>\n",
              "      <td>33.334550</td>\n",
              "      <td>-86.989778</td>\n",
              "      <td>4889 Promenade Pkwy, Bessemer, AL 35022-7305</td>\n",
              "      <td>205-565-3760</td>\n",
              "      <td>https://www.target.com/sl/bessemer/2375</td>\n",
              "      <td>POINT (-86.98978 33.33455)</td>\n",
              "    </tr>\n",
              "    <tr>\n",
              "      <th>2</th>\n",
              "      <td>Daphne</td>\n",
              "      <td>30.602875</td>\n",
              "      <td>-87.895932</td>\n",
              "      <td>1698 US Highway 98, Daphne, AL 36526-4252</td>\n",
              "      <td>251-621-3540</td>\n",
              "      <td>https://www.target.com/sl/daphne/1274</td>\n",
              "      <td>POINT (-87.89593 30.60287)</td>\n",
              "    </tr>\n",
              "    <tr>\n",
              "      <th>3</th>\n",
              "      <td>Decatur</td>\n",
              "      <td>34.560148</td>\n",
              "      <td>-86.971559</td>\n",
              "      <td>1235 Point Mallard Pkwy SE, Decatur, AL 35601-...</td>\n",
              "      <td>256-898-3036</td>\n",
              "      <td>https://www.target.com/sl/decatur/2084</td>\n",
              "      <td>POINT (-86.97156 34.56015)</td>\n",
              "    </tr>\n",
              "    <tr>\n",
              "      <th>4</th>\n",
              "      <td>Dothan</td>\n",
              "      <td>31.266061</td>\n",
              "      <td>-85.446422</td>\n",
              "      <td>4601 Montgomery Hwy, Dothan, AL 36303-1522</td>\n",
              "      <td>334-340-1112</td>\n",
              "      <td>https://www.target.com/sl/dothan/1468</td>\n",
              "      <td>POINT (-85.44642 31.26606)</td>\n",
              "    </tr>\n",
              "  </tbody>\n",
              "</table>\n",
              "</div>\n",
              "      <button class=\"colab-df-convert\" onclick=\"convertToInteractive('df-f544a64c-8222-49f8-9659-81abff3db3e4')\"\n",
              "              title=\"Convert this dataframe to an interactive table.\"\n",
              "              style=\"display:none;\">\n",
              "        \n",
              "  <svg xmlns=\"http://www.w3.org/2000/svg\" height=\"24px\"viewBox=\"0 0 24 24\"\n",
              "       width=\"24px\">\n",
              "    <path d=\"M0 0h24v24H0V0z\" fill=\"none\"/>\n",
              "    <path d=\"M18.56 5.44l.94 2.06.94-2.06 2.06-.94-2.06-.94-.94-2.06-.94 2.06-2.06.94zm-11 1L8.5 8.5l.94-2.06 2.06-.94-2.06-.94L8.5 2.5l-.94 2.06-2.06.94zm10 10l.94 2.06.94-2.06 2.06-.94-2.06-.94-.94-2.06-.94 2.06-2.06.94z\"/><path d=\"M17.41 7.96l-1.37-1.37c-.4-.4-.92-.59-1.43-.59-.52 0-1.04.2-1.43.59L10.3 9.45l-7.72 7.72c-.78.78-.78 2.05 0 2.83L4 21.41c.39.39.9.59 1.41.59.51 0 1.02-.2 1.41-.59l7.78-7.78 2.81-2.81c.8-.78.8-2.07 0-2.86zM5.41 20L4 18.59l7.72-7.72 1.47 1.35L5.41 20z\"/>\n",
              "  </svg>\n",
              "      </button>\n",
              "      \n",
              "  <style>\n",
              "    .colab-df-container {\n",
              "      display:flex;\n",
              "      flex-wrap:wrap;\n",
              "      gap: 12px;\n",
              "    }\n",
              "\n",
              "    .colab-df-convert {\n",
              "      background-color: #E8F0FE;\n",
              "      border: none;\n",
              "      border-radius: 50%;\n",
              "      cursor: pointer;\n",
              "      display: none;\n",
              "      fill: #1967D2;\n",
              "      height: 32px;\n",
              "      padding: 0 0 0 0;\n",
              "      width: 32px;\n",
              "    }\n",
              "\n",
              "    .colab-df-convert:hover {\n",
              "      background-color: #E2EBFA;\n",
              "      box-shadow: 0px 1px 2px rgba(60, 64, 67, 0.3), 0px 1px 3px 1px rgba(60, 64, 67, 0.15);\n",
              "      fill: #174EA6;\n",
              "    }\n",
              "\n",
              "    [theme=dark] .colab-df-convert {\n",
              "      background-color: #3B4455;\n",
              "      fill: #D2E3FC;\n",
              "    }\n",
              "\n",
              "    [theme=dark] .colab-df-convert:hover {\n",
              "      background-color: #434B5C;\n",
              "      box-shadow: 0px 1px 3px 1px rgba(0, 0, 0, 0.15);\n",
              "      filter: drop-shadow(0px 1px 2px rgba(0, 0, 0, 0.3));\n",
              "      fill: #FFFFFF;\n",
              "    }\n",
              "  </style>\n",
              "\n",
              "      <script>\n",
              "        const buttonEl =\n",
              "          document.querySelector('#df-f544a64c-8222-49f8-9659-81abff3db3e4 button.colab-df-convert');\n",
              "        buttonEl.style.display =\n",
              "          google.colab.kernel.accessAllowed ? 'block' : 'none';\n",
              "\n",
              "        async function convertToInteractive(key) {\n",
              "          const element = document.querySelector('#df-f544a64c-8222-49f8-9659-81abff3db3e4');\n",
              "          const dataTable =\n",
              "            await google.colab.kernel.invokeFunction('convertToInteractive',\n",
              "                                                     [key], {});\n",
              "          if (!dataTable) return;\n",
              "\n",
              "          const docLinkHtml = 'Like what you see? Visit the ' +\n",
              "            '<a target=\"_blank\" href=https://colab.research.google.com/notebooks/data_table.ipynb>data table notebook</a>'\n",
              "            + ' to learn more about interactive tables.';\n",
              "          element.innerHTML = '';\n",
              "          dataTable['output_type'] = 'display_data';\n",
              "          await google.colab.output.renderOutput(dataTable, element);\n",
              "          const docLink = document.createElement('div');\n",
              "          docLink.innerHTML = docLinkHtml;\n",
              "          element.appendChild(docLink);\n",
              "        }\n",
              "      </script>\n",
              "    </div>\n",
              "  </div>\n",
              "  "
            ]
          },
          "metadata": {},
          "execution_count": 159
        }
      ]
    },
    {
      "cell_type": "code",
      "source": [
        "df.info()"
      ],
      "metadata": {
        "colab": {
          "base_uri": "https://localhost:8080/"
        },
        "id": "mZd5DC-ojS7X",
        "outputId": "8b307feb-3a20-4fec-e25a-7d873aeef33a"
      },
      "execution_count": 160,
      "outputs": [
        {
          "output_type": "stream",
          "name": "stdout",
          "text": [
            "<class 'pandas.core.frame.DataFrame'>\n",
            "RangeIndex: 1839 entries, 0 to 1838\n",
            "Data columns (total 7 columns):\n",
            " #   Column       Non-Null Count  Dtype   \n",
            "---  ------       --------------  -----   \n",
            " 0   name         1839 non-null   object  \n",
            " 1   latitude     1839 non-null   float64 \n",
            " 2   longitude    1839 non-null   float64 \n",
            " 3   address      1839 non-null   object  \n",
            " 4   phone        1839 non-null   object  \n",
            " 5   website      1839 non-null   object  \n",
            " 6   Coordinates  1839 non-null   geometry\n",
            "dtypes: float64(2), geometry(1), object(4)\n",
            "memory usage: 100.7+ KB\n"
          ]
        }
      ]
    },
    {
      "cell_type": "markdown",
      "source": [
        "**Definición de Latitud y Longitud**\n",
        "\n",
        "**Latitud** Es la distancia en grados, minutos y segundos que hay con respecto al paralelo principal, que es el ecuador (0º). La latitud puede ser norte y sur.\n",
        "\n",
        "**Longitud**: Es la distancia en grados, minutos y segundos que hay con respecto al meridiano principal, que es el meridiano de Greenwich (0º).La longitud puede ser este y oeste."
      ],
      "metadata": {
        "id": "Ro2hFV-jjWFQ"
      }
    },
    {
      "cell_type": "code",
      "source": [
        "latlong=df[[\"latitude\",\"longitude\"]]"
      ],
      "metadata": {
        "id": "YXSdw_g6jYg2"
      },
      "execution_count": 161,
      "outputs": []
    },
    {
      "cell_type": "code",
      "source": [
        "#extrae los datos interesantes\n",
        "latlong.plot.scatter( \"longitude\",\"latitude\")"
      ],
      "metadata": {
        "colab": {
          "base_uri": "https://localhost:8080/",
          "height": 340
        },
        "id": "9t7HPojajbLW",
        "outputId": "ccdbbdfc-e844-4ce4-c66b-58efbbb37899"
      },
      "execution_count": 162,
      "outputs": [
        {
          "output_type": "stream",
          "name": "stderr",
          "text": [
            "WARNING:matplotlib.axes._axes:*c* argument looks like a single numeric RGB or RGBA sequence, which should be avoided as value-mapping will have precedence in case its length matches with *x* & *y*.  Please use the *color* keyword-argument or provide a 2-D array with a single row if you intend to specify the same RGB or RGBA value for all points.\n"
          ]
        },
        {
          "output_type": "execute_result",
          "data": {
            "text/plain": [
              "<matplotlib.axes._subplots.AxesSubplot at 0x7fcbb6ed8ad0>"
            ]
          },
          "metadata": {},
          "execution_count": 162
        },
        {
          "output_type": "display_data",
          "data": {
            "text/plain": [
              "<Figure size 432x288 with 1 Axes>"
            ],
            "image/png": "[encoded data removed]"
          },
          "metadata": {}
        }
      ]
    },
    {
      "cell_type": "code",
      "source": [
        "latlong.describe()"
      ],
      "metadata": {
        "colab": {
          "base_uri": "https://localhost:8080/",
          "height": 300
        },
        "id": "eBLfLMCnjdt6",
        "outputId": "4aacc51a-6bb3-4df7-b875-ab3085e33103"
      },
      "execution_count": 163,
      "outputs": [
        {
          "output_type": "execute_result",
          "data": {
            "text/plain": [
              "          latitude    longitude\n",
              "count  1839.000000  1839.000000\n",
              "mean     37.791238   -91.986881\n",
              "std       5.272299    16.108046\n",
              "min      19.647855  -159.376962\n",
              "25%      33.882605   -98.268828\n",
              "50%      38.955432   -87.746346\n",
              "75%      41.658341   -80.084833\n",
              "max      61.577919   -68.742331"
            ],
            "text/html": [
              "\n",
              "  <div id=\"df-54421d83-a012-41c9-b762-b540b876a848\">\n",
              "    <div class=\"colab-df-container\">\n",
              "      <div>\n",
              "<style scoped>\n",
              "    .dataframe tbody tr th:only-of-type {\n",
              "        vertical-align: middle;\n",
              "    }\n",
              "\n",
              "    .dataframe tbody tr th {\n",
              "        vertical-align: top;\n",
              "    }\n",
              "\n",
              "    .dataframe thead th {\n",
              "        text-align: right;\n",
              "    }\n",
              "</style>\n",
              "<table border=\"1\" class=\"dataframe\">\n",
              "  <thead>\n",
              "    <tr style=\"text-align: right;\">\n",
              "      <th></th>\n",
              "      <th>latitude</th>\n",
              "      <th>longitude</th>\n",
              "    </tr>\n",
              "  </thead>\n",
              "  <tbody>\n",
              "    <tr>\n",
              "      <th>count</th>\n",
              "      <td>1839.000000</td>\n",
              "      <td>1839.000000</td>\n",
              "    </tr>\n",
              "    <tr>\n",
              "      <th>mean</th>\n",
              "      <td>37.791238</td>\n",
              "      <td>-91.986881</td>\n",
              "    </tr>\n",
              "    <tr>\n",
              "      <th>std</th>\n",
              "      <td>5.272299</td>\n",
              "      <td>16.108046</td>\n",
              "    </tr>\n",
              "    <tr>\n",
              "      <th>min</th>\n",
              "      <td>19.647855</td>\n",
              "      <td>-159.376962</td>\n",
              "    </tr>\n",
              "    <tr>\n",
              "      <th>25%</th>\n",
              "      <td>33.882605</td>\n",
              "      <td>-98.268828</td>\n",
              "    </tr>\n",
              "    <tr>\n",
              "      <th>50%</th>\n",
              "      <td>38.955432</td>\n",
              "      <td>-87.746346</td>\n",
              "    </tr>\n",
              "    <tr>\n",
              "      <th>75%</th>\n",
              "      <td>41.658341</td>\n",
              "      <td>-80.084833</td>\n",
              "    </tr>\n",
              "    <tr>\n",
              "      <th>max</th>\n",
              "      <td>61.577919</td>\n",
              "      <td>-68.742331</td>\n",
              "    </tr>\n",
              "  </tbody>\n",
              "</table>\n",
              "</div>\n",
              "      <button class=\"colab-df-convert\" onclick=\"convertToInteractive('df-54421d83-a012-41c9-b762-b540b876a848')\"\n",
              "              title=\"Convert this dataframe to an interactive table.\"\n",
              "              style=\"display:none;\">\n",
              "        \n",
              "  <svg xmlns=\"http://www.w3.org/2000/svg\" height=\"24px\"viewBox=\"0 0 24 24\"\n",
              "       width=\"24px\">\n",
              "    <path d=\"M0 0h24v24H0V0z\" fill=\"none\"/>\n",
              "    <path d=\"M18.56 5.44l.94 2.06.94-2.06 2.06-.94-2.06-.94-.94-2.06-.94 2.06-2.06.94zm-11 1L8.5 8.5l.94-2.06 2.06-.94-2.06-.94L8.5 2.5l-.94 2.06-2.06.94zm10 10l.94 2.06.94-2.06 2.06-.94-2.06-.94-.94-2.06-.94 2.06-2.06.94z\"/><path d=\"M17.41 7.96l-1.37-1.37c-.4-.4-.92-.59-1.43-.59-.52 0-1.04.2-1.43.59L10.3 9.45l-7.72 7.72c-.78.78-.78 2.05 0 2.83L4 21.41c.39.39.9.59 1.41.59.51 0 1.02-.2 1.41-.59l7.78-7.78 2.81-2.81c.8-.78.8-2.07 0-2.86zM5.41 20L4 18.59l7.72-7.72 1.47 1.35L5.41 20z\"/>\n",
              "  </svg>\n",
              "      </button>\n",
              "      \n",
              "  <style>\n",
              "    .colab-df-container {\n",
              "      display:flex;\n",
              "      flex-wrap:wrap;\n",
              "      gap: 12px;\n",
              "    }\n",
              "\n",
              "    .colab-df-convert {\n",
              "      background-color: #E8F0FE;\n",
              "      border: none;\n",
              "      border-radius: 50%;\n",
              "      cursor: pointer;\n",
              "      display: none;\n",
              "      fill: #1967D2;\n",
              "      height: 32px;\n",
              "      padding: 0 0 0 0;\n",
              "      width: 32px;\n",
              "    }\n",
              "\n",
              "    .colab-df-convert:hover {\n",
              "      background-color: #E2EBFA;\n",
              "      box-shadow: 0px 1px 2px rgba(60, 64, 67, 0.3), 0px 1px 3px 1px rgba(60, 64, 67, 0.15);\n",
              "      fill: #174EA6;\n",
              "    }\n",
              "\n",
              "    [theme=dark] .colab-df-convert {\n",
              "      background-color: #3B4455;\n",
              "      fill: #D2E3FC;\n",
              "    }\n",
              "\n",
              "    [theme=dark] .colab-df-convert:hover {\n",
              "      background-color: #434B5C;\n",
              "      box-shadow: 0px 1px 3px 1px rgba(0, 0, 0, 0.15);\n",
              "      filter: drop-shadow(0px 1px 2px rgba(0, 0, 0, 0.3));\n",
              "      fill: #FFFFFF;\n",
              "    }\n",
              "  </style>\n",
              "\n",
              "      <script>\n",
              "        const buttonEl =\n",
              "          document.querySelector('#df-54421d83-a012-41c9-b762-b540b876a848 button.colab-df-convert');\n",
              "        buttonEl.style.display =\n",
              "          google.colab.kernel.accessAllowed ? 'block' : 'none';\n",
              "\n",
              "        async function convertToInteractive(key) {\n",
              "          const element = document.querySelector('#df-54421d83-a012-41c9-b762-b540b876a848');\n",
              "          const dataTable =\n",
              "            await google.colab.kernel.invokeFunction('convertToInteractive',\n",
              "                                                     [key], {});\n",
              "          if (!dataTable) return;\n",
              "\n",
              "          const docLinkHtml = 'Like what you see? Visit the ' +\n",
              "            '<a target=\"_blank\" href=https://colab.research.google.com/notebooks/data_table.ipynb>data table notebook</a>'\n",
              "            + ' to learn more about interactive tables.';\n",
              "          element.innerHTML = '';\n",
              "          dataTable['output_type'] = 'display_data';\n",
              "          await google.colab.output.renderOutput(dataTable, element);\n",
              "          const docLink = document.createElement('div');\n",
              "          docLink.innerHTML = docLinkHtml;\n",
              "          element.appendChild(docLink);\n",
              "        }\n",
              "      </script>\n",
              "    </div>\n",
              "  </div>\n",
              "  "
            ]
          },
          "metadata": {},
          "execution_count": 163
        }
      ]
    },
    {
      "cell_type": "code",
      "source": [
        "import geopandas as gpd\n",
        "import matplotlib.pyplot as plt\n",
        "import pandas as pd\n",
        "\n",
        "from shapely.geometry import Point\n",
        "\n",
        "%matplotlib inline\n",
        "# activate plot theme\n",
        "import qeds\n",
        "qeds.themes.mpl_style();"
      ],
      "metadata": {
        "id": "vRMUkblUjgUl"
      },
      "execution_count": 164,
      "outputs": []
    },
    {
      "cell_type": "code",
      "source": [
        "df[\"Coordinates\"] = list(zip(df.longitude, df.latitude))\n",
        "df[\"Coordinates\"] = df[\"Coordinates\"].apply(Point)\n",
        "df.head()"
      ],
      "metadata": {
        "colab": {
          "base_uri": "https://localhost:8080/",
          "height": 206
        },
        "id": "3X78tBFljioC",
        "outputId": "4e24ee26-c3ee-4205-f78f-d942bfc5438c"
      },
      "execution_count": 172,
      "outputs": [
        {
          "output_type": "execute_result",
          "data": {
            "text/plain": [
              "        name   latitude  longitude  \\\n",
              "0  Alabaster  33.224225 -86.804174   \n",
              "1   Bessemer  33.334550 -86.989778   \n",
              "2     Daphne  30.602875 -87.895932   \n",
              "3    Decatur  34.560148 -86.971559   \n",
              "4     Dothan  31.266061 -85.446422   \n",
              "\n",
              "                                             address         phone  \\\n",
              "0        250 S Colonial Dr, Alabaster, AL 35007-4657  205-564-2608   \n",
              "1       4889 Promenade Pkwy, Bessemer, AL 35022-7305  205-565-3760   \n",
              "2          1698 US Highway 98, Daphne, AL 36526-4252  251-621-3540   \n",
              "3  1235 Point Mallard Pkwy SE, Decatur, AL 35601-...  256-898-3036   \n",
              "4         4601 Montgomery Hwy, Dothan, AL 36303-1522  334-340-1112   \n",
              "\n",
              "                                    website  \\\n",
              "0  https://www.target.com/sl/alabaster/2276   \n",
              "1   https://www.target.com/sl/bessemer/2375   \n",
              "2     https://www.target.com/sl/daphne/1274   \n",
              "3    https://www.target.com/sl/decatur/2084   \n",
              "4     https://www.target.com/sl/dothan/1468   \n",
              "\n",
              "                             Coordinates  \n",
              "0  POINT (-86.80417369999999 33.2242254)  \n",
              "1  POINT (-86.98977789999999 33.3345501)  \n",
              "2  POINT (-87.89593169999999 30.6028747)  \n",
              "3         POINT (-86.9715595 34.5601477)  \n",
              "4         POINT (-85.4464222 31.2660613)  "
            ],
            "text/html": [
              "\n",
              "  <div id=\"df-a878db26-0ab6-4406-9c88-b424407f201b\">\n",
              "    <div class=\"colab-df-container\">\n",
              "      <div>\n",
              "<style scoped>\n",
              "    .dataframe tbody tr th:only-of-type {\n",
              "        vertical-align: middle;\n",
              "    }\n",
              "\n",
              "    .dataframe tbody tr th {\n",
              "        vertical-align: top;\n",
              "    }\n",
              "\n",
              "    .dataframe thead th {\n",
              "        text-align: right;\n",
              "    }\n",
              "</style>\n",
              "<table border=\"1\" class=\"dataframe\">\n",
              "  <thead>\n",
              "    <tr style=\"text-align: right;\">\n",
              "      <th></th>\n",
              "      <th>name</th>\n",
              "      <th>latitude</th>\n",
              "      <th>longitude</th>\n",
              "      <th>address</th>\n",
              "      <th>phone</th>\n",
              "      <th>website</th>\n",
              "      <th>Coordinates</th>\n",
              "    </tr>\n",
              "  </thead>\n",
              "  <tbody>\n",
              "    <tr>\n",
              "      <th>0</th>\n",
              "      <td>Alabaster</td>\n",
              "      <td>33.224225</td>\n",
              "      <td>-86.804174</td>\n",
              "      <td>250 S Colonial Dr, Alabaster, AL 35007-4657</td>\n",
              "      <td>205-564-2608</td>\n",
              "      <td>https://www.target.com/sl/alabaster/2276</td>\n",
              "      <td>POINT (-86.80417369999999 33.2242254)</td>\n",
              "    </tr>\n",
              "    <tr>\n",
              "      <th>1</th>\n",
              "      <td>Bessemer</td>\n",
              "      <td>33.334550</td>\n",
              "      <td>-86.989778</td>\n",
              "      <td>4889 Promenade Pkwy, Bessemer, AL 35022-7305</td>\n",
              "      <td>205-565-3760</td>\n",
              "      <td>https://www.target.com/sl/bessemer/2375</td>\n",
              "      <td>POINT (-86.98977789999999 33.3345501)</td>\n",
              "    </tr>\n",
              "    <tr>\n",
              "      <th>2</th>\n",
              "      <td>Daphne</td>\n",
              "      <td>30.602875</td>\n",
              "      <td>-87.895932</td>\n",
              "      <td>1698 US Highway 98, Daphne, AL 36526-4252</td>\n",
              "      <td>251-621-3540</td>\n",
              "      <td>https://www.target.com/sl/daphne/1274</td>\n",
              "      <td>POINT (-87.89593169999999 30.6028747)</td>\n",
              "    </tr>\n",
              "    <tr>\n",
              "      <th>3</th>\n",
              "      <td>Decatur</td>\n",
              "      <td>34.560148</td>\n",
              "      <td>-86.971559</td>\n",
              "      <td>1235 Point Mallard Pkwy SE, Decatur, AL 35601-...</td>\n",
              "      <td>256-898-3036</td>\n",
              "      <td>https://www.target.com/sl/decatur/2084</td>\n",
              "      <td>POINT (-86.9715595 34.5601477)</td>\n",
              "    </tr>\n",
              "    <tr>\n",
              "      <th>4</th>\n",
              "      <td>Dothan</td>\n",
              "      <td>31.266061</td>\n",
              "      <td>-85.446422</td>\n",
              "      <td>4601 Montgomery Hwy, Dothan, AL 36303-1522</td>\n",
              "      <td>334-340-1112</td>\n",
              "      <td>https://www.target.com/sl/dothan/1468</td>\n",
              "      <td>POINT (-85.4464222 31.2660613)</td>\n",
              "    </tr>\n",
              "  </tbody>\n",
              "</table>\n",
              "</div>\n",
              "      <button class=\"colab-df-convert\" onclick=\"convertToInteractive('df-a878db26-0ab6-4406-9c88-b424407f201b')\"\n",
              "              title=\"Convert this dataframe to an interactive table.\"\n",
              "              style=\"display:none;\">\n",
              "        \n",
              "  <svg xmlns=\"http://www.w3.org/2000/svg\" height=\"24px\"viewBox=\"0 0 24 24\"\n",
              "       width=\"24px\">\n",
              "    <path d=\"M0 0h24v24H0V0z\" fill=\"none\"/>\n",
              "    <path d=\"M18.56 5.44l.94 2.06.94-2.06 2.06-.94-2.06-.94-.94-2.06-.94 2.06-2.06.94zm-11 1L8.5 8.5l.94-2.06 2.06-.94-2.06-.94L8.5 2.5l-.94 2.06-2.06.94zm10 10l.94 2.06.94-2.06 2.06-.94-2.06-.94-.94-2.06-.94 2.06-2.06.94z\"/><path d=\"M17.41 7.96l-1.37-1.37c-.4-.4-.92-.59-1.43-.59-.52 0-1.04.2-1.43.59L10.3 9.45l-7.72 7.72c-.78.78-.78 2.05 0 2.83L4 21.41c.39.39.9.59 1.41.59.51 0 1.02-.2 1.41-.59l7.78-7.78 2.81-2.81c.8-.78.8-2.07 0-2.86zM5.41 20L4 18.59l7.72-7.72 1.47 1.35L5.41 20z\"/>\n",
              "  </svg>\n",
              "      </button>\n",
              "      \n",
              "  <style>\n",
              "    .colab-df-container {\n",
              "      display:flex;\n",
              "      flex-wrap:wrap;\n",
              "      gap: 12px;\n",
              "    }\n",
              "\n",
              "    .colab-df-convert {\n",
              "      background-color: #E8F0FE;\n",
              "      border: none;\n",
              "      border-radius: 50%;\n",
              "      cursor: pointer;\n",
              "      display: none;\n",
              "      fill: #1967D2;\n",
              "      height: 32px;\n",
              "      padding: 0 0 0 0;\n",
              "      width: 32px;\n",
              "    }\n",
              "\n",
              "    .colab-df-convert:hover {\n",
              "      background-color: #E2EBFA;\n",
              "      box-shadow: 0px 1px 2px rgba(60, 64, 67, 0.3), 0px 1px 3px 1px rgba(60, 64, 67, 0.15);\n",
              "      fill: #174EA6;\n",
              "    }\n",
              "\n",
              "    [theme=dark] .colab-df-convert {\n",
              "      background-color: #3B4455;\n",
              "      fill: #D2E3FC;\n",
              "    }\n",
              "\n",
              "    [theme=dark] .colab-df-convert:hover {\n",
              "      background-color: #434B5C;\n",
              "      box-shadow: 0px 1px 3px 1px rgba(0, 0, 0, 0.15);\n",
              "      filter: drop-shadow(0px 1px 2px rgba(0, 0, 0, 0.3));\n",
              "      fill: #FFFFFF;\n",
              "    }\n",
              "  </style>\n",
              "\n",
              "      <script>\n",
              "        const buttonEl =\n",
              "          document.querySelector('#df-a878db26-0ab6-4406-9c88-b424407f201b button.colab-df-convert');\n",
              "        buttonEl.style.display =\n",
              "          google.colab.kernel.accessAllowed ? 'block' : 'none';\n",
              "\n",
              "        async function convertToInteractive(key) {\n",
              "          const element = document.querySelector('#df-a878db26-0ab6-4406-9c88-b424407f201b');\n",
              "          const dataTable =\n",
              "            await google.colab.kernel.invokeFunction('convertToInteractive',\n",
              "                                                     [key], {});\n",
              "          if (!dataTable) return;\n",
              "\n",
              "          const docLinkHtml = 'Like what you see? Visit the ' +\n",
              "            '<a target=\"_blank\" href=https://colab.research.google.com/notebooks/data_table.ipynb>data table notebook</a>'\n",
              "            + ' to learn more about interactive tables.';\n",
              "          element.innerHTML = '';\n",
              "          dataTable['output_type'] = 'display_data';\n",
              "          await google.colab.output.renderOutput(dataTable, element);\n",
              "          const docLink = document.createElement('div');\n",
              "          docLink.innerHTML = docLinkHtml;\n",
              "          element.appendChild(docLink);\n",
              "        }\n",
              "      </script>\n",
              "    </div>\n",
              "  </div>\n",
              "  "
            ]
          },
          "metadata": {},
          "execution_count": 172
        }
      ]
    },
    {
      "cell_type": "code",
      "source": [
        "gdf = gpd.GeoDataFrame(df, geometry=\"Coordinates\")\n",
        "gdf.head()\n",
        "gdf1=gdf\n",
        "gdf.describe()\n"
      ],
      "metadata": {
        "colab": {
          "base_uri": "https://localhost:8080/",
          "height": 300
        },
        "id": "E4_Q1LSgjk_6",
        "outputId": "e4760d6c-20a5-4ec6-d7b5-ac3b99de65b5"
      },
      "execution_count": 173,
      "outputs": [
        {
          "output_type": "execute_result",
          "data": {
            "text/plain": [
              "          latitude    longitude\n",
              "count  1839.000000  1839.000000\n",
              "mean     37.791238   -91.986881\n",
              "std       5.272299    16.108046\n",
              "min      19.647855  -159.376962\n",
              "25%      33.882605   -98.268828\n",
              "50%      38.955432   -87.746346\n",
              "75%      41.658341   -80.084833\n",
              "max      61.577919   -68.742331"
            ],
            "text/html": [
              "\n",
              "  <div id=\"df-f7d5a5f3-9de7-4d47-9dc0-e49d95b6550b\">\n",
              "    <div class=\"colab-df-container\">\n",
              "      <div>\n",
              "<style scoped>\n",
              "    .dataframe tbody tr th:only-of-type {\n",
              "        vertical-align: middle;\n",
              "    }\n",
              "\n",
              "    .dataframe tbody tr th {\n",
              "        vertical-align: top;\n",
              "    }\n",
              "\n",
              "    .dataframe thead th {\n",
              "        text-align: right;\n",
              "    }\n",
              "</style>\n",
              "<table border=\"1\" class=\"dataframe\">\n",
              "  <thead>\n",
              "    <tr style=\"text-align: right;\">\n",
              "      <th></th>\n",
              "      <th>latitude</th>\n",
              "      <th>longitude</th>\n",
              "    </tr>\n",
              "  </thead>\n",
              "  <tbody>\n",
              "    <tr>\n",
              "      <th>count</th>\n",
              "      <td>1839.000000</td>\n",
              "      <td>1839.000000</td>\n",
              "    </tr>\n",
              "    <tr>\n",
              "      <th>mean</th>\n",
              "      <td>37.791238</td>\n",
              "      <td>-91.986881</td>\n",
              "    </tr>\n",
              "    <tr>\n",
              "      <th>std</th>\n",
              "      <td>5.272299</td>\n",
              "      <td>16.108046</td>\n",
              "    </tr>\n",
              "    <tr>\n",
              "      <th>min</th>\n",
              "      <td>19.647855</td>\n",
              "      <td>-159.376962</td>\n",
              "    </tr>\n",
              "    <tr>\n",
              "      <th>25%</th>\n",
              "      <td>33.882605</td>\n",
              "      <td>-98.268828</td>\n",
              "    </tr>\n",
              "    <tr>\n",
              "      <th>50%</th>\n",
              "      <td>38.955432</td>\n",
              "      <td>-87.746346</td>\n",
              "    </tr>\n",
              "    <tr>\n",
              "      <th>75%</th>\n",
              "      <td>41.658341</td>\n",
              "      <td>-80.084833</td>\n",
              "    </tr>\n",
              "    <tr>\n",
              "      <th>max</th>\n",
              "      <td>61.577919</td>\n",
              "      <td>-68.742331</td>\n",
              "    </tr>\n",
              "  </tbody>\n",
              "</table>\n",
              "</div>\n",
              "      <button class=\"colab-df-convert\" onclick=\"convertToInteractive('df-f7d5a5f3-9de7-4d47-9dc0-e49d95b6550b')\"\n",
              "              title=\"Convert this dataframe to an interactive table.\"\n",
              "              style=\"display:none;\">\n",
              "        \n",
              "  <svg xmlns=\"http://www.w3.org/2000/svg\" height=\"24px\"viewBox=\"0 0 24 24\"\n",
              "       width=\"24px\">\n",
              "    <path d=\"M0 0h24v24H0V0z\" fill=\"none\"/>\n",
              "    <path d=\"M18.56 5.44l.94 2.06.94-2.06 2.06-.94-2.06-.94-.94-2.06-.94 2.06-2.06.94zm-11 1L8.5 8.5l.94-2.06 2.06-.94-2.06-.94L8.5 2.5l-.94 2.06-2.06.94zm10 10l.94 2.06.94-2.06 2.06-.94-2.06-.94-.94-2.06-.94 2.06-2.06.94z\"/><path d=\"M17.41 7.96l-1.37-1.37c-.4-.4-.92-.59-1.43-.59-.52 0-1.04.2-1.43.59L10.3 9.45l-7.72 7.72c-.78.78-.78 2.05 0 2.83L4 21.41c.39.39.9.59 1.41.59.51 0 1.02-.2 1.41-.59l7.78-7.78 2.81-2.81c.8-.78.8-2.07 0-2.86zM5.41 20L4 18.59l7.72-7.72 1.47 1.35L5.41 20z\"/>\n",
              "  </svg>\n",
              "      </button>\n",
              "      \n",
              "  <style>\n",
              "    .colab-df-container {\n",
              "      display:flex;\n",
              "      flex-wrap:wrap;\n",
              "      gap: 12px;\n",
              "    }\n",
              "\n",
              "    .colab-df-convert {\n",
              "      background-color: #E8F0FE;\n",
              "      border: none;\n",
              "      border-radius: 50%;\n",
              "      cursor: pointer;\n",
              "      display: none;\n",
              "      fill: #1967D2;\n",
              "      height: 32px;\n",
              "      padding: 0 0 0 0;\n",
              "      width: 32px;\n",
              "    }\n",
              "\n",
              "    .colab-df-convert:hover {\n",
              "      background-color: #E2EBFA;\n",
              "      box-shadow: 0px 1px 2px rgba(60, 64, 67, 0.3), 0px 1px 3px 1px rgba(60, 64, 67, 0.15);\n",
              "      fill: #174EA6;\n",
              "    }\n",
              "\n",
              "    [theme=dark] .colab-df-convert {\n",
              "      background-color: #3B4455;\n",
              "      fill: #D2E3FC;\n",
              "    }\n",
              "\n",
              "    [theme=dark] .colab-df-convert:hover {\n",
              "      background-color: #434B5C;\n",
              "      box-shadow: 0px 1px 3px 1px rgba(0, 0, 0, 0.15);\n",
              "      filter: drop-shadow(0px 1px 2px rgba(0, 0, 0, 0.3));\n",
              "      fill: #FFFFFF;\n",
              "    }\n",
              "  </style>\n",
              "\n",
              "      <script>\n",
              "        const buttonEl =\n",
              "          document.querySelector('#df-f7d5a5f3-9de7-4d47-9dc0-e49d95b6550b button.colab-df-convert');\n",
              "        buttonEl.style.display =\n",
              "          google.colab.kernel.accessAllowed ? 'block' : 'none';\n",
              "\n",
              "        async function convertToInteractive(key) {\n",
              "          const element = document.querySelector('#df-f7d5a5f3-9de7-4d47-9dc0-e49d95b6550b');\n",
              "          const dataTable =\n",
              "            await google.colab.kernel.invokeFunction('convertToInteractive',\n",
              "                                                     [key], {});\n",
              "          if (!dataTable) return;\n",
              "\n",
              "          const docLinkHtml = 'Like what you see? Visit the ' +\n",
              "            '<a target=\"_blank\" href=https://colab.research.google.com/notebooks/data_table.ipynb>data table notebook</a>'\n",
              "            + ' to learn more about interactive tables.';\n",
              "          element.innerHTML = '';\n",
              "          dataTable['output_type'] = 'display_data';\n",
              "          await google.colab.output.renderOutput(dataTable, element);\n",
              "          const docLink = document.createElement('div');\n",
              "          docLink.innerHTML = docLinkHtml;\n",
              "          element.appendChild(docLink);\n",
              "        }\n",
              "      </script>\n",
              "    </div>\n",
              "  </div>\n",
              "  "
            ]
          },
          "metadata": {},
          "execution_count": 173
        }
      ]
    },
    {
      "cell_type": "code",
      "source": [
        "#mapa\n",
        "\n",
        "world = gpd.read_file(gpd.datasets.get_path(\"naturalearth_lowres\"))\n",
        "world = world.set_index(\"iso_a3\")\n",
        "\n",
        "world.head()"
      ],
      "metadata": {
        "colab": {
          "base_uri": "https://localhost:8080/",
          "height": 237
        },
        "id": "jT14hxKnjnuI",
        "outputId": "f196a17a-19bf-4af3-d099-2fdf4308dff7"
      },
      "execution_count": 174,
      "outputs": [
        {
          "output_type": "execute_result",
          "data": {
            "text/plain": [
              "          pop_est      continent                      name  gdp_md_est  \\\n",
              "iso_a3                                                                   \n",
              "FJI        920938        Oceania                      Fiji      8374.0   \n",
              "TZA      53950935         Africa                  Tanzania    150600.0   \n",
              "ESH        603253         Africa                 W. Sahara       906.5   \n",
              "CAN      35623680  North America                    Canada   1674000.0   \n",
              "USA     326625791  North America  United States of America  18560000.0   \n",
              "\n",
              "                                                 geometry  \n",
              "iso_a3                                                     \n",
              "FJI     MULTIPOLYGON (((180.00000 -16.06713, 180.00000...  \n",
              "TZA     POLYGON ((33.90371 -0.95000, 34.07262 -1.05982...  \n",
              "ESH     POLYGON ((-8.66559 27.65643, -8.66512 27.58948...  \n",
              "CAN     MULTIPOLYGON (((-122.84000 49.00000, -122.9742...  \n",
              "USA     MULTIPOLYGON (((-122.84000 49.00000, -120.0000...  "
            ],
            "text/html": [
              "\n",
              "  <div id=\"df-778de68b-ac6d-4321-9d5f-3e021456eda3\">\n",
              "    <div class=\"colab-df-container\">\n",
              "      <div>\n",
              "<style scoped>\n",
              "    .dataframe tbody tr th:only-of-type {\n",
              "        vertical-align: middle;\n",
              "    }\n",
              "\n",
              "    .dataframe tbody tr th {\n",
              "        vertical-align: top;\n",
              "    }\n",
              "\n",
              "    .dataframe thead th {\n",
              "        text-align: right;\n",
              "    }\n",
              "</style>\n",
              "<table border=\"1\" class=\"dataframe\">\n",
              "  <thead>\n",
              "    <tr style=\"text-align: right;\">\n",
              "      <th></th>\n",
              "      <th>pop_est</th>\n",
              "      <th>continent</th>\n",
              "      <th>name</th>\n",
              "      <th>gdp_md_est</th>\n",
              "      <th>geometry</th>\n",
              "    </tr>\n",
              "    <tr>\n",
              "      <th>iso_a3</th>\n",
              "      <th></th>\n",
              "      <th></th>\n",
              "      <th></th>\n",
              "      <th></th>\n",
              "      <th></th>\n",
              "    </tr>\n",
              "  </thead>\n",
              "  <tbody>\n",
              "    <tr>\n",
              "      <th>FJI</th>\n",
              "      <td>920938</td>\n",
              "      <td>Oceania</td>\n",
              "      <td>Fiji</td>\n",
              "      <td>8374.0</td>\n",
              "      <td>MULTIPOLYGON (((180.00000 -16.06713, 180.00000...</td>\n",
              "    </tr>\n",
              "    <tr>\n",
              "      <th>TZA</th>\n",
              "      <td>53950935</td>\n",
              "      <td>Africa</td>\n",
              "      <td>Tanzania</td>\n",
              "      <td>150600.0</td>\n",
              "      <td>POLYGON ((33.90371 -0.95000, 34.07262 -1.05982...</td>\n",
              "    </tr>\n",
              "    <tr>\n",
              "      <th>ESH</th>\n",
              "      <td>603253</td>\n",
              "      <td>Africa</td>\n",
              "      <td>W. Sahara</td>\n",
              "      <td>906.5</td>\n",
              "      <td>POLYGON ((-8.66559 27.65643, -8.66512 27.58948...</td>\n",
              "    </tr>\n",
              "    <tr>\n",
              "      <th>CAN</th>\n",
              "      <td>35623680</td>\n",
              "      <td>North America</td>\n",
              "      <td>Canada</td>\n",
              "      <td>1674000.0</td>\n",
              "      <td>MULTIPOLYGON (((-122.84000 49.00000, -122.9742...</td>\n",
              "    </tr>\n",
              "    <tr>\n",
              "      <th>USA</th>\n",
              "      <td>326625791</td>\n",
              "      <td>North America</td>\n",
              "      <td>United States of America</td>\n",
              "      <td>18560000.0</td>\n",
              "      <td>MULTIPOLYGON (((-122.84000 49.00000, -120.0000...</td>\n",
              "    </tr>\n",
              "  </tbody>\n",
              "</table>\n",
              "</div>\n",
              "      <button class=\"colab-df-convert\" onclick=\"convertToInteractive('df-778de68b-ac6d-4321-9d5f-3e021456eda3')\"\n",
              "              title=\"Convert this dataframe to an interactive table.\"\n",
              "              style=\"display:none;\">\n",
              "        \n",
              "  <svg xmlns=\"http://www.w3.org/2000/svg\" height=\"24px\"viewBox=\"0 0 24 24\"\n",
              "       width=\"24px\">\n",
              "    <path d=\"M0 0h24v24H0V0z\" fill=\"none\"/>\n",
              "    <path d=\"M18.56 5.44l.94 2.06.94-2.06 2.06-.94-2.06-.94-.94-2.06-.94 2.06-2.06.94zm-11 1L8.5 8.5l.94-2.06 2.06-.94-2.06-.94L8.5 2.5l-.94 2.06-2.06.94zm10 10l.94 2.06.94-2.06 2.06-.94-2.06-.94-.94-2.06-.94 2.06-2.06.94z\"/><path d=\"M17.41 7.96l-1.37-1.37c-.4-.4-.92-.59-1.43-.59-.52 0-1.04.2-1.43.59L10.3 9.45l-7.72 7.72c-.78.78-.78 2.05 0 2.83L4 21.41c.39.39.9.59 1.41.59.51 0 1.02-.2 1.41-.59l7.78-7.78 2.81-2.81c.8-.78.8-2.07 0-2.86zM5.41 20L4 18.59l7.72-7.72 1.47 1.35L5.41 20z\"/>\n",
              "  </svg>\n",
              "      </button>\n",
              "      \n",
              "  <style>\n",
              "    .colab-df-container {\n",
              "      display:flex;\n",
              "      flex-wrap:wrap;\n",
              "      gap: 12px;\n",
              "    }\n",
              "\n",
              "    .colab-df-convert {\n",
              "      background-color: #E8F0FE;\n",
              "      border: none;\n",
              "      border-radius: 50%;\n",
              "      cursor: pointer;\n",
              "      display: none;\n",
              "      fill: #1967D2;\n",
              "      height: 32px;\n",
              "      padding: 0 0 0 0;\n",
              "      width: 32px;\n",
              "    }\n",
              "\n",
              "    .colab-df-convert:hover {\n",
              "      background-color: #E2EBFA;\n",
              "      box-shadow: 0px 1px 2px rgba(60, 64, 67, 0.3), 0px 1px 3px 1px rgba(60, 64, 67, 0.15);\n",
              "      fill: #174EA6;\n",
              "    }\n",
              "\n",
              "    [theme=dark] .colab-df-convert {\n",
              "      background-color: #3B4455;\n",
              "      fill: #D2E3FC;\n",
              "    }\n",
              "\n",
              "    [theme=dark] .colab-df-convert:hover {\n",
              "      background-color: #434B5C;\n",
              "      box-shadow: 0px 1px 3px 1px rgba(0, 0, 0, 0.15);\n",
              "      filter: drop-shadow(0px 1px 2px rgba(0, 0, 0, 0.3));\n",
              "      fill: #FFFFFF;\n",
              "    }\n",
              "  </style>\n",
              "\n",
              "      <script>\n",
              "        const buttonEl =\n",
              "          document.querySelector('#df-778de68b-ac6d-4321-9d5f-3e021456eda3 button.colab-df-convert');\n",
              "        buttonEl.style.display =\n",
              "          google.colab.kernel.accessAllowed ? 'block' : 'none';\n",
              "\n",
              "        async function convertToInteractive(key) {\n",
              "          const element = document.querySelector('#df-778de68b-ac6d-4321-9d5f-3e021456eda3');\n",
              "          const dataTable =\n",
              "            await google.colab.kernel.invokeFunction('convertToInteractive',\n",
              "                                                     [key], {});\n",
              "          if (!dataTable) return;\n",
              "\n",
              "          const docLinkHtml = 'Like what you see? Visit the ' +\n",
              "            '<a target=\"_blank\" href=https://colab.research.google.com/notebooks/data_table.ipynb>data table notebook</a>'\n",
              "            + ' to learn more about interactive tables.';\n",
              "          element.innerHTML = '';\n",
              "          dataTable['output_type'] = 'display_data';\n",
              "          await google.colab.output.renderOutput(dataTable, element);\n",
              "          const docLink = document.createElement('div');\n",
              "          docLink.innerHTML = docLinkHtml;\n",
              "          element.appendChild(docLink);\n",
              "        }\n",
              "      </script>\n",
              "    </div>\n",
              "  </div>\n",
              "  "
            ]
          },
          "metadata": {},
          "execution_count": 174
        }
      ]
    },
    {
      "cell_type": "code",
      "source": [
        "#graficar el mapa\n",
        "world.name.unique()"
      ],
      "metadata": {
        "colab": {
          "base_uri": "https://localhost:8080/"
        },
        "id": "ykLxIn0kjqoW",
        "outputId": "d787a8c1-2ebb-4971-91c1-34a576512776"
      },
      "execution_count": 154,
      "outputs": [
        {
          "output_type": "execute_result",
          "data": {
            "text/plain": [
              "array(['Fiji', 'Tanzania', 'W. Sahara', 'Canada',\n",
              "       'United States of America', 'Kazakhstan', 'Uzbekistan',\n",
              "       'Papua New Guinea', 'Indonesia', 'Argentina', 'Chile',\n",
              "       'Dem. Rep. Congo', 'Somalia', 'Kenya', 'Sudan', 'Chad', 'Haiti',\n",
              "       'Dominican Rep.', 'Russia', 'Bahamas', 'Falkland Is.', 'Norway',\n",
              "       'Greenland', 'Fr. S. Antarctic Lands', 'Timor-Leste',\n",
              "       'South Africa', 'Lesotho', 'Mexico', 'Uruguay', 'Brazil',\n",
              "       'Bolivia', 'Peru', 'Colombia', 'Panama', 'Costa Rica', 'Nicaragua',\n",
              "       'Honduras', 'El Salvador', 'Guatemala', 'Belize', 'Venezuela',\n",
              "       'Guyana', 'Suriname', 'France', 'Ecuador', 'Puerto Rico',\n",
              "       'Jamaica', 'Cuba', 'Zimbabwe', 'Botswana', 'Namibia', 'Senegal',\n",
              "       'Mali', 'Mauritania', 'Benin', 'Niger', 'Nigeria', 'Cameroon',\n",
              "       'Togo', 'Ghana', \"Côte d'Ivoire\", 'Guinea', 'Guinea-Bissau',\n",
              "       'Liberia', 'Sierra Leone', 'Burkina Faso', 'Central African Rep.',\n",
              "       'Congo', 'Gabon', 'Eq. Guinea', 'Zambia', 'Malawi', 'Mozambique',\n",
              "       'eSwatini', 'Angola', 'Burundi', 'Israel', 'Lebanon', 'Madagascar',\n",
              "       'Palestine', 'Gambia', 'Tunisia', 'Algeria', 'Jordan',\n",
              "       'United Arab Emirates', 'Qatar', 'Kuwait', 'Iraq', 'Oman',\n",
              "       'Vanuatu', 'Cambodia', 'Thailand', 'Laos', 'Myanmar', 'Vietnam',\n",
              "       'North Korea', 'South Korea', 'Mongolia', 'India', 'Bangladesh',\n",
              "       'Bhutan', 'Nepal', 'Pakistan', 'Afghanistan', 'Tajikistan',\n",
              "       'Kyrgyzstan', 'Turkmenistan', 'Iran', 'Syria', 'Armenia', 'Sweden',\n",
              "       'Belarus', 'Ukraine', 'Poland', 'Austria', 'Hungary', 'Moldova',\n",
              "       'Romania', 'Lithuania', 'Latvia', 'Estonia', 'Germany', 'Bulgaria',\n",
              "       'Greece', 'Turkey', 'Albania', 'Croatia', 'Switzerland',\n",
              "       'Luxembourg', 'Belgium', 'Netherlands', 'Portugal', 'Spain',\n",
              "       'Ireland', 'New Caledonia', 'Solomon Is.', 'New Zealand',\n",
              "       'Australia', 'Sri Lanka', 'China', 'Taiwan', 'Italy', 'Denmark',\n",
              "       'United Kingdom', 'Iceland', 'Azerbaijan', 'Georgia',\n",
              "       'Philippines', 'Malaysia', 'Brunei', 'Slovenia', 'Finland',\n",
              "       'Slovakia', 'Czechia', 'Eritrea', 'Japan', 'Paraguay', 'Yemen',\n",
              "       'Saudi Arabia', 'Antarctica', 'N. Cyprus', 'Cyprus', 'Morocco',\n",
              "       'Egypt', 'Libya', 'Ethiopia', 'Djibouti', 'Somaliland', 'Uganda',\n",
              "       'Rwanda', 'Bosnia and Herz.', 'Macedonia', 'Serbia', 'Montenegro',\n",
              "       'Kosovo', 'Trinidad and Tobago', 'S. Sudan'], dtype=object)"
            ]
          },
          "metadata": {},
          "execution_count": 154
        }
      ]
    },
    {
      "cell_type": "code",
      "source": [
        "fig, gax = plt.subplots(figsize=(10,10))\n",
        "\n",
        "# By only plotting rows in which the continent is 'South America' we only plot SA.\n",
        "world.query(\"name == 'United States of America'\").plot(ax=gax, edgecolor='black',color='white')\n",
        "\n",
        "# By the way, if you haven't read the book 'longitude' by Dava Sobel, you should...\n",
        "gax.set_xlabel('longitude')\n",
        "gax.set_ylabel('latitude')\n",
        "\n",
        "gax.spines['top'].set_visible(False)\n",
        "gax.spines['right'].set_visible(False)"
      ],
      "metadata": {
        "colab": {
          "base_uri": "https://localhost:8080/",
          "height": 463
        },
        "id": "MIqZa1MTlHql",
        "outputId": "82bcade8-4444-4f52-c978-f88fabe945c6"
      },
      "execution_count": 155,
      "outputs": [
        {
          "output_type": "display_data",
          "data": {
            "text/plain": [
              "<Figure size 720x720 with 1 Axes>"
            ],
            "image/png": "[encoded data removed]"
          },
          "metadata": {}
        }
      ]
    },
    {
      "cell_type": "code",
      "source": [
        "# Step 3: Plot the cities onto the map\n",
        "# We mostly use the code from before --- we still want the country borders plotted --- and we\n",
        "# add a command to plot the cities\n",
        "fig, gax = plt.subplots(figsize=(10,10))\n",
        "\n",
        "# By only plotting rows in which the continent is 'South America' we only plot, well,\n",
        "# South America.\n",
        "world.query(\"name == 'United States of America'\").plot(ax = gax, edgecolor='black', color='white')\n",
        "\n",
        "# This plot the cities. It's the same syntax, but we are plotting from a different GeoDataFrame.\n",
        "# I want the cities as pale red dots.\n",
        "gdf.plot(ax=gax, color='red', alpha = 0.5)\n",
        "\n",
        "gax.set_xlabel('longitude')\n",
        "gax.set_ylabel('latitude')\n",
        "gax.set_title('Target en Estados Unidos')\n",
        "\n",
        "gax.spines['top'].set_visible(False)\n",
        "gax.spines['right'].set_visible(False)\n",
        "\n",
        "plt.show()"
      ],
      "metadata": {
        "colab": {
          "base_uri": "https://localhost:8080/",
          "height": 363
        },
        "id": "xGBKlGsllJ1R",
        "outputId": "6a036120-7384-4201-c48a-eceb21d661c6"
      },
      "execution_count": 156,
      "outputs": [
        {
          "output_type": "display_data",
          "data": {
            "text/plain": [
              "<Figure size 720x720 with 1 Axes>"
            ],
            "image/png": "[encoded data removed]"
          },
          "metadata": {}
        }
      ]
    },
    {
      "cell_type": "markdown",
      "source": [
        "¿qué tal ahora?, tiene mayor sentido verdad, entonces los datos lejanos no eran atípicos, de aquí la importancia de ver los datos con el tipo de gráfica correcta.\n",
        "\n",
        "Ahora sí, implementa K means a los datos de latitud y longitud :) y encuentra donde colocar los almacenes. \n",
        "\n",
        "Nota: si te llama la atención implementar alguna otra visualización con otra librería, lo puedes hacer, no hay restricciones."
      ],
      "metadata": {
        "id": "iyNJO25plNES"
      }
    },
    {
      "cell_type": "markdown",
      "source": [
        "Encuentra las latitudes y longitudes de los almacenes, ¿qué ciudad es?, ¿a cuantas tiendas va surtir?, ¿sabes a que distancia estará?\n",
        "¿Cómo elegiste el número de almacenes?, justifica tu respuesta técnicamente.\n",
        "Adicionalmente, en el notebook notaras que al inicio exploramos los datos y los graficamos de manera simple, después nos auxiliamos de una librería de datos geográficos.\n",
        "\n",
        "¿qué librerías nos pueden ayudar a graficar este tipo de datos?\n",
        "¿Consideras importante que se grafique en un mapa?, ¿por qué?\n",
        "Agrega las conclusiones"
      ],
      "metadata": {
        "id": "ByxKYS9BlP7q"
      }
    },
    {
      "cell_type": "code",
      "source": [
        "%matplotlib inline\n",
        "import matplotlib.pyplot as plt\n",
        "import seaborn as sns; sns.set()  # for plot styling\n",
        "import numpy as np\n",
        "import pandas as pd\n",
        "from sklearn.cluster import KMeans"
      ],
      "metadata": {
        "id": "2qenlWjn8Cf2"
      },
      "execution_count": 117,
      "outputs": []
    },
    {
      "cell_type": "code",
      "source": [
        "df1=pd.merge(df,world,left_on='name',right_on='name')\n",
        "df1.describe()"
      ],
      "metadata": {
        "colab": {
          "base_uri": "https://localhost:8080/",
          "height": 300
        },
        "id": "oaaBaoe6Bs75",
        "outputId": "1e3529e9-3ec1-4cdc-d8b9-876b23eb7b8b"
      },
      "execution_count": 171,
      "outputs": [
        {
          "output_type": "execute_result",
          "data": {
            "text/plain": [
              "        latitude  longitude       pop_est    gdp_md_est\n",
              "count   4.000000   4.000000  4.000000e+00       4.00000\n",
              "mean   42.231423 -79.791958  1.099164e+07  183148.25000\n",
              "std     1.035219   7.640504  1.414683e+07  199600.79861\n",
              "min    41.311369 -89.129358  5.771300e+04    2173.00000\n",
              "25%    41.349387 -83.428157  1.592219e+06   22683.25000\n",
              "50%    42.205790 -79.609988  6.436099e+06  160010.00000\n",
              "75%    43.087826 -75.973789  1.583552e+07  320475.00000\n",
              "max    43.202741 -70.818499  3.103666e+07  410400.00000"
            ],
            "text/html": [
              "\n",
              "  <div id=\"df-60ab933d-0375-49a7-bade-e3614cca7cb9\">\n",
              "    <div class=\"colab-df-container\">\n",
              "      <div>\n",
              "<style scoped>\n",
              "    .dataframe tbody tr th:only-of-type {\n",
              "        vertical-align: middle;\n",
              "    }\n",
              "\n",
              "    .dataframe tbody tr th {\n",
              "        vertical-align: top;\n",
              "    }\n",
              "\n",
              "    .dataframe thead th {\n",
              "        text-align: right;\n",
              "    }\n",
              "</style>\n",
              "<table border=\"1\" class=\"dataframe\">\n",
              "  <thead>\n",
              "    <tr style=\"text-align: right;\">\n",
              "      <th></th>\n",
              "      <th>latitude</th>\n",
              "      <th>longitude</th>\n",
              "      <th>pop_est</th>\n",
              "      <th>gdp_md_est</th>\n",
              "    </tr>\n",
              "  </thead>\n",
              "  <tbody>\n",
              "    <tr>\n",
              "      <th>count</th>\n",
              "      <td>4.000000</td>\n",
              "      <td>4.000000</td>\n",
              "      <td>4.000000e+00</td>\n",
              "      <td>4.00000</td>\n",
              "    </tr>\n",
              "    <tr>\n",
              "      <th>mean</th>\n",
              "      <td>42.231423</td>\n",
              "      <td>-79.791958</td>\n",
              "      <td>1.099164e+07</td>\n",
              "      <td>183148.25000</td>\n",
              "    </tr>\n",
              "    <tr>\n",
              "      <th>std</th>\n",
              "      <td>1.035219</td>\n",
              "      <td>7.640504</td>\n",
              "      <td>1.414683e+07</td>\n",
              "      <td>199600.79861</td>\n",
              "    </tr>\n",
              "    <tr>\n",
              "      <th>min</th>\n",
              "      <td>41.311369</td>\n",
              "      <td>-89.129358</td>\n",
              "      <td>5.771300e+04</td>\n",
              "      <td>2173.00000</td>\n",
              "    </tr>\n",
              "    <tr>\n",
              "      <th>25%</th>\n",
              "      <td>41.349387</td>\n",
              "      <td>-83.428157</td>\n",
              "      <td>1.592219e+06</td>\n",
              "      <td>22683.25000</td>\n",
              "    </tr>\n",
              "    <tr>\n",
              "      <th>50%</th>\n",
              "      <td>42.205790</td>\n",
              "      <td>-79.609988</td>\n",
              "      <td>6.436099e+06</td>\n",
              "      <td>160010.00000</td>\n",
              "    </tr>\n",
              "    <tr>\n",
              "      <th>75%</th>\n",
              "      <td>43.087826</td>\n",
              "      <td>-75.973789</td>\n",
              "      <td>1.583552e+07</td>\n",
              "      <td>320475.00000</td>\n",
              "    </tr>\n",
              "    <tr>\n",
              "      <th>max</th>\n",
              "      <td>43.202741</td>\n",
              "      <td>-70.818499</td>\n",
              "      <td>3.103666e+07</td>\n",
              "      <td>410400.00000</td>\n",
              "    </tr>\n",
              "  </tbody>\n",
              "</table>\n",
              "</div>\n",
              "      <button class=\"colab-df-convert\" onclick=\"convertToInteractive('df-60ab933d-0375-49a7-bade-e3614cca7cb9')\"\n",
              "              title=\"Convert this dataframe to an interactive table.\"\n",
              "              style=\"display:none;\">\n",
              "        \n",
              "  <svg xmlns=\"http://www.w3.org/2000/svg\" height=\"24px\"viewBox=\"0 0 24 24\"\n",
              "       width=\"24px\">\n",
              "    <path d=\"M0 0h24v24H0V0z\" fill=\"none\"/>\n",
              "    <path d=\"M18.56 5.44l.94 2.06.94-2.06 2.06-.94-2.06-.94-.94-2.06-.94 2.06-2.06.94zm-11 1L8.5 8.5l.94-2.06 2.06-.94-2.06-.94L8.5 2.5l-.94 2.06-2.06.94zm10 10l.94 2.06.94-2.06 2.06-.94-2.06-.94-.94-2.06-.94 2.06-2.06.94z\"/><path d=\"M17.41 7.96l-1.37-1.37c-.4-.4-.92-.59-1.43-.59-.52 0-1.04.2-1.43.59L10.3 9.45l-7.72 7.72c-.78.78-.78 2.05 0 2.83L4 21.41c.39.39.9.59 1.41.59.51 0 1.02-.2 1.41-.59l7.78-7.78 2.81-2.81c.8-.78.8-2.07 0-2.86zM5.41 20L4 18.59l7.72-7.72 1.47 1.35L5.41 20z\"/>\n",
              "  </svg>\n",
              "      </button>\n",
              "      \n",
              "  <style>\n",
              "    .colab-df-container {\n",
              "      display:flex;\n",
              "      flex-wrap:wrap;\n",
              "      gap: 12px;\n",
              "    }\n",
              "\n",
              "    .colab-df-convert {\n",
              "      background-color: #E8F0FE;\n",
              "      border: none;\n",
              "      border-radius: 50%;\n",
              "      cursor: pointer;\n",
              "      display: none;\n",
              "      fill: #1967D2;\n",
              "      height: 32px;\n",
              "      padding: 0 0 0 0;\n",
              "      width: 32px;\n",
              "    }\n",
              "\n",
              "    .colab-df-convert:hover {\n",
              "      background-color: #E2EBFA;\n",
              "      box-shadow: 0px 1px 2px rgba(60, 64, 67, 0.3), 0px 1px 3px 1px rgba(60, 64, 67, 0.15);\n",
              "      fill: #174EA6;\n",
              "    }\n",
              "\n",
              "    [theme=dark] .colab-df-convert {\n",
              "      background-color: #3B4455;\n",
              "      fill: #D2E3FC;\n",
              "    }\n",
              "\n",
              "    [theme=dark] .colab-df-convert:hover {\n",
              "      background-color: #434B5C;\n",
              "      box-shadow: 0px 1px 3px 1px rgba(0, 0, 0, 0.15);\n",
              "      filter: drop-shadow(0px 1px 2px rgba(0, 0, 0, 0.3));\n",
              "      fill: #FFFFFF;\n",
              "    }\n",
              "  </style>\n",
              "\n",
              "      <script>\n",
              "        const buttonEl =\n",
              "          document.querySelector('#df-60ab933d-0375-49a7-bade-e3614cca7cb9 button.colab-df-convert');\n",
              "        buttonEl.style.display =\n",
              "          google.colab.kernel.accessAllowed ? 'block' : 'none';\n",
              "\n",
              "        async function convertToInteractive(key) {\n",
              "          const element = document.querySelector('#df-60ab933d-0375-49a7-bade-e3614cca7cb9');\n",
              "          const dataTable =\n",
              "            await google.colab.kernel.invokeFunction('convertToInteractive',\n",
              "                                                     [key], {});\n",
              "          if (!dataTable) return;\n",
              "\n",
              "          const docLinkHtml = 'Like what you see? Visit the ' +\n",
              "            '<a target=\"_blank\" href=https://colab.research.google.com/notebooks/data_table.ipynb>data table notebook</a>'\n",
              "            + ' to learn more about interactive tables.';\n",
              "          element.innerHTML = '';\n",
              "          dataTable['output_type'] = 'display_data';\n",
              "          await google.colab.output.renderOutput(dataTable, element);\n",
              "          const docLink = document.createElement('div');\n",
              "          docLink.innerHTML = docLinkHtml;\n",
              "          element.appendChild(docLink);\n",
              "        }\n",
              "      </script>\n",
              "    </div>\n",
              "  </div>\n",
              "  "
            ]
          },
          "metadata": {},
          "execution_count": 171
        }
      ]
    },
    {
      "cell_type": "code",
      "source": [
        "#Graficar los nodos dados (ubicaciones)\n",
        "Lat= latlong[\"latitude\"]\n",
        "Lon = latlong[\"longitude\"]\n",
        "Peso = df['pop_est']\n",
        "X = []\n",
        "for i in range(len(latlong[\"latitude\"])):\n",
        "    X.append(Lat[i])\n",
        "    X.append(Lon[i])\n",
        "\n",
        "X = np.array(X)\n",
        "\n",
        "X = X.reshape(-1, 2,)\n",
        "\n",
        "\n",
        "plt.scatter(Lat, Lon)\n",
        "plt.show()"
      ],
      "metadata": {
        "colab": {
          "base_uri": "https://localhost:8080/",
          "height": 268
        },
        "id": "7gQ8Nel2--7I",
        "outputId": "fa8b3f6d-a5c0-4c26-a812-69555f8a45e3"
      },
      "execution_count": 140,
      "outputs": [
        {
          "output_type": "display_data",
          "data": {
            "text/plain": [
              "<Figure size 432x288 with 1 Axes>"
            ],
            "image/png": "[encoded data removed]"
          },
          "metadata": {}
        }
      ]
    },
    {
      "cell_type": "code",
      "source": [
        "#Ejecutar el algoritmo KMeans\n",
        "clusters = 5\n",
        "KMean = KMeans(n_clusters=clusters)\n",
        "KMean_g = KMean.fit_predict(X)\n",
        "KMean.fit(X)"
      ],
      "metadata": {
        "colab": {
          "base_uri": "https://localhost:8080/"
        },
        "id": "KwUc99c0ACiL",
        "outputId": "c6c4bae7-5fb5-475f-c1bd-33e5e0742d7c"
      },
      "execution_count": 176,
      "outputs": [
        {
          "output_type": "execute_result",
          "data": {
            "text/plain": [
              "KMeans(n_clusters=5)"
            ]
          },
          "metadata": {},
          "execution_count": 176
        }
      ]
    },
    {
      "cell_type": "code",
      "source": [
        "#Determinar los centroides de cada clúster\n",
        "KMean.cluster_centers_"
      ],
      "metadata": {
        "colab": {
          "base_uri": "https://localhost:8080/"
        },
        "id": "gDxJz2ZTAMVt",
        "outputId": "4a291236-ebbc-4584-8ecd-211efef44d6a"
      },
      "execution_count": 177,
      "outputs": [
        {
          "output_type": "execute_result",
          "data": {
            "text/plain": [
              "array([[  37.57977424, -119.17634307],\n",
              "       [  31.15654549,  -82.9746348 ],\n",
              "       [  33.76667154,  -98.58663793],\n",
              "       [  41.71273365,  -88.92760283],\n",
              "       [  40.34460877,  -75.66614111]])"
            ]
          },
          "metadata": {},
          "execution_count": 177
        }
      ]
    },
    {
      "cell_type": "code",
      "source": [
        "#Graficar todas las coordenadas (Puntos y centroides)\n",
        "plt.scatter(X[:,0], X[:,1], c=KMean_g) #Puntos iniciales\n",
        "\n",
        "#Centroides\n",
        "plt.scatter(KMean.cluster_centers_[0][0], KMean.cluster_centers_[0][1], s=50, c='r')\n",
        "plt.scatter(KMean.cluster_centers_[1][0], KMean.cluster_centers_[1][1], s=50, c='r')\n",
        "plt.scatter(KMean.cluster_centers_[2][0], KMean.cluster_centers_[2][1], s=50, c='r')\n",
        "plt.scatter(KMean.cluster_centers_[3][0], KMean.cluster_centers_[3][1], s=50, c='r')"
      ],
      "metadata": {
        "colab": {
          "base_uri": "https://localhost:8080/",
          "height": 289
        },
        "id": "wM_2NDxDAQbz",
        "outputId": "b84e028e-3452-4130-9e75-15810bd04c85"
      },
      "execution_count": 178,
      "outputs": [
        {
          "output_type": "execute_result",
          "data": {
            "text/plain": [
              "<matplotlib.collections.PathCollection at 0x7fcbb6beab50>"
            ]
          },
          "metadata": {},
          "execution_count": 178
        },
        {
          "output_type": "display_data",
          "data": {
            "text/plain": [
              "<Figure size 432x288 with 1 Axes>"
            ],
            "image/png": "[encoded data removed]"
          },
          "metadata": {}
        }
      ]
    },
    {
      "cell_type": "code",
      "source": [
        "#Ejecutar el algoritmo KMeans (Considerando el peso de los nodos)\n",
        "clusters = 4\n",
        "KMean = KMeans(n_clusters=clusters)\n",
        "KMean_g = KMean.fit_predict(X)\n",
        "#KMean.fit(X, sample_weight= df['pop_est'])"
      ],
      "metadata": {
        "id": "uxP0z2LoAczR"
      },
      "execution_count": 179,
      "outputs": []
    },
    {
      "cell_type": "code",
      "source": [
        "#Determinar los centroides de cada clúster\n",
        "KMean.cluster_centers_"
      ],
      "metadata": {
        "colab": {
          "base_uri": "https://localhost:8080/"
        },
        "id": "0ojMHEYeE1I-",
        "outputId": "22dee0db-cd56-4d35-b66b-bf7ff11fc5bb"
      },
      "execution_count": 180,
      "outputs": [
        {
          "output_type": "execute_result",
          "data": {
            "text/plain": [
              "array([[  40.53551408,  -76.72577314],\n",
              "       [  37.47251917, -118.72268689],\n",
              "       [  31.98789155,  -83.25770621],\n",
              "       [  38.47857334,  -93.81115042]])"
            ]
          },
          "metadata": {},
          "execution_count": 180
        }
      ]
    },
    {
      "cell_type": "code",
      "source": [
        "#Graficar todas las coordenadas (Puntos y centroides)\n",
        "plt.scatter(X[:,0], X[:,1], c=KMean_g) #Puntos iniciales\n",
        "\n",
        "#Centroides\n",
        "plt.scatter(KMean.cluster_centers_[0][0], KMean.cluster_centers_[0][1], s=50, c='r')\n",
        "plt.scatter(KMean.cluster_centers_[1][0], KMean.cluster_centers_[1][1], s=50, c='r')\n",
        "plt.scatter(KMean.cluster_centers_[2][0], KMean.cluster_centers_[2][1], s=50, c='r')\n",
        "plt.scatter(KMean.cluster_centers_[3][0], KMean.cluster_centers_[3][1], s=50, c='r')"
      ],
      "metadata": {
        "colab": {
          "base_uri": "https://localhost:8080/",
          "height": 289
        },
        "id": "J8NlCezYE4xp",
        "outputId": "cd523208-7ca6-415c-ca17-78b1c0832e1a"
      },
      "execution_count": 181,
      "outputs": [
        {
          "output_type": "execute_result",
          "data": {
            "text/plain": [
              "<matplotlib.collections.PathCollection at 0x7fcbb6f21050>"
            ]
          },
          "metadata": {},
          "execution_count": 181
        },
        {
          "output_type": "display_data",
          "data": {
            "text/plain": [
              "<Figure size 432x288 with 1 Axes>"
            ],
            "image/png": "[encoded data removed]"
          },
          "metadata": {}
        }
      ]
    },
    {
      "cell_type": "code",
      "source": [
        "KMean.labels_"
      ],
      "metadata": {
        "colab": {
          "base_uri": "https://localhost:8080/"
        },
        "id": "bLTEfqz6E8Wd",
        "outputId": "f9cbbcf3-a744-4abc-c9e7-18b68f61b46e"
      },
      "execution_count": 182,
      "outputs": [
        {
          "output_type": "execute_result",
          "data": {
            "text/plain": [
              "array([2, 2, 2, ..., 3, 3, 1], dtype=int32)"
            ]
          },
          "metadata": {},
          "execution_count": 182
        }
      ]
    },
    {
      "cell_type": "code",
      "source": [
        "sample_test=np.array([-3.433,-76.22])\n",
        "second_test=sample_test.reshape(1, -1)\n",
        "KMean.predict(second_test)"
      ],
      "metadata": {
        "colab": {
          "base_uri": "https://localhost:8080/"
        },
        "id": "RO_PCLYoFAB6",
        "outputId": "375cb6d0-3c0b-4766-a32c-6aebd156638a"
      },
      "execution_count": 183,
      "outputs": [
        {
          "output_type": "execute_result",
          "data": {
            "text/plain": [
              "array([2], dtype=int32)"
            ]
          },
          "metadata": {},
          "execution_count": 183
        }
      ]
    },
    {
      "cell_type": "code",
      "source": [
        "import folium\n",
        "import statistics\n",
        "from folium.plugins import HeatMap\n",
        "mediaLong = statistics.mean(Lon)\n",
        "mediaLat = statistics.mean(Lat)\n",
        "\n",
        "# Crear un objeto de mapa base Map()\n",
        "mapa = folium.Map(location=[mediaLat, mediaLong], zoom_start = 13)\n",
        "\n",
        "# Crear una capa de mapa de calor\n",
        "mapa_calor = HeatMap( list(zip(Lat, Lon, df['pop_est'])),\n",
        "                   min_opacity=0.2,\n",
        "                   max_val=df[\"Peso\"].max(),\n",
        "                   radius=50, \n",
        "                   blur=50, \n",
        "                   max_zoom=1)\n",
        "\n",
        "#Creamos el marcador de Centro de Gravedad\n",
        "tooltip = 'Centro de gravedad'\n",
        "folium.Marker([KMean.cluster_centers_[0][0], KMean.cluster_centers_[0][1]], popup=\"Centro\", tooltip = tooltip).add_to(mapa)\n",
        "folium.Marker([KMean.cluster_centers_[1][0], KMean.cluster_centers_[1][1]], popup=\"Centro\", tooltip = tooltip).add_to(mapa)\n",
        "folium.Marker([KMean.cluster_centers_[2][0], KMean.cluster_centers_[2][1]], popup=\"Centro\", tooltip = tooltip).add_to(mapa)\n",
        "folium.Marker([KMean.cluster_centers_[3][0], KMean.cluster_centers_[3][1]], popup=\"Centro\", tooltip = tooltip).add_to(mapa)\n",
        "\n",
        "# Adherimos la capa de mapa de calor al mapa principal\n",
        "mapa_calor.add_to(mapa)\n",
        "mapa"
      ],
      "metadata": {
        "colab": {
          "base_uri": "https://localhost:8080/",
          "height": 502
        },
        "id": "beBp0J4TFIhE",
        "outputId": "5d99aa54-a42c-4a3b-d02d-b297085c03ac"
      },
      "execution_count": 185,
      "outputs": [
        {
          "output_type": "error",
          "ename": "KeyError",
          "evalue": "ignored",
          "traceback": [
            "\u001b[0;31m---------------------------------------------------------------------------\u001b[0m",
            "\u001b[0;31mKeyError\u001b[0m                                  Traceback (most recent call last)",
            "\u001b[0;32m/usr/local/lib/python3.7/dist-packages/pandas/core/indexes/base.py\u001b[0m in \u001b[0;36mget_loc\u001b[0;34m(self, key, method, tolerance)\u001b[0m\n\u001b[1;32m   3360\u001b[0m             \u001b[0;32mtry\u001b[0m\u001b[0;34m:\u001b[0m\u001b[0;34m\u001b[0m\u001b[0;34m\u001b[0m\u001b[0m\n\u001b[0;32m-> 3361\u001b[0;31m                 \u001b[0;32mreturn\u001b[0m \u001b[0mself\u001b[0m\u001b[0;34m.\u001b[0m\u001b[0m_engine\u001b[0m\u001b[0;34m.\u001b[0m\u001b[0mget_loc\u001b[0m\u001b[0;34m(\u001b[0m\u001b[0mcasted_key\u001b[0m\u001b[0;34m)\u001b[0m\u001b[0;34m\u001b[0m\u001b[0;34m\u001b[0m\u001b[0m\n\u001b[0m\u001b[1;32m   3362\u001b[0m             \u001b[0;32mexcept\u001b[0m \u001b[0mKeyError\u001b[0m \u001b[0;32mas\u001b[0m \u001b[0merr\u001b[0m\u001b[0;34m:\u001b[0m\u001b[0;34m\u001b[0m\u001b[0;34m\u001b[0m\u001b[0m\n",
            "\u001b[0;32m/usr/local/lib/python3.7/dist-packages/pandas/_libs/index.pyx\u001b[0m in \u001b[0;36mpandas._libs.index.IndexEngine.get_loc\u001b[0;34m()\u001b[0m\n",
            "\u001b[0;32m/usr/local/lib/python3.7/dist-packages/pandas/_libs/index.pyx\u001b[0m in \u001b[0;36mpandas._libs.index.IndexEngine.get_loc\u001b[0;34m()\u001b[0m\n",
            "\u001b[0;32mpandas/_libs/hashtable_class_helper.pxi\u001b[0m in \u001b[0;36mpandas._libs.hashtable.PyObjectHashTable.get_item\u001b[0;34m()\u001b[0m\n",
            "\u001b[0;32mpandas/_libs/hashtable_class_helper.pxi\u001b[0m in \u001b[0;36mpandas._libs.hashtable.PyObjectHashTable.get_item\u001b[0;34m()\u001b[0m\n",
            "\u001b[0;31mKeyError\u001b[0m: 'pop_est'",
            "\nThe above exception was the direct cause of the following exception:\n",
            "\u001b[0;31mKeyError\u001b[0m                                  Traceback (most recent call last)",
            "\u001b[0;32m<ipython-input-185-feec1b78be41>\u001b[0m in \u001b[0;36m<module>\u001b[0;34m\u001b[0m\n\u001b[1;32m      9\u001b[0m \u001b[0;34m\u001b[0m\u001b[0m\n\u001b[1;32m     10\u001b[0m \u001b[0;31m# Crear una capa de mapa de calor\u001b[0m\u001b[0;34m\u001b[0m\u001b[0;34m\u001b[0m\u001b[0;34m\u001b[0m\u001b[0m\n\u001b[0;32m---> 11\u001b[0;31m mapa_calor = HeatMap( list(zip(Lat, Lon, df['pop_est'])),\n\u001b[0m\u001b[1;32m     12\u001b[0m                    \u001b[0mmin_opacity\u001b[0m\u001b[0;34m=\u001b[0m\u001b[0;36m0.2\u001b[0m\u001b[0;34m,\u001b[0m\u001b[0;34m\u001b[0m\u001b[0;34m\u001b[0m\u001b[0m\n\u001b[1;32m     13\u001b[0m                    \u001b[0mmax_val\u001b[0m\u001b[0;34m=\u001b[0m\u001b[0mdf\u001b[0m\u001b[0;34m[\u001b[0m\u001b[0;34m\"Peso\"\u001b[0m\u001b[0;34m]\u001b[0m\u001b[0;34m.\u001b[0m\u001b[0mmax\u001b[0m\u001b[0;34m(\u001b[0m\u001b[0;34m)\u001b[0m\u001b[0;34m,\u001b[0m\u001b[0;34m\u001b[0m\u001b[0;34m\u001b[0m\u001b[0m\n",
            "\u001b[0;32m/usr/local/lib/python3.7/dist-packages/pandas/core/frame.py\u001b[0m in \u001b[0;36m__getitem__\u001b[0;34m(self, key)\u001b[0m\n\u001b[1;32m   3456\u001b[0m             \u001b[0;32mif\u001b[0m \u001b[0mself\u001b[0m\u001b[0;34m.\u001b[0m\u001b[0mcolumns\u001b[0m\u001b[0;34m.\u001b[0m\u001b[0mnlevels\u001b[0m \u001b[0;34m>\u001b[0m \u001b[0;36m1\u001b[0m\u001b[0;34m:\u001b[0m\u001b[0;34m\u001b[0m\u001b[0;34m\u001b[0m\u001b[0m\n\u001b[1;32m   3457\u001b[0m                 \u001b[0;32mreturn\u001b[0m \u001b[0mself\u001b[0m\u001b[0;34m.\u001b[0m\u001b[0m_getitem_multilevel\u001b[0m\u001b[0;34m(\u001b[0m\u001b[0mkey\u001b[0m\u001b[0;34m)\u001b[0m\u001b[0;34m\u001b[0m\u001b[0;34m\u001b[0m\u001b[0m\n\u001b[0;32m-> 3458\u001b[0;31m             \u001b[0mindexer\u001b[0m \u001b[0;34m=\u001b[0m \u001b[0mself\u001b[0m\u001b[0;34m.\u001b[0m\u001b[0mcolumns\u001b[0m\u001b[0;34m.\u001b[0m\u001b[0mget_loc\u001b[0m\u001b[0;34m(\u001b[0m\u001b[0mkey\u001b[0m\u001b[0;34m)\u001b[0m\u001b[0;34m\u001b[0m\u001b[0;34m\u001b[0m\u001b[0m\n\u001b[0m\u001b[1;32m   3459\u001b[0m             \u001b[0;32mif\u001b[0m \u001b[0mis_integer\u001b[0m\u001b[0;34m(\u001b[0m\u001b[0mindexer\u001b[0m\u001b[0;34m)\u001b[0m\u001b[0;34m:\u001b[0m\u001b[0;34m\u001b[0m\u001b[0;34m\u001b[0m\u001b[0m\n\u001b[1;32m   3460\u001b[0m                 \u001b[0mindexer\u001b[0m \u001b[0;34m=\u001b[0m \u001b[0;34m[\u001b[0m\u001b[0mindexer\u001b[0m\u001b[0;34m]\u001b[0m\u001b[0;34m\u001b[0m\u001b[0;34m\u001b[0m\u001b[0m\n",
            "\u001b[0;32m/usr/local/lib/python3.7/dist-packages/pandas/core/indexes/base.py\u001b[0m in \u001b[0;36mget_loc\u001b[0;34m(self, key, method, tolerance)\u001b[0m\n\u001b[1;32m   3361\u001b[0m                 \u001b[0;32mreturn\u001b[0m \u001b[0mself\u001b[0m\u001b[0;34m.\u001b[0m\u001b[0m_engine\u001b[0m\u001b[0;34m.\u001b[0m\u001b[0mget_loc\u001b[0m\u001b[0;34m(\u001b[0m\u001b[0mcasted_key\u001b[0m\u001b[0;34m)\u001b[0m\u001b[0;34m\u001b[0m\u001b[0;34m\u001b[0m\u001b[0m\n\u001b[1;32m   3362\u001b[0m             \u001b[0;32mexcept\u001b[0m \u001b[0mKeyError\u001b[0m \u001b[0;32mas\u001b[0m \u001b[0merr\u001b[0m\u001b[0;34m:\u001b[0m\u001b[0;34m\u001b[0m\u001b[0;34m\u001b[0m\u001b[0m\n\u001b[0;32m-> 3363\u001b[0;31m                 \u001b[0;32mraise\u001b[0m \u001b[0mKeyError\u001b[0m\u001b[0;34m(\u001b[0m\u001b[0mkey\u001b[0m\u001b[0;34m)\u001b[0m \u001b[0;32mfrom\u001b[0m \u001b[0merr\u001b[0m\u001b[0;34m\u001b[0m\u001b[0;34m\u001b[0m\u001b[0m\n\u001b[0m\u001b[1;32m   3364\u001b[0m \u001b[0;34m\u001b[0m\u001b[0m\n\u001b[1;32m   3365\u001b[0m         \u001b[0;32mif\u001b[0m \u001b[0mis_scalar\u001b[0m\u001b[0;34m(\u001b[0m\u001b[0mkey\u001b[0m\u001b[0;34m)\u001b[0m \u001b[0;32mand\u001b[0m \u001b[0misna\u001b[0m\u001b[0;34m(\u001b[0m\u001b[0mkey\u001b[0m\u001b[0;34m)\u001b[0m \u001b[0;32mand\u001b[0m \u001b[0;32mnot\u001b[0m \u001b[0mself\u001b[0m\u001b[0;34m.\u001b[0m\u001b[0mhasnans\u001b[0m\u001b[0;34m:\u001b[0m\u001b[0;34m\u001b[0m\u001b[0;34m\u001b[0m\u001b[0m\n",
            "\u001b[0;31mKeyError\u001b[0m: 'pop_est'"
          ]
        }
      ]
    },
    {
      "cell_type": "markdown",
      "source": [
        "visualmente puede observarse cómo, básicamente los centroides se ubican en lo que podría considerarse el medio de cada clúster"
      ],
      "metadata": {
        "id": "NdrThDuqAZgC"
      }
    },
    {
      "cell_type": "code",
      "source": [
        "\n",
        "#X = np.array(latlong[\"latitude\"])\n",
        "#y = np.array(latlong[\"longitude\"])\n",
        "#X.shape\n",
        "#y.shape"
      ],
      "metadata": {
        "colab": {
          "base_uri": "https://localhost:8080/"
        },
        "id": "bVJ28y9q7XFQ",
        "outputId": "47004d82-e5a5-4048-b888-6941902cad9b"
      },
      "execution_count": 115,
      "outputs": [
        {
          "output_type": "execute_result",
          "data": {
            "text/plain": [
              "(1839,)"
            ]
          },
          "metadata": {},
          "execution_count": 115
        }
      ]
    },
    {
      "cell_type": "code",
      "source": [
        "from sklearn.datasets import make_blobs\n",
        "X, y_true = make_blobs(n_samples=300, centers=4,\n",
        "                       cluster_std=0.60, random_state=0)\n",
        "plt.scatter(X[:, 0], X[:, 1], s=50);"
      ],
      "metadata": {
        "colab": {
          "base_uri": "https://localhost:8080/",
          "height": 268
        },
        "id": "ekeI0eQs70Gb",
        "outputId": "4b6111d2-0076-4e8e-e4b1-388dc1987334"
      },
      "execution_count": 106,
      "outputs": [
        {
          "output_type": "display_data",
          "data": {
            "text/plain": [
              "<Figure size 432x288 with 1 Axes>"
            ],
            "image/png": "[encoded data removed]"
          },
          "metadata": {}
        }
      ]
    },
    {
      "cell_type": "code",
      "source": [
        "from sklearn.cluster import KMeans\n",
        "kmeans = KMeans(n_clusters=5)\n",
        "kmeans.fit(X)\n",
        "y_kmeans = kmeans.predict(X)"
      ],
      "metadata": {
        "colab": {
          "base_uri": "https://localhost:8080/",
          "height": 398
        },
        "id": "QhGVpjH_9EAO",
        "outputId": "873b6aca-db4c-4463-9930-c4fdfc562e09"
      },
      "execution_count": 113,
      "outputs": [
        {
          "output_type": "error",
          "ename": "ValueError",
          "evalue": "ignored",
          "traceback": [
            "\u001b[0;31m---------------------------------------------------------------------------\u001b[0m",
            "\u001b[0;31mValueError\u001b[0m                                Traceback (most recent call last)",
            "\u001b[0;32m<ipython-input-113-6e8fb304deeb>\u001b[0m in \u001b[0;36m<module>\u001b[0;34m\u001b[0m\n\u001b[1;32m      1\u001b[0m \u001b[0;32mfrom\u001b[0m \u001b[0msklearn\u001b[0m\u001b[0;34m.\u001b[0m\u001b[0mcluster\u001b[0m \u001b[0;32mimport\u001b[0m \u001b[0mKMeans\u001b[0m\u001b[0;34m\u001b[0m\u001b[0;34m\u001b[0m\u001b[0m\n\u001b[1;32m      2\u001b[0m \u001b[0mkmeans\u001b[0m \u001b[0;34m=\u001b[0m \u001b[0mKMeans\u001b[0m\u001b[0;34m(\u001b[0m\u001b[0mn_clusters\u001b[0m\u001b[0;34m=\u001b[0m\u001b[0;36m5\u001b[0m\u001b[0;34m)\u001b[0m\u001b[0;34m\u001b[0m\u001b[0;34m\u001b[0m\u001b[0m\n\u001b[0;32m----> 3\u001b[0;31m \u001b[0mkmeans\u001b[0m\u001b[0;34m.\u001b[0m\u001b[0mfit\u001b[0m\u001b[0;34m(\u001b[0m\u001b[0mX\u001b[0m\u001b[0;34m)\u001b[0m\u001b[0;34m\u001b[0m\u001b[0;34m\u001b[0m\u001b[0m\n\u001b[0m\u001b[1;32m      4\u001b[0m \u001b[0my_kmeans\u001b[0m \u001b[0;34m=\u001b[0m \u001b[0mkmeans\u001b[0m\u001b[0;34m.\u001b[0m\u001b[0mpredict\u001b[0m\u001b[0;34m(\u001b[0m\u001b[0mX\u001b[0m\u001b[0;34m)\u001b[0m\u001b[0;34m\u001b[0m\u001b[0;34m\u001b[0m\u001b[0m\n",
            "\u001b[0;32m/usr/local/lib/python3.7/dist-packages/sklearn/cluster/_kmeans.py\u001b[0m in \u001b[0;36mfit\u001b[0;34m(self, X, y, sample_weight)\u001b[0m\n\u001b[1;32m   1141\u001b[0m             \u001b[0morder\u001b[0m\u001b[0;34m=\u001b[0m\u001b[0;34m\"C\"\u001b[0m\u001b[0;34m,\u001b[0m\u001b[0;34m\u001b[0m\u001b[0;34m\u001b[0m\u001b[0m\n\u001b[1;32m   1142\u001b[0m             \u001b[0mcopy\u001b[0m\u001b[0;34m=\u001b[0m\u001b[0mself\u001b[0m\u001b[0;34m.\u001b[0m\u001b[0mcopy_x\u001b[0m\u001b[0;34m,\u001b[0m\u001b[0;34m\u001b[0m\u001b[0;34m\u001b[0m\u001b[0m\n\u001b[0;32m-> 1143\u001b[0;31m             \u001b[0maccept_large_sparse\u001b[0m\u001b[0;34m=\u001b[0m\u001b[0;32mFalse\u001b[0m\u001b[0;34m,\u001b[0m\u001b[0;34m\u001b[0m\u001b[0;34m\u001b[0m\u001b[0m\n\u001b[0m\u001b[1;32m   1144\u001b[0m         )\n\u001b[1;32m   1145\u001b[0m \u001b[0;34m\u001b[0m\u001b[0m\n",
            "\u001b[0;32m/usr/local/lib/python3.7/dist-packages/sklearn/base.py\u001b[0m in \u001b[0;36m_validate_data\u001b[0;34m(self, X, y, reset, validate_separately, **check_params)\u001b[0m\n\u001b[1;32m    564\u001b[0m             \u001b[0;32mraise\u001b[0m \u001b[0mValueError\u001b[0m\u001b[0;34m(\u001b[0m\u001b[0;34m\"Validation should be done on X, y or both.\"\u001b[0m\u001b[0;34m)\u001b[0m\u001b[0;34m\u001b[0m\u001b[0;34m\u001b[0m\u001b[0m\n\u001b[1;32m    565\u001b[0m         \u001b[0;32melif\u001b[0m \u001b[0;32mnot\u001b[0m \u001b[0mno_val_X\u001b[0m \u001b[0;32mand\u001b[0m \u001b[0mno_val_y\u001b[0m\u001b[0;34m:\u001b[0m\u001b[0;34m\u001b[0m\u001b[0;34m\u001b[0m\u001b[0m\n\u001b[0;32m--> 566\u001b[0;31m             \u001b[0mX\u001b[0m \u001b[0;34m=\u001b[0m \u001b[0mcheck_array\u001b[0m\u001b[0;34m(\u001b[0m\u001b[0mX\u001b[0m\u001b[0;34m,\u001b[0m \u001b[0;34m**\u001b[0m\u001b[0mcheck_params\u001b[0m\u001b[0;34m)\u001b[0m\u001b[0;34m\u001b[0m\u001b[0;34m\u001b[0m\u001b[0m\n\u001b[0m\u001b[1;32m    567\u001b[0m             \u001b[0mout\u001b[0m \u001b[0;34m=\u001b[0m \u001b[0mX\u001b[0m\u001b[0;34m\u001b[0m\u001b[0;34m\u001b[0m\u001b[0m\n\u001b[1;32m    568\u001b[0m         \u001b[0;32melif\u001b[0m \u001b[0mno_val_X\u001b[0m \u001b[0;32mand\u001b[0m \u001b[0;32mnot\u001b[0m \u001b[0mno_val_y\u001b[0m\u001b[0;34m:\u001b[0m\u001b[0;34m\u001b[0m\u001b[0;34m\u001b[0m\u001b[0m\n",
            "\u001b[0;32m/usr/local/lib/python3.7/dist-packages/sklearn/utils/validation.py\u001b[0m in \u001b[0;36mcheck_array\u001b[0;34m(array, accept_sparse, accept_large_sparse, dtype, order, copy, force_all_finite, ensure_2d, allow_nd, ensure_min_samples, ensure_min_features, estimator)\u001b[0m\n\u001b[1;32m    771\u001b[0m                     \u001b[0;34m\"Reshape your data either using array.reshape(-1, 1) if \"\u001b[0m\u001b[0;34m\u001b[0m\u001b[0;34m\u001b[0m\u001b[0m\n\u001b[1;32m    772\u001b[0m                     \u001b[0;34m\"your data has a single feature or array.reshape(1, -1) \"\u001b[0m\u001b[0;34m\u001b[0m\u001b[0;34m\u001b[0m\u001b[0m\n\u001b[0;32m--> 773\u001b[0;31m                     \u001b[0;34m\"if it contains a single sample.\"\u001b[0m\u001b[0;34m.\u001b[0m\u001b[0mformat\u001b[0m\u001b[0;34m(\u001b[0m\u001b[0marray\u001b[0m\u001b[0;34m)\u001b[0m\u001b[0;34m\u001b[0m\u001b[0;34m\u001b[0m\u001b[0m\n\u001b[0m\u001b[1;32m    774\u001b[0m                 )\n\u001b[1;32m    775\u001b[0m \u001b[0;34m\u001b[0m\u001b[0m\n",
            "\u001b[0;31mValueError\u001b[0m: Expected 2D array, got 1D array instead:\narray=[33.2242254 33.3345501 30.6028747 ... 42.8467993 41.1620191 43.4696167].\nReshape your data either using array.reshape(-1, 1) if your data has a single feature or array.reshape(1, -1) if it contains a single sample."
          ]
        }
      ]
    },
    {
      "cell_type": "code",
      "source": [
        "plt.scatter(X[:, 0], X[:, 1], c=y_kmeans, s=50, cmap='viridis')\n",
        "\n",
        "centers = kmeans.cluster_centers_\n",
        "plt.scatter(centers[:, 0], centers[:, 1], c='black', s=200, alpha=0.5);"
      ],
      "metadata": {
        "colab": {
          "base_uri": "https://localhost:8080/",
          "height": 268
        },
        "id": "v2vRAknm9Hnp",
        "outputId": "27fbb76b-53e9-4a0d-997e-2c47a47cabc7"
      },
      "execution_count": 110,
      "outputs": [
        {
          "output_type": "display_data",
          "data": {
            "text/plain": [
              "<Figure size 432x288 with 1 Axes>"
            ],
            "image/png": "[encoded data removed]"
          },
          "metadata": {}
        }
      ]
    },
    {
      "cell_type": "code",
      "source": [
        "from sklearn.metrics import pairwise_distances_argmin\n",
        "\n",
        "def find_clusters(X, n_clusters, rseed=2):\n",
        "    # 1. Randomly choose clusters\n",
        "    rng = np.random.RandomState(rseed)\n",
        "    i = rng.permutation(X.shape[0])[:n_clusters]\n",
        "    centers = X[i]\n",
        "    \n",
        "    while True:\n",
        "        # 2a. Assign labels based on closest center\n",
        "        labels = pairwise_distances_argmin(X, centers)\n",
        "        \n",
        "        # 2b. Find new centers from means of points\n",
        "        new_centers = np.array([X[labels == i].mean(0)\n",
        "                                for i in range(n_clusters)])\n",
        "        \n",
        "        # 2c. Check for convergence\n",
        "        if np.all(centers == new_centers):\n",
        "            break\n",
        "        centers = new_centers\n",
        "    \n",
        "    return centers, labels\n",
        "\n",
        "centers, labels = find_clusters(X, 4)\n",
        "plt.scatter(X[:, 0], X[:, 1], c=labels,\n",
        "            s=50, cmap='viridis');\n"
      ],
      "metadata": {
        "colab": {
          "base_uri": "https://localhost:8080/",
          "height": 268
        },
        "id": "HgUd1RcT9Ssn",
        "outputId": "27b93324-22f6-49a0-dd15-1cca40458f9e"
      },
      "execution_count": 111,
      "outputs": [
        {
          "output_type": "display_data",
          "data": {
            "text/plain": [
              "<Figure size 432x288 with 1 Axes>"
            ],
            "image/png": "[encoded data removed]"
          },
          "metadata": {}
        }
      ]
    },
    {
      "cell_type": "code",
      "source": [
        "centers, labels = find_clusters(X, 4, rseed=0)\n",
        "plt.scatter(X[:, 0], X[:, 1], c=labels,\n",
        "            s=50, cmap='viridis');"
      ],
      "metadata": {
        "colab": {
          "base_uri": "https://localhost:8080/",
          "height": 268
        },
        "id": "mhil4WWC9YXB",
        "outputId": "4f4c0346-bf95-4132-e0d7-0ab35bb64052"
      },
      "execution_count": 103,
      "outputs": [
        {
          "output_type": "display_data",
          "data": {
            "text/plain": [
              "<Figure size 432x288 with 1 Axes>"
            ],
            "image/png": "[encoded data removed]"
          },
          "metadata": {}
        }
      ]
    },
    {
      "cell_type": "code",
      "source": [
        "labels = KMeans(6, random_state=0).fit_predict(X)\n",
        "plt.scatter(X[:, 0], X[:, 1], c=labels,\n",
        "            s=50, cmap='viridis');"
      ],
      "metadata": {
        "colab": {
          "base_uri": "https://localhost:8080/",
          "height": 268
        },
        "id": "0GxJ6TeH9fgQ",
        "outputId": "c88debb9-4d0f-434e-87c3-59fea3d8ec8b"
      },
      "execution_count": 104,
      "outputs": [
        {
          "output_type": "display_data",
          "data": {
            "text/plain": [
              "<Figure size 432x288 with 1 Axes>"
            ],
            "image/png": "[encoded data removed]"
          },
          "metadata": {}
        }
      ]
    },
    {
      "cell_type": "markdown",
      "source": [
        "Referencias;\n",
        "\n"
      ],
      "metadata": {
        "id": "YEwnCl1F6SpM"
      }
    }
  ]
}