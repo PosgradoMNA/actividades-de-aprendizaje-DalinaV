{
  "nbformat": 4,
  "nbformat_minor": 0,
  "metadata": {
    "colab": {
      "provenance": []
    },
    "kernelspec": {
      "name": "python3",
      "display_name": "Python 3"
    },
    "language_info": {
      "name": "python"
    }
  },
  "cells": [
    {
      "cell_type": "code",
      "execution_count": 4,
      "metadata": {
        "colab": {
          "base_uri": "https://localhost:8080/"
        },
        "id": "4Dq8Tcx302ys",
        "outputId": "c4ab3a17-02c5-4e6c-fdff-a20cf5f89c1a"
      },
      "outputs": [
        {
          "output_type": "stream",
          "name": "stdout",
          "text": [
            "Cosas\n",
            "40\n",
            "2.2\n",
            "<class 'str'>\n",
            "<class 'int'>\n",
            "<class 'float'>\n",
            "Element 0 of Tuple:  1\n",
            "Element 1 of Tuple:  2\n",
            "Element 2 of Tuple:  ('yolotl', 'Pinguino')\n",
            "Element 3 of Tuple:  (3, 4)\n",
            "Element 4 of Tuple:  ('silla', (1, 2))\n",
            "Element 2, 0 of Tuple:  yolotl\n",
            "Element 2, 1 of Tuple:  Pinguino\n",
            "Element 3, 0 of Tuple:  3\n",
            "Element 3, 1 of Tuple:  4\n",
            "Element 4, 0 of Tuple:  silla\n",
            "Element 4, 1 of Tuple:  (1, 2)\n"
          ]
        },
        {
          "output_type": "execute_result",
          "data": {
            "text/plain": [
              "2"
            ]
          },
          "metadata": {},
          "execution_count": 4
        }
      ],
      "source": [
        "#####Tuples\n",
        "tuple_1 = (\"Cosas\", 40, 2.2)\n",
        "tuple_1\n",
        "type(tuple_1)\n",
        "#Indexing\n",
        "print(tuple_1[0])\n",
        "print(tuple_1[1])\n",
        "print(tuple_1[2])\n",
        "print(type(tuple_1[0]))\n",
        "print(type(tuple_1[1]))\n",
        "print(type(tuple_1[2]))\n",
        "# Negative Indexing, get the value of the last element\n",
        "\n",
        "tuple_1[-1]\n",
        "####Concatenate Tuples\n",
        "tuple_2 = tuple_1 + ('Morado', 10)\n",
        "tuple_2\n",
        "##Slicing\n",
        "tuple_2[0:3]\n",
        "# Getting the last tu element\n",
        "\n",
        "tuple_2[3:5]\n",
        "# Lenght of the tuple\n",
        "\n",
        "len(tuple_2)\n",
        "##Sorting\n",
        "results = (8, 5, 22, 57, 1, 3, 7, 48, 22, 44)\n",
        "# Sorting the tuple\n",
        "\n",
        "results_sorted = sorted(results)\n",
        "results_sorted\n",
        "##Nested Tuple\n",
        "# Create a nest tuple\n",
        "\n",
        "nested_tuple = (1, 2, ('yolotl', 'Pinguino'), (3, 4), ('silla', (1, 2)))\n",
        "# Print the element of each index\n",
        "\n",
        "print(\"Element 0 of Tuple: \", nested_tuple[0])\n",
        "print(\"Element 1 of Tuple: \", nested_tuple[1])\n",
        "print(\"Element 2 of Tuple: \", nested_tuple[2])\n",
        "print(\"Element 3 of Tuple: \", nested_tuple[3])\n",
        "print(\"Element 4 of Tuple: \", nested_tuple[4])\n",
        "# Print element on each index, including nest indexes\n",
        "\n",
        "print(\"Element 2, 0 of Tuple: \",   nested_tuple[2][0])\n",
        "print(\"Element 2, 1 of Tuple: \",   nested_tuple[2][1])\n",
        "print(\"Element 3, 0 of Tuple: \",   nested_tuple[3][0])\n",
        "print(\"Element 3, 1 of Tuple: \",   nested_tuple[3][1])\n",
        "print(\"Element 4, 0 of Tuple: \",   nested_tuple[4][0])\n",
        "print(\"Element 4, 1 of Tuple: \",   nested_tuple[4][1])\n",
        "# Print the first element in the second nested tuples\n",
        "\n",
        "nested_tuple[2][1][0]\n",
        "# Finding index\n",
        "nested_tuple.index(('yolotl', 'Pinguino'))"
      ]
    },
    {
      "cell_type": "code",
      "source": [
        "##Lists\n",
        "L = [\"Pinguino moradoo\", 3.141595, 1995]\n",
        "L\n",
        "\n",
        "# Print the elements on each index\n",
        "\n",
        "print('the same element using negative and positive indexing:\\n Postive:',L[0],\n",
        "'\\n Negative:' , L[-3]  )\n",
        "print('the same element using negative and positive indexing:\\n Postive:',L[1],\n",
        "'\\n Negative:' , L[-2]  )\n",
        "print('the same element using negative and positive indexing:\\n Postive:',L[2],\n",
        "'\\n Negative:' , L[-1]  )\n",
        "\n",
        "##List Content\n",
        "L = [\"Pinguino moradoo\", 3.1416, 1968, \"EP\", 1]\n",
        "L\n",
        "\n",
        "# Slicing a List\n",
        "L[2:4]\n",
        "[1995, 'EP']\n",
        "# Extend to add new elements to the list\n",
        "\n",
        "L = [\"Pinguino moradoo\", 1968]\n",
        "L.extend(['bonito', 10])\n",
        "L\n",
        "\n",
        "# Appen to add an elements to the list\n",
        "\n",
        "L = [\"Pinguino moradoo\", 1968]\n",
        "L.append(['bonito', 10])\n",
        "L\n",
        "\n",
        "# Change and element based on index\n",
        "\n",
        "A = ['silla', 10, 3.1416]\n",
        "print('Before change:', A)\n",
        "A[0] = 'cobija'\n",
        "print('After change:', A)\n",
        "\n",
        "# Delete an element based on its index\n",
        "\n",
        "print('Before change:', A)\n",
        "del(A[0])\n",
        "print('After change:', A)\n",
        "\n",
        "# Split a string by space\n",
        "'bonito'.split()\n",
        "\n",
        "# Split by a comma\n",
        "'1, 2, 3, 4, 5'.split(',')\n",
        "\n"
      ],
      "metadata": {
        "colab": {
          "base_uri": "https://localhost:8080/"
        },
        "id": "OHA5QQx81loR",
        "outputId": "f4f6c2fe-ece0-4934-8df1-a53dd0ded67a"
      },
      "execution_count": 6,
      "outputs": [
        {
          "output_type": "stream",
          "name": "stdout",
          "text": [
            "the same element using negative and positive indexing:\n",
            " Postive: Pinguino moradoo \n",
            " Negative: Pinguino moradoo\n",
            "the same element using negative and positive indexing:\n",
            " Postive: 3.141595 \n",
            " Negative: 3.141595\n",
            "the same element using negative and positive indexing:\n",
            " Postive: 1995 \n",
            " Negative: 1995\n",
            "Before change: ['silla', 10, 3.1416]\n",
            "After change: ['cobija', 10, 3.1416]\n",
            "Before change: ['cobija', 10, 3.1416]\n",
            "After change: [10, 3.1416]\n"
          ]
        },
        {
          "output_type": "execute_result",
          "data": {
            "text/plain": [
              "['1', ' 2', ' 3', ' 4', ' 5']"
            ]
          },
          "metadata": {},
          "execution_count": 6
        }
      ]
    },
    {
      "cell_type": "code",
      "source": [
        "##Copy and Clone List\n",
        "A = ['morado', 10, 3.1416]\n",
        "B = A\n",
        "print('A:', A)\n",
        "print('B:', B)\n",
        "\n",
        "# Copy by reference, changing value of index 0 of first list\n",
        "A[0] = 'muneca'\n",
        "B\n",
        "\n",
        "# Clone (clone by value) the list A\n",
        "B = A[:]\n",
        "B\n",
        "\n",
        "# Verify that changing list A, list B is not changing\n",
        "A[0] = 'morado'\n",
        "B\n",
        "\n",
        "# Concatenate lists\n",
        "A + B\n"
      ],
      "metadata": {
        "colab": {
          "base_uri": "https://localhost:8080/"
        },
        "id": "wLDPsAxf2_wH",
        "outputId": "800a040d-d9e9-4da3-d36e-321c660e2267"
      },
      "execution_count": 7,
      "outputs": [
        {
          "output_type": "stream",
          "name": "stdout",
          "text": [
            "A: ['morado', 10, 3.1416]\n",
            "B: ['morado', 10, 3.1416]\n"
          ]
        },
        {
          "output_type": "execute_result",
          "data": {
            "text/plain": [
              "['morado', 10, 3.1416, 'muneca', 10, 3.1416]"
            ]
          },
          "metadata": {},
          "execution_count": 7
        }
      ]
    },
    {
      "cell_type": "code",
      "source": [
        "###Sets\n",
        "cosas_moradas = {'cobija', 'silla', 'pinguino', 'tapete', 'chamarra'}\n",
        "cosas_moradas\n",
        "\n",
        "# Convert a list to a set\n",
        "galeria_list = ['compu', 'almohada', 'pinguino', 'silla']\n",
        "galeria_set = set(galeria_list)\n",
        "galeria_set\n",
        "\n",
        "####Set Operations\n",
        "A = set([\"cel\", \"agua\", \"morado\"])\n",
        "A\n",
        "\n",
        "# Add element to the set\n",
        "A.add(\"No Man\")\n",
        "A\n",
        "\n",
        "# Remove an item of the list\n",
        "A.remove(\"No Man\")\n",
        "A\n",
        "\n",
        "# Verify if exist an element in the set\n",
        "\n",
        "\"morado\" in A\n",
        "\n",
        "\n",
        "\n"
      ],
      "metadata": {
        "colab": {
          "base_uri": "https://localhost:8080/"
        },
        "id": "LkU7cbec3jC1",
        "outputId": "1a0e11a8-fa19-45dc-d6f5-9e3071c54a9c"
      },
      "execution_count": 12,
      "outputs": [
        {
          "output_type": "execute_result",
          "data": {
            "text/plain": [
              "True"
            ]
          },
          "metadata": {},
          "execution_count": 12
        }
      ]
    },
    {
      "cell_type": "code",
      "source": [
        "####Sets Logic Operations\n",
        "galeria_set1 = {'pínguino', 'burrito', 'sillita'}\n",
        "galeria_set2 = {'llavero', 'pluma azul', 'pluma morada'}\n",
        "\n",
        "galeria_set1, galeria_set2\n",
        "\n",
        "# Find the intersection\n",
        "intersection = galeria_set1 & galeria_set2\n",
        "intersection\n",
        "\n",
        "# Elements only contained in set1\n",
        "galeria_set1.difference(galeria_set2)\n",
        "\n",
        "# Elements only contained in set2\n",
        "galeria_set2.difference(galeria_set2)\n",
        "\n",
        "# Intersetion of set1 in set2\n",
        "galeria_set1.intersection(galeria_set2)\n",
        "\n",
        "# Union of set1 and set2\n",
        "galeria_set1.union(galeria_set2)\n",
        "\n",
        "# Check superset\n",
        "set(galeria_set1).issubset(galeria_set2)\n",
        "False\n",
        "# Check if subset"
      ],
      "metadata": {
        "colab": {
          "base_uri": "https://localhost:8080/"
        },
        "id": "LVL8CnAm3-6H",
        "outputId": "2fd607f4-e7c4-41e4-d983-5e3108c3eeee"
      },
      "execution_count": 8,
      "outputs": [
        {
          "output_type": "execute_result",
          "data": {
            "text/plain": [
              "False"
            ]
          },
          "metadata": {},
          "execution_count": 8
        }
      ]
    },
    {
      "cell_type": "code",
      "source": [
        "set(galeria_set2).issubset(galeria_set1)   \n",
        "\n",
        "# Another example to check if subset\n",
        "\n",
        "set({'comida'}).issubset(galeria_set2)\n",
        "\n",
        "# Another example to check if superset\n",
        "\n",
        "galeria_set1.issuperset({'comida', 'carro'})   \n"
      ],
      "metadata": {
        "colab": {
          "base_uri": "https://localhost:8080/"
        },
        "id": "w-KPncPe4A5I",
        "outputId": "8897ac2c-4924-4963-f259-6bbdab2e899b"
      },
      "execution_count": 10,
      "outputs": [
        {
          "output_type": "execute_result",
          "data": {
            "text/plain": [
              "False"
            ]
          },
          "metadata": {},
          "execution_count": 10
        }
      ]
    },
    {
      "cell_type": "markdown",
      "source": [
        "###Dictionaries"
      ],
      "metadata": {
        "id": "3_-gBzF86qwg"
      }
    },
    {
      "cell_type": "code",
      "source": [
        "# Create a dictionary\n",
        "pain_of_salvation_albums = {\"En Mexico\": \"1995\", \"morado barnie\": \"1996\", \\\n",
        "                    \"The Perfect Element Part I\": \"2000\", \"Remedy Lane\": \"2001\", \\\n",
        "                    \"BE\": \"2004\", \"Scarsick\": \"2007\", \"Road Salt One\": \"2010\", \\\n",
        "                    \"Road Salt Two\": \"2011\", \"Falling Home\": \"2014\"}\n",
        "pain_of_salvation_albums\n"
      ],
      "metadata": {
        "colab": {
          "base_uri": "https://localhost:8080/"
        },
        "id": "NuNXISbN6JSb",
        "outputId": "4f4c0b72-1ee6-455d-848e-63b2ef930ed8"
      },
      "execution_count": 14,
      "outputs": [
        {
          "output_type": "execute_result",
          "data": {
            "text/plain": [
              "{'En Mexico': '1995',\n",
              " 'morado barnie': '1996',\n",
              " 'The Perfect Element Part I': '2000',\n",
              " 'Remedy Lane': '2001',\n",
              " 'BE': '2004',\n",
              " 'Scarsick': '2007',\n",
              " 'Road Salt One': '2010',\n",
              " 'Road Salt Two': '2011',\n",
              " 'Falling Home': '2014'}"
            ]
          },
          "metadata": {},
          "execution_count": 14
        }
      ]
    },
    {
      "cell_type": "code",
      "source": [],
      "metadata": {
        "id": "3quGHoC-7Dll"
      },
      "execution_count": null,
      "outputs": []
    },
    {
      "cell_type": "code",
      "source": [
        "\n"
      ],
      "metadata": {
        "id": "Ebl2IZL76CHs"
      },
      "execution_count": 13,
      "outputs": []
    },
    {
      "cell_type": "code",
      "source": [
        "# Access to the value by key\n",
        "\n"
      ],
      "metadata": {
        "id": "3RTURfb66Vdf"
      },
      "execution_count": null,
      "outputs": []
    }
  ]
}