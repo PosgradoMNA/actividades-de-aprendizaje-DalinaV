{
  "nbformat": 4,
  "nbformat_minor": 0,
  "metadata": {
    "colab": {
      "provenance": [],
      "authorship_tag": "ABX9TyO/osByOV4MO0kP2aB7my7k",
      "include_colab_link": true
    },
    "kernelspec": {
      "name": "python3",
      "display_name": "Python 3"
    },
    "language_info": {
      "name": "python"
    }
  },
  "cells": [
    {
      "cell_type": "markdown",
      "metadata": {
        "id": "view-in-github",
        "colab_type": "text"
      },
      "source": [
        "<a href=\"https://colab.research.google.com/github/PosgradoMNA/actividades-de-aprendizaje-DalinaV/blob/main/Modulo1_%20Ejercicio1.ipynb\" target=\"_parent\"><img src=\"https://colab.research.google.com/assets/colab-badge.svg\" alt=\"Open In Colab\"/></a>"
      ]
    },
    {
      "cell_type": "code",
      "execution_count": 1,
      "metadata": {
        "colab": {
          "base_uri": "https://localhost:8080/",
          "height": 131
        },
        "id": "0N3s_5kDkBVF",
        "outputId": "79033b5c-088a-4a3f-e0fb-5bac8e878884"
      },
      "outputs": [
        {
          "output_type": "error",
          "ename": "SyntaxError",
          "evalue": "ignored",
          "traceback": [
            "\u001b[0;36m  File \u001b[0;32m\"<ipython-input-1-7723cb2978a3>\"\u001b[0;36m, line \u001b[0;32m2\u001b[0m\n\u001b[0;31m    Hello World!\u001b[0m\n\u001b[0m              ^\u001b[0m\n\u001b[0;31mSyntaxError\u001b[0m\u001b[0;31m:\u001b[0m invalid syntax\n"
          ]
        }
      ],
      "source": [
        "##Your First Program\n",
        "Hello World!\n",
        "print(\"Hello World\")\n",
        "Hello World\n",
        "print(\"Hello\\nWorld\")\n",
        "Hello\n",
        "World\n",
        "# This is a comment\n",
        "Python Version\n",
        "# Check the Python Version\n",
        "\n",
        "import sys\n",
        "print(sys.version)"
      ]
    }
  ]
}