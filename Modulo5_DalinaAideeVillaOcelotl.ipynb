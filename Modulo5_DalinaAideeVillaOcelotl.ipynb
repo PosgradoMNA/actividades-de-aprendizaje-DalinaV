{
  "nbformat": 4,
  "nbformat_minor": 0,
  "metadata": {
    "colab": {
      "provenance": [],
      "authorship_tag": "ABX9TyMBa8GUxuipOXvXmwjl2c5A",
      "include_colab_link": true
    },
    "kernelspec": {
      "name": "python3",
      "display_name": "Python 3"
    },
    "language_info": {
      "name": "python"
    }
  },
  "cells": [
    {
      "cell_type": "markdown",
      "metadata": {
        "id": "view-in-github",
        "colab_type": "text"
      },
      "source": [
        "<a href=\"https://colab.research.google.com/github/PosgradoMNA/actividades-de-aprendizaje-DalinaV/blob/main/Modulo5_DalinaAideeVillaOcelotl.ipynb\" target=\"_parent\"><img src=\"https://colab.research.google.com/assets/colab-badge.svg\" alt=\"Open In Colab\"/></a>"
      ]
    },
    {
      "cell_type": "markdown",
      "source": [
        "# **Numpy**"
      ],
      "metadata": {
        "id": "JnTNOXh-0ddr"
      }
    },
    {
      "cell_type": "code",
      "execution_count": 2,
      "metadata": {
        "colab": {
          "base_uri": "https://localhost:8080/"
        },
        "id": "8JkPAyvF0V4P",
        "outputId": "ae87082f-445a-4cc4-dc38-c3d773d25b75"
      },
      "outputs": [
        {
          "output_type": "execute_result",
          "data": {
            "text/plain": [
              "array([ 1, -1])"
            ]
          },
          "metadata": {},
          "execution_count": 2
        }
      ],
      "source": [
        "import numpy as np\n",
        "\n",
        "np.array([1,-1])*np.array([1,1])"
      ]
    },
    {
      "cell_type": "code",
      "source": [
        "np.dot(np.array([1,-1]),np.array([1,1])) #producto punto"
      ],
      "metadata": {
        "colab": {
          "base_uri": "https://localhost:8080/"
        },
        "id": "TmruWDGb3vy_",
        "outputId": "9ee4fbb8-e2d5-4881-e11f-d2b5329ff70e"
      },
      "execution_count": 3,
      "outputs": [
        {
          "output_type": "execute_result",
          "data": {
            "text/plain": [
              "0"
            ]
          },
          "metadata": {},
          "execution_count": 3
        }
      ]
    },
    {
      "cell_type": "code",
      "source": [
        "A = np.array([[1,2],[3,4],[5,6],[7,8]])\n",
        "A"
      ],
      "metadata": {
        "colab": {
          "base_uri": "https://localhost:8080/"
        },
        "id": "8AgSYxOo5c_3",
        "outputId": "6e4625cc-2ec2-4a55-f824-687625fa50e9"
      },
      "execution_count": 5,
      "outputs": [
        {
          "output_type": "execute_result",
          "data": {
            "text/plain": [
              "array([[1, 2],\n",
              "       [3, 4],\n",
              "       [5, 6],\n",
              "       [7, 8]])"
            ]
          },
          "metadata": {},
          "execution_count": 5
        }
      ]
    },
    {
      "cell_type": "code",
      "source": [
        "A = np.array([[1,2],[3,4],[5,6],[7,8]])\n",
        "\n",
        "B = np.array([[1,2,3],[4,5,6],[7,8,9]])\n",
        "\n",
        "#np.dot(A,B) No tienen las mismas dimensiones"
      ],
      "metadata": {
        "id": "iNF70bm96IAY"
      },
      "execution_count": 7,
      "outputs": []
    },
    {
      "cell_type": "markdown",
      "source": [
        "**Aplication Program interface API**"
      ],
      "metadata": {
        "id": "RzV5oRQX6ipp"
      }
    },
    {
      "cell_type": "code",
      "source": [
        "a=np.array([0,1,0,1,0])\n",
        "\n",
        "b=np.array([1,0,1,0,1])\n",
        "\n",
        "a*b"
      ],
      "metadata": {
        "colab": {
          "base_uri": "https://localhost:8080/"
        },
        "id": "doiwEIA96oCF",
        "outputId": "2dbe2887-af04-4a1f-e08f-e83c96d43867"
      },
      "execution_count": 8,
      "outputs": [
        {
          "output_type": "execute_result",
          "data": {
            "text/plain": [
              "array([0, 0, 0, 0, 0])"
            ]
          },
          "metadata": {},
          "execution_count": 8
        }
      ]
    },
    {
      "cell_type": "code",
      "source": [
        "a=np.array([0,1])\n",
        "\n",
        "b=np.array([1,0])\n",
        "\n",
        "np.dot(a,b)"
      ],
      "metadata": {
        "colab": {
          "base_uri": "https://localhost:8080/"
        },
        "id": "TJmpg7dw9_pX",
        "outputId": "7f187504-19d5-4992-e825-49b803b97ba9"
      },
      "execution_count": 9,
      "outputs": [
        {
          "output_type": "execute_result",
          "data": {
            "text/plain": [
              "0"
            ]
          },
          "metadata": {},
          "execution_count": 9
        }
      ]
    },
    {
      "cell_type": "code",
      "source": [
        "a=np.array([1,1,1,1,1])\n",
        "\n",
        "a+10"
      ],
      "metadata": {
        "colab": {
          "base_uri": "https://localhost:8080/"
        },
        "id": "z0OK8aRD-OED",
        "outputId": "d83ca813-36e0-4fba-c5f0-7e39aef1956e"
      },
      "execution_count": 10,
      "outputs": [
        {
          "output_type": "execute_result",
          "data": {
            "text/plain": [
              "array([11, 11, 11, 11, 11])"
            ]
          },
          "metadata": {},
          "execution_count": 10
        }
      ]
    }
  ]
}